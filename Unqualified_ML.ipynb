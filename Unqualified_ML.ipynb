{
  "nbformat": 4,
  "nbformat_minor": 0,
  "metadata": {
    "colab": {
      "name": "Untitled4.ipynb",
      "version": "0.3.2",
      "provenance": [],
      "collapsed_sections": [],
      "include_colab_link": true
    },
    "kernelspec": {
      "name": "python3",
      "display_name": "Python 3"
    }
  },
  "cells": [
    {
      "cell_type": "markdown",
      "metadata": {
        "id": "view-in-github",
        "colab_type": "text"
      },
      "source": [
        "<a href=\"https://colab.research.google.com/github/alejogiley/Hack7/blob/master/Untitled4.ipynb\" target=\"_parent\"><img src=\"https://colab.research.google.com/assets/colab-badge.svg\" alt=\"Open In Colab\"/></a>"
      ]
    },
    {
      "cell_type": "markdown",
      "metadata": {
        "id": "BHn__IVB5T2Q",
        "colab_type": "text"
      },
      "source": [
        "Install Anaconda"
      ]
    },
    {
      "cell_type": "code",
      "metadata": {
        "id": "3A5t5tPy5TdA",
        "colab_type": "code",
        "colab": {}
      },
      "source": [
        "#!wget -c https://repo.continuum.io/archive/Anaconda3-5.1.0-Linux-x86_64.sh\n",
        "#!chmod +x Anaconda3-5.1.0-Linux-x86_64.sh\n",
        "#!bash ./Anaconda3-5.1.0-Linux-x86_64.sh -b -f -p /usr/local\n",
        "#!conda install -q -y --prefix /usr/local -c pytorch -c tensorcomp tensor_comprehensions\n",
        "\n",
        "#import sys\n",
        "#sys.path.append('/usr/local/lib/python3.6/site-packages/')\n",
        "#ignore warning about PYTHONPATH"
      ],
      "execution_count": 0,
      "outputs": []
    },
    {
      "cell_type": "code",
      "metadata": {
        "id": "qEOdB0Sm8H9r",
        "colab_type": "code",
        "colab": {}
      },
      "source": [
        "#!conda install -q -y --prefix /usr/local -c conda-forge rdkit\n",
        "#!conda install -q -y --prefix /usr/local -c conda-forge intake\n",
        "#!conda install -q -y --prefix /usr/local pandas\n",
        "#!conda install -q -y --prefix /usr/local hvplot\n",
        "#!conda install -q -y --prefix /usr/local -c deepchem deepchem=2.1.0 python=3.6\n",
        "#pip install deepchem"
      ],
      "execution_count": 0,
      "outputs": []
    },
    {
      "cell_type": "code",
      "metadata": {
        "id": "j63gIJT98Pbs",
        "colab_type": "code",
        "colab": {}
      },
      "source": [
        "import os\n",
        "import pandas as pd\n",
        "import numpy as np\n",
        "\n",
        "import deepchem as dc\n",
        "import sklearn as sk\n",
        "\n",
        "from rdkit import RDConfig\n",
        "from rdkit import Chem\n",
        "\n",
        "from rdkit.Chem import PandasTools\n",
        "from rdkit.Chem import ChemicalFeatures\n",
        "from rdkit.Chem.Draw import IPythonConsole\n",
        "from rdkit.Chem.Crippen import MolLogP\n",
        "from rdkit.Chem.Descriptors import ExactMolWt"
      ],
      "execution_count": 0,
      "outputs": []
    },
    {
      "cell_type": "code",
      "metadata": {
        "id": "DPSfTzAF-Pyz",
        "colab_type": "code",
        "colab": {}
      },
      "source": [
        "#from google.colab import drive\n",
        "#drive.mount('/content/drive')"
      ],
      "execution_count": 0,
      "outputs": []
    },
    {
      "cell_type": "code",
      "metadata": {
        "id": "LgTzOsuO-XoJ",
        "colab_type": "code",
        "colab": {}
      },
      "source": [
        "# Load Dataset\n",
        "pp = pd.read_csv('/content/drive/My Drive/Hack 7/Gyrase/AZ_Pyrrolamides_4OE.csv', encoding='GBK') "
      ],
      "execution_count": 0,
      "outputs": []
    },
    {
      "cell_type": "code",
      "metadata": {
        "id": "maL7TRxdUJ4y",
        "colab_type": "code",
        "colab": {}
      },
      "source": [
        "# Get Mol objects\n",
        "mols = [Chem.MolFromSmiles(x) for x in pp['Molecule SMILES'].values.tolist()]"
      ],
      "execution_count": 0,
      "outputs": []
    }
  ]
}