{
  "nbformat": 4,
  "nbformat_minor": 0,
  "metadata": {
    "colab": {
      "name": "Untitled4.ipynb",
      "version": "0.3.2",
      "provenance": [],
      "collapsed_sections": [],
      "include_colab_link": true
    },
    "kernelspec": {
      "name": "python3",
      "display_name": "Python 3"
    },
    "accelerator": "GPU"
  },
  "cells": [
    {
      "cell_type": "markdown",
      "metadata": {
        "id": "view-in-github",
        "colab_type": "text"
      },
      "source": [
        "<a href=\"https://colab.research.google.com/github/alejogiley/Hack7/blob/master/Unqualified_ML.ipynb\" target=\"_parent\"><img src=\"https://colab.research.google.com/assets/colab-badge.svg\" alt=\"Open In Colab\"/></a>"
      ]
    },
    {
      "cell_type": "markdown",
      "metadata": {
        "id": "BHn__IVB5T2Q",
        "colab_type": "text"
      },
      "source": [
        "Install Anaconda"
      ]
    },
    {
      "cell_type": "code",
      "metadata": {
        "id": "3A5t5tPy5TdA",
        "colab_type": "code",
        "colab": {}
      },
      "source": [
        "#!wget -c https://repo.continuum.io/archive/Anaconda3-5.1.0-Linux-x86_64.sh\n",
        "#!chmod +x Anaconda3-5.1.0-Linux-x86_64.sh\n",
        "#!bash ./Anaconda3-5.1.0-Linux-x86_64.sh -b -f -p /usr/local\n",
        "\n",
        "#!conda install -q -y --prefix /usr/local -c omnia --no-update-deps pdbfixer=1.4\n",
        "#!conda install -q -y --prefix /usr/local -c conda-forge --no-update-deps xgboost=0.6a2\n",
        "#!conda install -q -y --prefix /usr/local -c rdkit --no-update-deps rdkit=2017.09.1\n",
        "#!conda install -q -y --prefix /usr/local -c deepchem --no-update-deps  deepchem-gpu=2.1.0\n",
        "\n",
        "#import sys\n",
        "#sys.path.append('/usr/local/lib/python3.6/site-packages/')\n",
        "#ignore warning about PYTHONPATH"
      ],
      "execution_count": 0,
      "outputs": []
    },
    {
      "cell_type": "code",
      "metadata": {
        "id": "j63gIJT98Pbs",
        "colab_type": "code",
        "colab": {}
      },
      "source": [
        "import os\n",
        "import pandas as pd\n",
        "import numpy as np\n",
        "\n",
        "#Visualization\n",
        "import matplotlib.pyplot as plt\n",
        "import seaborn as sns\n",
        "\n",
        "#Stats\n",
        "from scipy.stats import skew\n",
        "\n",
        "#Importing scikit-learn\n",
        "import sklearn as sk\n",
        "#Fill---\n",
        "from sklearn.metrics import make_scorer\n",
        "from sklearn.preprocessing import StandardScaler, RobustScaler \n",
        "from sklearn.preprocessing import Imputer\n",
        "#Normalizing\n",
        "from sklearn import preprocessing\n",
        "#Data split\n",
        "from sklearn.model_selection import train_test_split \n",
        "#Random Forest packages\n",
        "from sklearn.ensemble import RandomForestRegressor as RFR\n",
        "from sklearn.ensemble import RandomForestClassifier as RFC\n",
        "from sklearn.model_selection import GridSearchCV\n",
        "#Evaluation package\n",
        "from sklearn.metrics import accuracy_score\n",
        "\n",
        "#Importing XG_BOOST packages\n",
        "import xgboost as xg\n",
        "from xgboost import plot_importance\n",
        "\n",
        "#Importing Neural Network Packages\n",
        "from sklearn.neural_network import MLPClassifier\n",
        "\n",
        "#Importing rdkit packages\n",
        "from rdkit import RDConfig\n",
        "from rdkit import Chem\n",
        "from rdkit import DataStructs\n",
        "from rdkit.Chem import AllChem\n",
        "from rdkit.Chem import PandasTools\n",
        "from rdkit.Chem import Descriptors\n",
        "from rdkit.Chem.Draw import IPythonConsole\n",
        "from rdkit.ML.Descriptors import MoleculeDescriptors\n",
        "\n",
        "#Importing DeepChem\n",
        "import deepchem as dc"
      ],
      "execution_count": 0,
      "outputs": []
    },
    {
      "cell_type": "code",
      "metadata": {
        "id": "DPSfTzAF-Pyz",
        "colab_type": "code",
        "colab": {
          "base_uri": "https://localhost:8080/",
          "height": 34
        },
        "outputId": "5ea41b28-7f16-47cb-9c57-dc582dd09a95"
      },
      "source": [
        "from google.colab import drive\n",
        "drive.mount('/content/drive')"
      ],
      "execution_count": 5,
      "outputs": [
        {
          "output_type": "stream",
          "text": [
            "Mounted at /content/drive\n"
          ],
          "name": "stdout"
        }
      ]
    },
    {
      "cell_type": "code",
      "metadata": {
        "id": "A6DIuhTuMa1I",
        "colab_type": "code",
        "colab": {}
      },
      "source": [
        "# clean enviroment\n",
        "lst = [df, pp]\n",
        "del lst\n",
        "pp"
      ],
      "execution_count": 0,
      "outputs": []
    },
    {
      "cell_type": "code",
      "metadata": {
        "id": "LgTzOsuO-XoJ",
        "colab_type": "code",
        "colab": {
          "base_uri": "https://localhost:8080/",
          "height": 309
        },
        "outputId": "d602aa50-f22c-4ade-8e8b-ab8826e147cd"
      },
      "source": [
        "# Load Dataset\n",
        "df = pd.read_csv('/content/drive/My Drive/Hack 7/Gyrase/AZ_Pyrrolamides_4OE.csv', encoding='unicode_escape') \n",
        "df.head()"
      ],
      "execution_count": 168,
      "outputs": [
        {
          "output_type": "execute_result",
          "data": {
            "text/html": [
              "<div>\n",
              "<style scoped>\n",
              "    .dataframe tbody tr th:only-of-type {\n",
              "        vertical-align: middle;\n",
              "    }\n",
              "\n",
              "    .dataframe tbody tr th {\n",
              "        vertical-align: top;\n",
              "    }\n",
              "\n",
              "    .dataframe thead th {\n",
              "        text-align: right;\n",
              "    }\n",
              "</style>\n",
              "<table border=\"1\" class=\"dataframe\">\n",
              "  <thead>\n",
              "    <tr style=\"text-align: right;\">\n",
              "      <th></th>\n",
              "      <th>External_ID</th>\n",
              "      <th>Molecule SMILES</th>\n",
              "      <th>First Sample Reg. Date</th>\n",
              "      <th>SAU Gyr IC50 (µM)</th>\n",
              "      <th>SAU Gyr Ki (µM)</th>\n",
              "      <th>Sau516 MIC (µg/ml)</th>\n",
              "      <th>Sau516  MIC (µM)</th>\n",
              "      <th>Mean Human Prot binding (% free)</th>\n",
              "      <th>Mean LogD</th>\n",
              "      <th>Determination of pKa HA1</th>\n",
              "      <th>Determination of pKa HA2</th>\n",
              "      <th>Determination of pKa B1</th>\n",
              "      <th>Determination of pKa B2</th>\n",
              "      <th>Sirius pKa</th>\n",
              "    </tr>\n",
              "  </thead>\n",
              "  <tbody>\n",
              "    <tr>\n",
              "      <th>0</th>\n",
              "      <td>AZ1001</td>\n",
              "      <td>c1cc(c(nc1)N2CCC(CC2)NC(=O)c3cc(c([nH]3)Cl)Cl)[N+](=O)[O-]</td>\n",
              "      <td>6/10/2002</td>\n",
              "      <td>&gt;400</td>\n",
              "      <td>NaN</td>\n",
              "      <td>&gt;64</td>\n",
              "      <td>NaN</td>\n",
              "      <td>NaN</td>\n",
              "      <td>NV</td>\n",
              "      <td>NaN</td>\n",
              "      <td>NaN</td>\n",
              "      <td>NaN</td>\n",
              "      <td>NaN</td>\n",
              "      <td>NaN</td>\n",
              "    </tr>\n",
              "    <tr>\n",
              "      <th>1</th>\n",
              "      <td>AZ1002</td>\n",
              "      <td>CC(C)c1c(cc([nH]1)C(=O)NC2CCN(CC2)c3c(cccn3)[N+](=O)[O-])Br</td>\n",
              "      <td>8/16/2002</td>\n",
              "      <td>&gt;50</td>\n",
              "      <td>NaN</td>\n",
              "      <td>&gt;64</td>\n",
              "      <td>NaN</td>\n",
              "      <td>NaN</td>\n",
              "      <td>&gt;4</td>\n",
              "      <td>NaN</td>\n",
              "      <td>NaN</td>\n",
              "      <td>NaN</td>\n",
              "      <td>NaN</td>\n",
              "      <td>NaN</td>\n",
              "    </tr>\n",
              "    <tr>\n",
              "      <th>2</th>\n",
              "      <td>AZ1003</td>\n",
              "      <td>CCOC(=O)c1cc(nc(c1C#N)N2CCC(CC2)NC(=O)c3cc(c([nH]3)C)Br)C</td>\n",
              "      <td>8/16/2002</td>\n",
              "      <td>7.14</td>\n",
              "      <td>NaN</td>\n",
              "      <td>&gt;64</td>\n",
              "      <td>NaN</td>\n",
              "      <td>NaN</td>\n",
              "      <td>&gt;3.66</td>\n",
              "      <td>NaN</td>\n",
              "      <td>NaN</td>\n",
              "      <td>NaN</td>\n",
              "      <td>NaN</td>\n",
              "      <td>NaN</td>\n",
              "    </tr>\n",
              "    <tr>\n",
              "      <th>3</th>\n",
              "      <td>AZ1004</td>\n",
              "      <td>Cc1c(cc([nH]1)C(=O)NC2CCN(CC2)c3c(cccn3)C#N)Br</td>\n",
              "      <td>8/16/2002</td>\n",
              "      <td>9.93</td>\n",
              "      <td>NaN</td>\n",
              "      <td>&gt;64</td>\n",
              "      <td>NaN</td>\n",
              "      <td>NaN</td>\n",
              "      <td>&gt;3.13</td>\n",
              "      <td>NaN</td>\n",
              "      <td>NaN</td>\n",
              "      <td>NaN</td>\n",
              "      <td>NaN</td>\n",
              "      <td>NaN</td>\n",
              "    </tr>\n",
              "    <tr>\n",
              "      <th>4</th>\n",
              "      <td>AZ1005</td>\n",
              "      <td>Cc1c(cc([nH]1)C(=O)NC2CCN(CC2)c3ccc4ccccc4n3)Br</td>\n",
              "      <td>8/16/2002</td>\n",
              "      <td>3.31</td>\n",
              "      <td>NaN</td>\n",
              "      <td>&gt;64</td>\n",
              "      <td>NaN</td>\n",
              "      <td>NaN</td>\n",
              "      <td>&gt;4.07</td>\n",
              "      <td>NaN</td>\n",
              "      <td>NaN</td>\n",
              "      <td>NaN</td>\n",
              "      <td>NaN</td>\n",
              "      <td>NaN</td>\n",
              "    </tr>\n",
              "  </tbody>\n",
              "</table>\n",
              "</div>"
            ],
            "text/plain": [
              "  External_ID                                              Molecule SMILES First Sample Reg. Date SAU Gyr IC50 (µM) SAU Gyr Ki (µM) Sau516 MIC (µg/ml) Sau516  MIC (µM) Mean Human Prot binding (% free) Mean LogD  Determination of pKa HA1  Determination of pKa HA2  Determination of pKa B1  Determination of pKa B2 Sirius pKa\n",
              "0      AZ1001   c1cc(c(nc1)N2CCC(CC2)NC(=O)c3cc(c([nH]3)Cl)Cl)[N+](=O)[O-]              6/10/2002              >400             NaN                >64              NaN                              NaN        NV                       NaN                       NaN                      NaN                      NaN        NaN\n",
              "1      AZ1002  CC(C)c1c(cc([nH]1)C(=O)NC2CCN(CC2)c3c(cccn3)[N+](=O)[O-])Br              8/16/2002               >50             NaN                >64              NaN                              NaN        >4                       NaN                       NaN                      NaN                      NaN        NaN\n",
              "2      AZ1003    CCOC(=O)c1cc(nc(c1C#N)N2CCC(CC2)NC(=O)c3cc(c([nH]3)C)Br)C              8/16/2002              7.14             NaN                >64              NaN                              NaN     >3.66                       NaN                       NaN                      NaN                      NaN        NaN\n",
              "3      AZ1004               Cc1c(cc([nH]1)C(=O)NC2CCN(CC2)c3c(cccn3)C#N)Br              8/16/2002              9.93             NaN                >64              NaN                              NaN     >3.13                       NaN                       NaN                      NaN                      NaN        NaN\n",
              "4      AZ1005              Cc1c(cc([nH]1)C(=O)NC2CCN(CC2)c3ccc4ccccc4n3)Br              8/16/2002              3.31             NaN                >64              NaN                              NaN     >4.07                       NaN                       NaN                      NaN                      NaN        NaN"
            ]
          },
          "metadata": {
            "tags": []
          },
          "execution_count": 168
        }
      ]
    },
    {
      "cell_type": "code",
      "metadata": {
        "id": "maL7TRxdUJ4y",
        "colab_type": "code",
        "colab": {}
      },
      "source": [
        "# Get Smiles\n",
        "pp['Smiles'] = df['Molecule SMILES']\n",
        "pp['ProblematicSmiles'] = pd.Series()\n",
        "\n",
        "# Flag bad smiles\n",
        "def smile2mol(x):\n",
        "  m = Chem.MolFromSmiles(x)\n",
        "  if m is None:\n",
        "    return None\n",
        "  else:\n",
        "    return m\n",
        "\n",
        "# Get Mol objects \n",
        "pp['Molecule'] = pp['Smiles'].apply(lambda x: smile2mol(x))\n",
        "\n",
        "# find index of problematic smiles\n",
        "ps = [int(x) for x in range(len(pp['Mol'])) if pp['Molecule'].loc[x] is None ]\n",
        "\n",
        "# Fix problematic smiles ??\n",
        "if len(ps) > 0:\n",
        "  print(\"Having problem getting structures for these smiles:\")\n",
        "  pp['ProblematicSmiles'] = pp['Smiles'].loc[ps]\n",
        "  for i in range(len(ps)):\n",
        "    print(\"index: %i\" % ps[i], pp['ProblematicSmiles'].loc[ps[i]])"
      ],
      "execution_count": 0,
      "outputs": []
    },
    {
      "cell_type": "code",
      "metadata": {
        "id": "peo4JpIqJDE0",
        "colab_type": "code",
        "colab": {
          "base_uri": "https://localhost:8080/",
          "height": 34
        },
        "outputId": "c2fd83f4-fde6-4dbc-a46a-154d8be93aa5"
      },
      "source": [
        "# Descriptors\n",
        "descriptors = list(np.array(Descriptors._descList)[:,0])\n",
        "calculator = MoleculeDescriptors.MolecularDescriptorCalculator(descriptors) \n",
        "\n",
        "# Make is easier to identify problematic molecules later\n",
        "# e.g infity descriptor values\n",
        "def computeDescriptors(mol, calculator):\n",
        "  res = np.array(calculator.CalcDescriptors(mol))\n",
        "  if not np.all(np.isfinite(res)):\n",
        "    return None \n",
        "  return res \n",
        "\n",
        "# Selecting only non-null molecules \n",
        "pp = pp[ pp[\"Molecule\"].notnull() ]\n",
        "\n",
        "# Mapping descriptors with molecules\n",
        "pp['Descriptors'] = pp['Molecule'].map(lambda x: computeDescriptors(x, calculator)) \n",
        "\n",
        "# Flags problems\n",
        "ps = pp[\"Descriptors\"].isnull()\n",
        "print(\"{} molecules failed to get descriptors\".format(ps.sum())) \n",
        "\n",
        "# Rename columns\n",
        "des = pp[\"Descriptors\"].apply(pd.Series)\n",
        "des = des.rename(columns = lambda x : descriptors[x])"
      ],
      "execution_count": 170,
      "outputs": [
        {
          "output_type": "stream",
          "text": [
            "0 molecules failed to get descriptors\n"
          ],
          "name": "stdout"
        }
      ]
    },
    {
      "cell_type": "code",
      "metadata": {
        "id": "lQUtmUYT_xJI",
        "colab_type": "code",
        "colab": {}
      },
      "source": [
        "# Concatenating main and descriptor dataframes\n",
        "# df['SAU Gyr IC50 (µM)'] = df['SAU Gyr IC50 (µM)'].fillna((df['SAU Gyr IC50 (µM)'].mean()), inplace=True)\n",
        "dataset = pd.concat([df[[\"SAU Gyr IC50 (µM)\"]], des], axis=1)\n",
        "dataset = dataset.dropna(how ='any')"
      ],
      "execution_count": 0,
      "outputs": []
    },
    {
      "cell_type": "code",
      "metadata": {
        "id": "m7mK9oMSD95u",
        "colab_type": "code",
        "colab": {}
      },
      "source": [
        "# Create correlation matrix\n",
        "corr_matrix = df_final.corr().abs()\n",
        "\n",
        "# Select upper triangle of correlation matrix\n",
        "upper = corr_matrix.where(np.triu(np.ones(corr_matrix.shape), k=1).astype(np.bool))\n",
        "\n",
        "# Find features with correlation greater than 0.95\n",
        "to_drop = [column for column in upper.columns if any(upper[column] > 0.95)]\n",
        "\n",
        "# Drop features \n",
        "for i in to_drop:\n",
        "    df_final.drop(i, axis=1, inplace=True)"
      ],
      "execution_count": 0,
      "outputs": []
    },
    {
      "cell_type": "code",
      "metadata": {
        "id": "PQKvWoFBkef9",
        "colab_type": "code",
        "colab": {}
      },
      "source": [
        " y = new2['activity_micromolar']\n",
        "X = new2.drop('activity_micromolar',axis=1)"
      ],
      "execution_count": 0,
      "outputs": []
    },
    {
      "cell_type": "code",
      "metadata": {
        "id": "wDfyD5uPkhKg",
        "colab_type": "code",
        "colab": {}
      },
      "source": [
        "#data split based on sythesis date into train test and validation\n",
        "X_train, X_test, y_train, y_test = train_test_split(X, y, test_size=0.3, random_state=1)\n"
      ],
      "execution_count": 0,
      "outputs": []
    },
    {
      "cell_type": "code",
      "metadata": {
        "id": "q3X88qpukiBH",
        "colab_type": "code",
        "colab": {}
      },
      "source": [
        "# Define a function to calculate RMSE\n",
        "def rmse(y_true, y_pred):\n",
        "    return np.sqrt(np.mean((y_true-y_pred)**2))\n",
        "\n",
        "# Define a function to calculate negative RMSE (as a score)\n",
        "def nrmse(y_true, y_pred):\n",
        "    return -1.0*rmse(y_true, y_pred)\n",
        "\n",
        "neg_rmse = make_scorer(nrmse)\n",
        "\n",
        "estimator = XGR()\n",
        "selector = RFECV(estimator, cv = 3, n_jobs = -1, scoring = neg_rmse)\n",
        "selector = selector.fit(X_train, y_train)\n",
        "\n",
        "print(\"The number of selected features is: {}\".format(selector.n_features_))\n",
        "\n",
        "features_kept = X_train.columns.values[selector.support_] \n",
        "\n",
        "X_train = selector.transform(X_train)  \n",
        "X_test = selector.transform(X_test)"
      ],
      "execution_count": 0,
      "outputs": []
    }
  ]
}