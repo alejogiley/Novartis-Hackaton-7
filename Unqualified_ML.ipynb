{
  "nbformat": 4,
  "nbformat_minor": 0,
  "metadata": {
    "colab": {
      "name": "Untitled4.ipynb",
      "version": "0.3.2",
      "provenance": [],
      "collapsed_sections": [],
      "include_colab_link": true
    },
    "kernelspec": {
      "name": "python3",
      "display_name": "Python 3"
    },
    "accelerator": "GPU"
  },
  "cells": [
    {
      "cell_type": "markdown",
      "metadata": {
        "id": "view-in-github",
        "colab_type": "text"
      },
      "source": [
        "<a href=\"https://colab.research.google.com/github/alejogiley/Hack7/blob/master/Unqualified_ML.ipynb\" target=\"_parent\"><img src=\"https://colab.research.google.com/assets/colab-badge.svg\" alt=\"Open In Colab\"/></a>"
      ]
    },
    {
      "cell_type": "markdown",
      "metadata": {
        "id": "BHn__IVB5T2Q",
        "colab_type": "text"
      },
      "source": [
        "Install Anaconda"
      ]
    },
    {
      "cell_type": "code",
      "metadata": {
        "id": "3A5t5tPy5TdA",
        "colab_type": "code",
        "colab": {}
      },
      "source": [
        "#!wget -c https://repo.continuum.io/archive/Anaconda3-5.1.0-Linux-x86_64.sh\n",
        "#!chmod +x Anaconda3-5.1.0-Linux-x86_64.sh\n",
        "#!bash ./Anaconda3-5.1.0-Linux-x86_64.sh -b -f -p /usr/local\n",
        "\n",
        "#!conda install -q -y --prefix /usr/local -c omnia --no-update-deps pdbfixer=1.4\n",
        "#!conda install -q -y --prefix /usr/local -c conda-forge --no-update-deps xgboost=0.6a2\n",
        "#!conda install -q -y --prefix /usr/local -c rdkit --no-update-deps rdkit=2017.09.1\n",
        "#!conda install -q -y --prefix /usr/local -c deepchem --no-update-deps  deepchem-gpu=2.1.0\n",
        "\n",
        "#import sys\n",
        "#sys.path.append('/usr/local/lib/python3.6/site-packages/')\n",
        "#ignore warning about PYTHONPATH"
      ],
      "execution_count": 0,
      "outputs": []
    },
    {
      "cell_type": "code",
      "metadata": {
        "id": "j63gIJT98Pbs",
        "colab_type": "code",
        "colab": {}
      },
      "source": [
        "import os\n",
        "import pandas as pd\n",
        "import numpy as np\n",
        "\n",
        "#Visualization\n",
        "import matplotlib.pyplot as plt\n",
        "import seaborn as sns\n",
        "\n",
        "#Stats\n",
        "from scipy.stats import skew\n",
        "\n",
        "#Importing scikit-learn\n",
        "import sklearn as sk\n",
        "#Fill---\n",
        "from sklearn.metrics import make_scorer\n",
        "from sklearn.preprocessing import StandardScaler, RobustScaler \n",
        "from sklearn.preprocessing import Imputer\n",
        "#Normalizing\n",
        "from sklearn import preprocessing\n",
        "#Data split\n",
        "from sklearn.model_selection import train_test_split \n",
        "#Random Forest packages\n",
        "from sklearn.ensemble import RandomForestRegressor as RFR\n",
        "from sklearn.ensemble import RandomForestClassifier as RFC\n",
        "from sklearn.model_selection import GridSearchCV\n",
        "#Evaluation package\n",
        "from sklearn.metrics import accuracy_score\n",
        "\n",
        "#Importing XG_BOOST packages\n",
        "import xgboost as xg\n",
        "from xgboost import plot_importance\n",
        "\n",
        "#Importing Neural Network Packages\n",
        "from sklearn.neural_network import MLPClassifier\n",
        "\n",
        "#Importing rdkit packages\n",
        "from rdkit import RDConfig\n",
        "from rdkit import Chem\n",
        "from rdkit import DataStructs\n",
        "from rdkit.Chem import AllChem\n",
        "from rdkit.Chem import PandasTools\n",
        "from rdkit.Chem.Draw import IPythonConsole\n",
        "\n",
        "#Importing DeepChem\n",
        "import deepchem as dc"
      ],
      "execution_count": 0,
      "outputs": []
    },
    {
      "cell_type": "code",
      "metadata": {
        "id": "DPSfTzAF-Pyz",
        "colab_type": "code",
        "colab": {
          "base_uri": "https://localhost:8080/",
          "height": 34
        },
        "outputId": "5ea41b28-7f16-47cb-9c57-dc582dd09a95"
      },
      "source": [
        "from google.colab import drive\n",
        "drive.mount('/content/drive')"
      ],
      "execution_count": 5,
      "outputs": [
        {
          "output_type": "stream",
          "text": [
            "Mounted at /content/drive\n"
          ],
          "name": "stdout"
        }
      ]
    },
    {
      "cell_type": "code",
      "metadata": {
        "id": "LgTzOsuO-XoJ",
        "colab_type": "code",
        "colab": {
          "base_uri": "https://localhost:8080/",
          "height": 309
        },
        "outputId": "f76371b8-f8cb-4ca2-dd49-f552980f9e7f"
      },
      "source": [
        "# Load Dataset\n",
        "df = pd.read_csv('/content/drive/My Drive/Hack 7/Gyrase/AZ_Pyrrolamides_4OE.csv', encoding='unicode_escape') \n",
        "df.head()"
      ],
      "execution_count": 31,
      "outputs": [
        {
          "output_type": "execute_result",
          "data": {
            "text/html": [
              "<div>\n",
              "<style scoped>\n",
              "    .dataframe tbody tr th:only-of-type {\n",
              "        vertical-align: middle;\n",
              "    }\n",
              "\n",
              "    .dataframe tbody tr th {\n",
              "        vertical-align: top;\n",
              "    }\n",
              "\n",
              "    .dataframe thead th {\n",
              "        text-align: right;\n",
              "    }\n",
              "</style>\n",
              "<table border=\"1\" class=\"dataframe\">\n",
              "  <thead>\n",
              "    <tr style=\"text-align: right;\">\n",
              "      <th></th>\n",
              "      <th>External_ID</th>\n",
              "      <th>Molecule SMILES</th>\n",
              "      <th>First Sample Reg. Date</th>\n",
              "      <th>SAU Gyr IC50 (µM)</th>\n",
              "      <th>SAU Gyr Ki (µM)</th>\n",
              "      <th>Sau516 MIC (µg/ml)</th>\n",
              "      <th>Sau516  MIC (µM)</th>\n",
              "      <th>Mean Human Prot binding (% free)</th>\n",
              "      <th>Mean LogD</th>\n",
              "      <th>Determination of pKa HA1</th>\n",
              "      <th>Determination of pKa HA2</th>\n",
              "      <th>Determination of pKa B1</th>\n",
              "      <th>Determination of pKa B2</th>\n",
              "      <th>Sirius pKa</th>\n",
              "    </tr>\n",
              "  </thead>\n",
              "  <tbody>\n",
              "    <tr>\n",
              "      <th>0</th>\n",
              "      <td>AZ1001</td>\n",
              "      <td>c1cc(c(nc1)N2CCC(CC2)NC(=O)c3cc(c([nH]3)Cl)Cl)[N+](=O)[O-]</td>\n",
              "      <td>6/10/2002</td>\n",
              "      <td>&gt;400</td>\n",
              "      <td>NaN</td>\n",
              "      <td>&gt;64</td>\n",
              "      <td>NaN</td>\n",
              "      <td>NaN</td>\n",
              "      <td>NV</td>\n",
              "      <td>NaN</td>\n",
              "      <td>NaN</td>\n",
              "      <td>NaN</td>\n",
              "      <td>NaN</td>\n",
              "      <td>NaN</td>\n",
              "    </tr>\n",
              "    <tr>\n",
              "      <th>1</th>\n",
              "      <td>AZ1002</td>\n",
              "      <td>CC(C)c1c(cc([nH]1)C(=O)NC2CCN(CC2)c3c(cccn3)[N+](=O)[O-])Br</td>\n",
              "      <td>8/16/2002</td>\n",
              "      <td>&gt;50</td>\n",
              "      <td>NaN</td>\n",
              "      <td>&gt;64</td>\n",
              "      <td>NaN</td>\n",
              "      <td>NaN</td>\n",
              "      <td>&gt;4</td>\n",
              "      <td>NaN</td>\n",
              "      <td>NaN</td>\n",
              "      <td>NaN</td>\n",
              "      <td>NaN</td>\n",
              "      <td>NaN</td>\n",
              "    </tr>\n",
              "    <tr>\n",
              "      <th>2</th>\n",
              "      <td>AZ1003</td>\n",
              "      <td>CCOC(=O)c1cc(nc(c1C#N)N2CCC(CC2)NC(=O)c3cc(c([nH]3)C)Br)C</td>\n",
              "      <td>8/16/2002</td>\n",
              "      <td>7.14</td>\n",
              "      <td>NaN</td>\n",
              "      <td>&gt;64</td>\n",
              "      <td>NaN</td>\n",
              "      <td>NaN</td>\n",
              "      <td>&gt;3.66</td>\n",
              "      <td>NaN</td>\n",
              "      <td>NaN</td>\n",
              "      <td>NaN</td>\n",
              "      <td>NaN</td>\n",
              "      <td>NaN</td>\n",
              "    </tr>\n",
              "    <tr>\n",
              "      <th>3</th>\n",
              "      <td>AZ1004</td>\n",
              "      <td>Cc1c(cc([nH]1)C(=O)NC2CCN(CC2)c3c(cccn3)C#N)Br</td>\n",
              "      <td>8/16/2002</td>\n",
              "      <td>9.93</td>\n",
              "      <td>NaN</td>\n",
              "      <td>&gt;64</td>\n",
              "      <td>NaN</td>\n",
              "      <td>NaN</td>\n",
              "      <td>&gt;3.13</td>\n",
              "      <td>NaN</td>\n",
              "      <td>NaN</td>\n",
              "      <td>NaN</td>\n",
              "      <td>NaN</td>\n",
              "      <td>NaN</td>\n",
              "    </tr>\n",
              "    <tr>\n",
              "      <th>4</th>\n",
              "      <td>AZ1005</td>\n",
              "      <td>Cc1c(cc([nH]1)C(=O)NC2CCN(CC2)c3ccc4ccccc4n3)Br</td>\n",
              "      <td>8/16/2002</td>\n",
              "      <td>3.31</td>\n",
              "      <td>NaN</td>\n",
              "      <td>&gt;64</td>\n",
              "      <td>NaN</td>\n",
              "      <td>NaN</td>\n",
              "      <td>&gt;4.07</td>\n",
              "      <td>NaN</td>\n",
              "      <td>NaN</td>\n",
              "      <td>NaN</td>\n",
              "      <td>NaN</td>\n",
              "      <td>NaN</td>\n",
              "    </tr>\n",
              "  </tbody>\n",
              "</table>\n",
              "</div>"
            ],
            "text/plain": [
              "  External_ID  ... Sirius pKa\n",
              "0      AZ1001  ...        NaN\n",
              "1      AZ1002  ...        NaN\n",
              "2      AZ1003  ...        NaN\n",
              "3      AZ1004  ...        NaN\n",
              "4      AZ1005  ...        NaN\n",
              "\n",
              "[5 rows x 14 columns]"
            ]
          },
          "metadata": {
            "tags": []
          },
          "execution_count": 31
        }
      ]
    },
    {
      "cell_type": "code",
      "metadata": {
        "id": "maL7TRxdUJ4y",
        "colab_type": "code",
        "colab": {
          "base_uri": "https://localhost:8080/",
          "height": 241
        },
        "outputId": "2f9bffe6-f088-47ae-dd7b-5908bd5024eb"
      },
      "source": [
        "# Get Mol objects \n",
        "#[Chem.MolFromSmiles(x) for x in pp['Molecule SMILES'].values.tolist()]\n",
        "pp['smiles'] = df['Molecule SMILES']\n",
        "pp['mol'] = pp['smiles'].apply(lambda x: Chem.MolFromSmiles(x))"
      ],
      "execution_count": 37,
      "outputs": [
        {
          "output_type": "stream",
          "text": [
            "RDKit ERROR: [15:14:58] SMILES Parse Error: syntax error for input: 'Cc1c(c(c([nH]1)C(=O)NC\u0002CCN(C/C2=N\\OC)c3ncc(s3)C=O)Cl)Cl'\n",
            "RDKit ERROR: [15:14:58] SMILES Parse Error: syntax error for input: 'Cc1c(c(c([nH]1)C(=O)NC\u0002CCN(C/C2=N\\OC)c3nc(c(s3)C(=O)OCC=C)C(=O)NCCOC)Cl)Cl'\n",
            "RDKit ERROR: [15:14:58] SMILES Parse Error: syntax error for input: 'Cc1c(c(c([nH]1)C(=O)NC\u0002CCN(C/C2=N\\OC)c3nc(c(s3)C(=O)O)C(=O)NCCOC)Cl)Cl'\n",
            "RDKit ERROR: [15:14:58] SMILES Parse Error: syntax error for input: 'Cc1c(c(c([nH]1)C(=O)NC\u0002CCN(C/C2=N\\OC)c3nc(c(s3)C(=O)OC)C(=O)NC)Cl)Cl'\n",
            "RDKit ERROR: [15:14:58] SMILES Parse Error: syntax error for input: 'Cc1c(c(c([nH]1)C(=O)NC\u0002CCN(C/C2=N\\OC)c3nc(c(s3)C(=O)O)C(=O)NC)Cl)Cl'\n",
            "RDKit ERROR: [15:14:58] SMILES Parse Error: syntax error for input: 'Cc1c(c(c([nH]1)C(=O)NC\u0002CCN(C/C2=N\\OC)c3nc(c(s3)C(=O)O)c4nccn4COC)Cl)Cl'\n",
            "RDKit ERROR: [15:14:58] SMILES Parse Error: syntax error for input: 'Cc1c(c(c([nH]1)C(=O)NC\u0002CCN(C/C2=N\\OC)c3nc(c(s3)C(=O)O)c4[nH]ccn4)Cl)Cl'\n",
            "RDKit ERROR: [15:14:58] SMILES Parse Error: syntax error for input: 'Cc1c(c(c([nH]1)C(=O)NC\u0002CCN(C/C2=N\\OC)c3nc(c(s3)C(=O)O)C(=O)N)Cl)Cl'\n",
            "RDKit ERROR: [15:14:58] SMILES Parse Error: syntax error for input: 'Cc1c(c(c([nH]1)C(=O)NC\u0002CCN(C/C2=N\\OC)c3nc(c(s3)C(=O)OC)c4nccn4CCOC)Cl)Cl'\n",
            "RDKit ERROR: [15:14:58] SMILES Parse Error: syntax error for input: 'Cc1c(c(c([nH]1)C(=O)NC\u0002CCN(C/C2=N\\OC)c3nc(c(s3)C(=O)O)c4nccn4CCOC)Cl)Cl'\n",
            "RDKit ERROR: [15:14:58] SMILES Parse Error: syntax error for input: 'Cc1c(c(c([nH]1)C(=O)NC\u0002CCN(C/C2=N\\OC)c3nc(c(s3)C(=O)OC)c4ncnn4C)Cl)Cl'\n",
            "RDKit ERROR: [15:14:58] SMILES Parse Error: syntax error for input: 'Cc1c(c(c([nH]1)C(=O)NC\u0002CCN(C/C2=N\\OC)c3nc(c(s3)C(=O)O)c4ncnn4C)Cl)Cl'\n"
          ],
          "name": "stderr"
        }
      ]
    },
    {
      "cell_type": "code",
      "metadata": {
        "id": "lQUtmUYT_xJI",
        "colab_type": "code",
        "colab": {
          "base_uri": "https://localhost:8080/",
          "height": 167
        },
        "outputId": "693fbd78-8ba1-401e-e519-df513dd2c210"
      },
      "source": [
        "#Now let's see what we've got\n",
        "pp['mol'][1]"
      ],
      "execution_count": 38,
      "outputs": [
        {
          "output_type": "execute_result",
          "data": {
            "image/png": "[encoded data removed]",
            "text/plain": [
              "<rdkit.Chem.rdchem.Mol at 0x7f5f448c4a80>"
            ]
          },
          "metadata": {
            "tags": []
          },
          "execution_count": 38
        }
      ]
    },
    {
      "cell_type": "code",
      "metadata": {
        "id": "ulRRs2zq3Lp5",
        "colab_type": "code",
        "colab": {}
      },
      "source": [
        "# Get Descriptors\n"
      ],
      "execution_count": 0,
      "outputs": []
    }
  ]
}