{
  "nbformat": 4,
  "nbformat_minor": 0,
  "metadata": {
    "colab": {
      "name": "Untitled4.ipynb",
      "version": "0.3.2",
      "provenance": [],
      "include_colab_link": true
    },
    "kernelspec": {
      "name": "python3",
      "display_name": "Python 3"
    }
  },
  "cells": [
    {
      "cell_type": "markdown",
      "metadata": {
        "id": "view-in-github",
        "colab_type": "text"
      },
      "source": [
        "<a href=\"https://colab.research.google.com/github/alejogiley/Hack7/blob/master/Untitled4.ipynb\" target=\"_parent\"><img src=\"https://colab.research.google.com/assets/colab-badge.svg\" alt=\"Open In Colab\"/></a>"
      ]
    },
    {
      "cell_type": "markdown",
      "metadata": {
        "id": "BHn__IVB5T2Q",
        "colab_type": "text"
      },
      "source": [
        "Install Anaconda"
      ]
    },
    {
      "cell_type": "code",
      "metadata": {
        "id": "3A5t5tPy5TdA",
        "colab_type": "code",
        "colab": {}
      },
      "source": [
        "!wget -c https://repo.continuum.io/archive/Anaconda3-5.1.0-Linux-x86_64.sh\n",
        "!chmod +x Anaconda3-5.1.0-Linux-x86_64.sh\n",
        "!bash ./Anaconda3-5.1.0-Linux-x86_64.sh -b -f -p /usr/local\n",
        "#!conda install -q -y --prefix /usr/local -c pytorch -c tensorcomp tensor_comprehensions\n",
        "\n",
        "import sys\n",
        "sys.path.append('/usr/local/lib/python3.6/site-packages/')\n",
        "#ignore warning about PYTHONPATH"
      ],
      "execution_count": 0,
      "outputs": []
    },
    {
      "cell_type": "code",
      "metadata": {
        "id": "qEOdB0Sm8H9r",
        "colab_type": "code",
        "colab": {}
      },
      "source": [
        "!conda install -c conda-forge rdkit\n",
        "!conda install -c conda-forge intake\n",
        "!conda install pandas\n",
        "!conda install hvplot"
      ],
      "execution_count": 0,
      "outputs": []
    },
    {
      "cell_type": "code",
      "metadata": {
        "id": "j63gIJT98Pbs",
        "colab_type": "code",
        "colab": {}
      },
      "source": [
        "import rdkit\n",
        "import pandas as pd"
      ],
      "execution_count": 0,
      "outputs": []
    }
  ]
}