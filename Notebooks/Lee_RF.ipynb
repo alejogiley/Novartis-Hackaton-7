{
  "nbformat": 4,
  "nbformat_minor": 0,
  "metadata": {
    "colab": {
      "name": "Untitled6.ipynb",
      "version": "0.3.2",
      "provenance": [],
      "include_colab_link": true
    },
    "kernelspec": {
      "name": "python3",
      "display_name": "Python 3"
    }
  },
  "cells": [
    {
      "cell_type": "markdown",
      "metadata": {
        "id": "view-in-github",
        "colab_type": "text"
      },
      "source": [
        "<a href=\"https://colab.research.google.com/github/alejogiley/Novartis-Hackaton-7/blob/master/Notebooks/Lee_RF.ipynb\" target=\"_parent\"><img src=\"https://colab.research.google.com/assets/colab-badge.svg\" alt=\"Open In Colab\"/></a>"
      ]
    },
    {
      "cell_type": "markdown",
      "metadata": {
        "id": "BHn__IVB5T2Q",
        "colab_type": "text"
      },
      "source": [
        "# Predicting affinities of antibiotic candidates to a DNA Gyrase\n",
        "Dataset from article: _Pyrrolamide DNA Gyrase Inhibitors: Fragment-Based Nuclear Magnetic Resonance Screening To Identify Antibacterial Agents_ Antimicrob Agents Chemother. 2012, 56(3):1240-6.\n",
        "\n",
        "\n",
        "https://aac.asm.org/content/56/3/1240.long#sec-12"
      ]
    },
    {
      "cell_type": "code",
      "metadata": {
        "id": "KDipX-nMAOFk",
        "colab_type": "code",
        "colab": {}
      },
      "source": [
        "#!wget -c https://repo.continuum.io/archive/Anaconda3-5.1.0-Linux-x86_64.sh\n",
        "#!chmod +x Anaconda3-5.1.0-Linux-x86_64.sh\n",
        "#!bash ./Anaconda3-5.1.0-Linux-x86_64.sh -b -f -p /usr/local\n",
        "\n",
        "#!conda install -q -y --prefix /usr/local -c omnia --no-update-deps pdbfixer=1.4\n",
        "#!conda install -q -y --prefix /usr/local -c conda-forge --no-update-deps xgboost=0.6a2\n",
        "#!conda install -q -y --prefix /usr/local -c rdkit --no-update-deps rdkit=2017.09.1\n",
        "#!conda install -q -y --prefix /usr/local -c deepchem --no-update-deps  deepchem-gpu=2.1.0\n",
        "\n",
        "#import sys\n",
        "#sys.path.append('/usr/local/lib/python3.6/site-packages/')"
      ],
      "execution_count": 0,
      "outputs": []
    },
    {
      "cell_type": "code",
      "metadata": {
        "id": "GAOjjXl0Atxo",
        "colab_type": "code",
        "colab": {}
      },
      "source": [
        "import os                # operating system interfaces \n",
        "\n",
        "import numpy  as np      # scientific computing: arrays\n",
        "import scipy  as sp      # scientific computing: statistics\n",
        "import pandas as pd      # data analysis tools\n",
        "\n",
        "# Visualization & graphs\n",
        "import matplotlib.pyplot as plt\n",
        "import seaborn as sns\n",
        "\n",
        "# Deep Learning library\n",
        "import deepchem as dc\n",
        "\n",
        "# Machine Learning: randomized decision trees\n",
        "from sklearn.ensemble import RandomForestRegressor as RFR  \n",
        "from sklearn.ensemble import RandomForestClassifier as RFC\n",
        "from sklearn.metrics  import accuracy_score\n",
        "\n",
        "from rdkit import Chem               # RDKit libraries for chemistry functions\n",
        "from rdkit.Chem import Draw          # Drawing chemical structures\n",
        "from rdkit.Chem import PandasTools   # Manipulating chemical data\n",
        "from rdkit.Chem import Descriptors   # Calculate molecular descriptors\n",
        "from rdkit.Chem import rdmolops      # Additional molecular properties\n",
        "from rdkit.Chem import AllChem       # Morgan (Circular) fingerprints\n",
        "\n",
        "from rdkit.Chem.Draw import IPythonConsole           # visualizing structures\n",
        "from rdkit.ML.Descriptors import MoleculeDescriptors # molecular descriptors\n",
        "from deepchem.utils.evaluate import Evaluator"
      ],
      "execution_count": 0,
      "outputs": []
    },
    {
      "cell_type": "markdown",
      "metadata": {
        "id": "C7tXHr3V7YPA",
        "colab_type": "text"
      },
      "source": [
        "Machine Learning\n",
        "---------------------\n",
        "\n",
        "Here _Random Forest_ and _Deep Neural Network_ will be used to generated a predictive model for Gyrase inhibitors $\\log{\\text{IC50}}$ as a function of these ligands molecular properties.\n"
      ]
    },
    {
      "cell_type": "code",
      "metadata": {
        "id": "X7_WVRSM7XJu",
        "colab_type": "code",
        "colab": {
          "base_uri": "https://localhost:8080/",
          "height": 207
        },
        "outputId": "523da831-3938-45c3-d643-d2ee5c6463d0"
      },
      "source": [
        "descriptors = ['MaxEStateIndex', 'MinEStateIndex', 'MinAbsEStateIndex', 'qed', 'MolWt', 'MaxPartialCharge', 'MinPartialCharge', 'FpDensityMorgan1', 'FpDensityMorgan2', 'BalabanJ', 'BertzCT', 'HallKierAlpha', 'Kappa3', 'PEOE_VSA1', 'PEOE_VSA10', 'PEOE_VSA11', 'PEOE_VSA12', 'PEOE_VSA13', 'PEOE_VSA14', 'PEOE_VSA2', 'PEOE_VSA3', 'PEOE_VSA4', 'PEOE_VSA5', 'PEOE_VSA6', 'PEOE_VSA7', 'PEOE_VSA8', 'PEOE_VSA9', 'SMR_VSA1', 'SMR_VSA10', 'SMR_VSA2', 'SMR_VSA3', 'SMR_VSA4', 'SMR_VSA5', 'SMR_VSA6', 'SMR_VSA7', 'SMR_VSA9', 'SlogP_VSA1', 'SlogP_VSA10', 'SlogP_VSA11', 'SlogP_VSA12', 'SlogP_VSA2', 'SlogP_VSA3', 'SlogP_VSA4', 'SlogP_VSA5', 'SlogP_VSA6', 'SlogP_VSA7', 'SlogP_VSA8', 'TPSA', 'EState_VSA1', 'EState_VSA10', 'EState_VSA11', 'EState_VSA2', 'EState_VSA3', 'EState_VSA4', 'EState_VSA5', 'EState_VSA6', 'EState_VSA7', 'EState_VSA8', 'EState_VSA9', 'VSA_EState10', 'VSA_EState8', 'VSA_EState9', 'FractionCSP3', 'NHOHCount', 'NOCount', 'NumAliphaticCarbocycles', 'NumAliphaticHeterocycles', 'NumAliphaticRings', 'NumAromaticCarbocycles', 'NumAromaticHeterocycles', 'NumAromaticRings', 'NumHAcceptors', 'NumHeteroatoms', 'NumRotatableBonds', 'NumSaturatedCarbocycles', 'RingCount', 'MolLogP', 'fr_Al_COO', 'fr_Al_OH', 'fr_ArN', 'fr_Ar_COO', 'fr_Ar_N', 'fr_Ar_NH', 'fr_Ar_OH', 'fr_C_O', 'fr_C_O_noCOO', 'fr_HOCCN', 'fr_NH0', 'fr_NH1', 'fr_NH2', 'fr_N_O', 'fr_Ndealkylation1', 'fr_Ndealkylation2', 'fr_aldehyde', 'fr_alkyl_carbamate', 'fr_alkyl_halide', 'fr_allylic_oxid', 'fr_amide', 'fr_amidine', 'fr_aniline', 'fr_aryl_methyl', 'fr_azide', 'fr_bicyclic', 'fr_ester', 'fr_ether', 'fr_furan', 'fr_guanido', 'fr_halogen', 'fr_hdrzine', 'fr_imidazole', 'fr_ketone', 'fr_lactam', 'fr_methoxy', 'fr_morpholine', 'fr_nitro', 'fr_oxazole', 'fr_oxime', 'fr_para_hydroxylation', 'fr_piperdine', 'fr_piperzine', 'fr_priamide', 'fr_pyridine', 'fr_sulfide', 'fr_sulfonamd', 'fr_sulfone', 'fr_term_acetylene', 'fr_tetrazole', 'fr_thiazole', 'fr_thiophene', 'fr_unbrch_alkane', 'fr_urea']\n",
        "featurizer = dc.feat.UserDefinedFeaturizer(descriptors)    # custom features\n",
        "dataloader = dc.data.UserCSVLoader(tasks=[\"IC50\"], \n",
        "                               smiles_field=\"Smiles\", \n",
        "                               id_field=\"ID\", \n",
        "                               featurizer=featurizer,\n",
        "                               verbose=True)               # DeepChem loader class \n",
        "\n",
        "\n",
        "filepath = \"https://raw.githubusercontent.com/alejogiley/Novartis-Hackaton-7/master/Data/Gyrase/AZ_Pyrrolamides_features.csv\"\n",
        "deepdata = dataloader.featurize(filepath)                  # DeepChem dataset"
      ],
      "execution_count": 9,
      "outputs": [
        {
          "output_type": "stream",
          "text": [
            "Loading raw samples now.\n",
            "shard_size: 8192\n",
            "About to start loading CSV from https://raw.githubusercontent.com/alejogiley/Novartis-Hackaton-7/master/Data/Gyrase/AZ_Pyrrolamides_features.csv\n",
            "Loading shard 1 of size 8192.\n",
            "TIMING: user specified processing took 0.041 s\n",
            "TIMING: featurizing shard 0 took 0.054 s\n",
            "TIMING: dataset construction took 0.187 s\n",
            "Loading dataset from disk.\n"
          ],
          "name": "stdout"
        },
        {
          "output_type": "stream",
          "text": [
            "/usr/local/lib/python3.6/site-packages/deepchem/data/data_loader.py:126: FutureWarning: Method .as_matrix will be removed in a future version. Use .values instead.\n",
            "  X_shard = df.as_matrix(columns=featurizer.feature_fields)\n"
          ],
          "name": "stderr"
        }
      ]
    },
    {
      "cell_type": "markdown",
      "metadata": {
        "id": "H_uM-OUUn9ld",
        "colab_type": "text"
      },
      "source": [
        "Split the machine-learning-ready dataset into __training__, __test__ and __validation__ subsets."
      ]
    },
    {
      "cell_type": "code",
      "metadata": {
        "id": "q3X88qpukiBH",
        "colab_type": "code",
        "outputId": "2f38e9dc-54fb-476f-a133-6859990e383f",
        "colab": {
          "base_uri": "https://localhost:8080/",
          "height": 136
        }
      },
      "source": [
        "splitter = dc.splits.RandomSplitter(deepdata)                                       \n",
        "train, valid, test = splitter.train_valid_test_split(deepdata,\n",
        "                                                     frac_train=.7,\n",
        "                                                     frac_valid=.1,\n",
        "                                                     frac_test =.2)"
      ],
      "execution_count": 10,
      "outputs": [
        {
          "output_type": "stream",
          "text": [
            "Computing train/valid/test indices\n",
            "TIMING: dataset construction took 0.024 s\n",
            "Loading dataset from disk.\n",
            "TIMING: dataset construction took 0.012 s\n",
            "Loading dataset from disk.\n",
            "TIMING: dataset construction took 0.013 s\n",
            "Loading dataset from disk.\n"
          ],
          "name": "stdout"
        }
      ]
    },
    {
      "cell_type": "markdown",
      "metadata": {
        "id": "gG7zUqyZt6rc",
        "colab_type": "text"
      },
      "source": [
        "The performance of common machine-learning algorithms can be very sensitive to preprocessing of the data, neural networks mostly. Here we will normalize the features and $\\log{\\text{IC50}}$ to have zero-mean and unit-standard-deviation, using `deepchem`."
      ]
    },
    {
      "cell_type": "code",
      "metadata": {
        "id": "6PdDIQROnEIn",
        "colab_type": "code",
        "outputId": "1ab2d541-a16e-4186-be6f-32ac4a2786d9",
        "colab": {
          "base_uri": "https://localhost:8080/",
          "height": 119
        }
      },
      "source": [
        "transformers = [\n",
        "    dc.trans.NormalizationTransformer(transform_y=True, dataset=train)]\n",
        "\n",
        "for dataset in [train, valid, test]:\n",
        "    for transformer in transformers:\n",
        "        dataset = transformer.transform(dataset)"
      ],
      "execution_count": 11,
      "outputs": [
        {
          "output_type": "stream",
          "text": [
            "TIMING: dataset construction took 0.018 s\n",
            "Loading dataset from disk.\n",
            "TIMING: dataset construction took 0.007 s\n",
            "Loading dataset from disk.\n",
            "TIMING: dataset construction took 0.009 s\n",
            "Loading dataset from disk.\n"
          ],
          "name": "stdout"
        }
      ]
    },
    {
      "cell_type": "markdown",
      "metadata": {
        "id": "BeqBXuVJyGi9",
        "colab_type": "text"
      },
      "source": [
        "### Random Forest\n",
        "\n",
        "Fit the RF model using the training set"
      ]
    },
    {
      "cell_type": "code",
      "metadata": {
        "id": "cb9dJmdqyBsH",
        "colab_type": "code",
        "colab": {}
      },
      "source": [
        "sklearn_model = RFR(n_estimators=100)\n",
        "model = dc.models.SklearnModel(sklearn_model)\n",
        "model.fit(train)"
      ],
      "execution_count": 0,
      "outputs": []
    },
    {
      "cell_type": "markdown",
      "metadata": {
        "id": "VjYEgwU5zlPT",
        "colab_type": "text"
      },
      "source": [
        "Evaluate the model on the __test__ set using the Mean-Squared Error and $R^2$ scores of the predictions against the target values."
      ]
    },
    {
      "cell_type": "code",
      "metadata": {
        "colab_type": "code",
        "id": "OGMCQoOeCC_L",
        "colab": {}
      },
      "source": [
        "%%capture\n",
        "\n",
        "# MSE\n",
        "metric = dc.metrics.Metric(dc.metrics.mean_squared_error)\n",
        "train_scores = model.evaluate(train, [metric], transformers)\n",
        "test_scores  = model.evaluate(test,  [metric], transformers)"
      ],
      "execution_count": 0,
      "outputs": []
    },
    {
      "cell_type": "code",
      "metadata": {
        "id": "YheedzVcw59M",
        "colab_type": "code",
        "outputId": "9932d842-094c-4fd2-804f-5d4027477d83",
        "colab": {
          "base_uri": "https://localhost:8080/",
          "height": 51
        }
      },
      "source": [
        "print(\"MSE train scores {}\".format(train_scores['mean_squared_error']))\n",
        "print(\"MSE test  scores {}\".format(test_scores['mean_squared_error']))"
      ],
      "execution_count": 14,
      "outputs": [
        {
          "output_type": "stream",
          "text": [
            "MSE train scores 2.017737395130897\n",
            "MSE test  scores 12.477390933620446\n"
          ],
          "name": "stdout"
        }
      ]
    },
    {
      "cell_type": "code",
      "metadata": {
        "id": "OeyUky4Lw8Ml",
        "colab_type": "code",
        "colab": {}
      },
      "source": [
        "%%capture\n",
        "\n",
        "# R2\n",
        "metric = dc.metrics.Metric(dc.metrics.r2_score)\n",
        "train_scores = model.evaluate(train, [metric], transformers)\n",
        "test_scores  = model.evaluate(test,  [metric], transformers)"
      ],
      "execution_count": 0,
      "outputs": []
    },
    {
      "cell_type": "code",
      "metadata": {
        "id": "v0rGnkwYw_WC",
        "colab_type": "code",
        "outputId": "7ae1e533-ca68-427b-d9af-88a6be6afd8d",
        "colab": {
          "base_uri": "https://localhost:8080/",
          "height": 51
        }
      },
      "source": [
        "print(\"R2 train scores {}\".format(train_scores['r2_score']))\n",
        "print(\"R2 test  scores {}\".format(test_scores['r2_score']))"
      ],
      "execution_count": 16,
      "outputs": [
        {
          "output_type": "stream",
          "text": [
            "R2 train scores 0.937358728695096\n",
            "R2 test  scores 0.5637478101279899\n"
          ],
          "name": "stdout"
        }
      ]
    },
    {
      "cell_type": "code",
      "metadata": {
        "id": "lrqIf0FTyQyc",
        "colab_type": "code",
        "outputId": "456d691f-5fe6-4042-b17a-4c5f78206569",
        "colab": {
          "base_uri": "https://localhost:8080/",
          "height": 595
        }
      },
      "source": [
        "def rf_model_builder(model_params, model_dir):\n",
        "    sklearn_model = RFR(**model_params)\n",
        "    return dc.models.SklearnModel(sklearn_model, model_dir)\n",
        "\n",
        "params_dict = {\n",
        "    \"n_estimators\": [20, 100],\n",
        "    \"max_features\": [\"auto\", \"log2\", None],\n",
        "    \"n_jobs\": [2]\n",
        "}\n",
        "\n",
        "\n",
        "metric    = dc.metrics.Metric(dc.metrics.mean_squared_error)\n",
        "optimizer = dc.hyper.HyperparamOpt(rf_model_builder)\n",
        "\n",
        "best_rf, best_rf_hyperparams, all_rf_results = optimizer.hyperparam_search(\n",
        "    params_dict, train, test, transformers, metric=metric)"
      ],
      "execution_count": 17,
      "outputs": [
        {
          "output_type": "stream",
          "text": [
            "Fitting model 1/6\n",
            "hyperparameters: {'n_estimators': 20, 'max_features': 'auto', 'n_jobs': 2}\n",
            "computed_metrics: [13.608358121736323]\n",
            "Model 1/6, Metric mean_squared_error, Validation set 0: 13.608358\n",
            "\tbest_validation_score so far: 13.608358\n",
            "Fitting model 2/6\n",
            "hyperparameters: {'n_estimators': 20, 'max_features': 'log2', 'n_jobs': 2}\n",
            "computed_metrics: [13.198942314365796]\n",
            "Model 2/6, Metric mean_squared_error, Validation set 1: 13.198942\n",
            "\tbest_validation_score so far: 13.608358\n",
            "Fitting model 3/6\n",
            "hyperparameters: {'n_estimators': 20, 'max_features': None, 'n_jobs': 2}\n",
            "computed_metrics: [13.049284939874985]\n",
            "Model 3/6, Metric mean_squared_error, Validation set 2: 13.049285\n",
            "\tbest_validation_score so far: 13.608358\n",
            "Fitting model 4/6\n",
            "hyperparameters: {'n_estimators': 100, 'max_features': 'auto', 'n_jobs': 2}\n",
            "computed_metrics: [12.960832182177182]\n",
            "Model 4/6, Metric mean_squared_error, Validation set 3: 12.960832\n",
            "\tbest_validation_score so far: 13.608358\n",
            "Fitting model 5/6\n",
            "hyperparameters: {'n_estimators': 100, 'max_features': 'log2', 'n_jobs': 2}\n",
            "computed_metrics: [12.563906498118238]\n",
            "Model 5/6, Metric mean_squared_error, Validation set 4: 12.563906\n",
            "\tbest_validation_score so far: 13.608358\n",
            "Fitting model 6/6\n",
            "hyperparameters: {'n_estimators': 100, 'max_features': None, 'n_jobs': 2}\n",
            "computed_metrics: [12.853534913487355]\n",
            "Model 6/6, Metric mean_squared_error, Validation set 5: 12.853535\n",
            "\tbest_validation_score so far: 13.608358\n",
            "computed_metrics: [2.32157789596703]\n",
            "Best hyperparameters: (20, 'auto', 2)\n",
            "train_score: 2.321578\n",
            "validation_score: 13.608358\n"
          ],
          "name": "stdout"
        }
      ]
    },
    {
      "cell_type": "code",
      "metadata": {
        "id": "jp2_A9By-PlG",
        "colab_type": "code",
        "outputId": "846327ff-294a-4a55-e38b-63a25842adc1",
        "colab": {
          "base_uri": "https://localhost:8080/",
          "height": 295
        }
      },
      "source": [
        "# Correlation plot\n",
        "\n",
        "predicted_test = best_rf.predict(test)\n",
        "true_test = test.y\n",
        "plt.scatter(predicted_test, true_test)\n",
        "plt.xlabel('Predicted Log IC50')\n",
        "plt.ylabel('True Log IC50')\n",
        "plt.title(r'RF - predicted vs. true log-IC50s')\n",
        "plt.plot([-8, 3], [-8, 3], color='k')\n",
        "plt.xlim([-8, 3])\n",
        "plt.ylim([-8, 3])\n",
        "plt.show()"
      ],
      "execution_count": 24,
      "outputs": [
        {
          "output_type": "display_data",
          "data": {
            "image/png": "[encoded data removed]",
            "text/plain": [
              "<Figure size 432x288 with 1 Axes>"
            ]
          },
          "metadata": {
            "tags": []
          }
        }
      ]
    }
  ]
}