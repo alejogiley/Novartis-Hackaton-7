{
  "nbformat": 4,
  "nbformat_minor": 0,
  "metadata": {
    "colab": {
      "name": "Untitled7.ipynb",
      "version": "0.3.2",
      "provenance": [],
      "include_colab_link": true
    },
    "kernelspec": {
      "name": "python3",
      "display_name": "Python 3"
    },
    "accelerator": "GPU"
  },
  "cells": [
    {
      "cell_type": "markdown",
      "metadata": {
        "id": "view-in-github",
        "colab_type": "text"
      },
      "source": [
        "<a href=\"https://colab.research.google.com/github/alejogiley/Novartis-Hackaton-7/blob/master/Notebooks/Lee_NN.ipynb\" target=\"_parent\"><img src=\"https://colab.research.google.com/assets/colab-badge.svg\" alt=\"Open In Colab\"/></a>"
      ]
    },
    {
      "cell_type": "markdown",
      "metadata": {
        "id": "BHn__IVB5T2Q",
        "colab_type": "text"
      },
      "source": [
        "# Predicting affinities of antibiotic candidates to a DNA Gyrase"
      ]
    },
    {
      "cell_type": "markdown",
      "metadata": {
        "id": "psUD7Ct3IxDH",
        "colab_type": "text"
      },
      "source": [
        "### Anaconda installation"
      ]
    },
    {
      "cell_type": "code",
      "metadata": {
        "id": "KDipX-nMAOFk",
        "colab_type": "code",
        "colab": {
          "base_uri": "https://localhost:8080/",
          "height": 0
        },
        "outputId": "2db2470c-bf06-4d70-b8d5-3d5aa0c8c97d"
      },
      "source": [
        "#!wget -c https://repo.continuum.io/archive/Anaconda3-5.1.0-Linux-x86_64.sh\n",
        "#!chmod +x Anaconda3-5.1.0-Linux-x86_64.sh\n",
        "#!bash ./Anaconda3-5.1.0-Linux-x86_64.sh -b -f -p /usr/local\n",
        "\n",
        "#!conda install -q -y --prefix /usr/local -c omnia --no-update-deps pdbfixer=1.4\n",
        "#!conda install -q -y --prefix /usr/local -c conda-forge --no-update-deps xgboost=0.6a2\n",
        "#!conda install -q -y --prefix /usr/local -c rdkit --no-update-deps rdkit=2017.09.1\n",
        "#!conda install -q -y --prefix /usr/local -c deepchem --no-update-deps  deepchem-gpu=2.1.0\n",
        "\n",
        "#import sys\n",
        "#sys.path.append('/usr/local/lib/python3.6/site-packages/')\n",
        "\n",
        "!pip install keras_sequential_ascii"
      ],
      "execution_count": 76,
      "outputs": [
        {
          "output_type": "stream",
          "text": [
            "Requirement already satisfied: keras_sequential_ascii in /usr/local/lib/python3.6/dist-packages (0.1.1)\n",
            "Requirement already satisfied: keras in /usr/local/lib/python3.6/dist-packages (from keras_sequential_ascii) (2.2.4)\n",
            "Requirement already satisfied: keras-preprocessing>=1.0.5 in /usr/local/lib/python3.6/dist-packages (from keras->keras_sequential_ascii) (1.1.0)\n",
            "Requirement already satisfied: pyyaml in /usr/local/lib/python3.6/dist-packages (from keras->keras_sequential_ascii) (3.13)\n",
            "Requirement already satisfied: keras-applications>=1.0.6 in /usr/local/lib/python3.6/dist-packages (from keras->keras_sequential_ascii) (1.0.8)\n",
            "Requirement already satisfied: six>=1.9.0 in /usr/local/lib/python3.6/dist-packages (from keras->keras_sequential_ascii) (1.12.0)\n",
            "Requirement already satisfied: h5py in /usr/local/lib/python3.6/dist-packages (from keras->keras_sequential_ascii) (2.8.0)\n",
            "Requirement already satisfied: numpy>=1.9.1 in /usr/local/lib/python3.6/dist-packages (from keras->keras_sequential_ascii) (1.16.4)\n",
            "Requirement already satisfied: scipy>=0.14 in /usr/local/lib/python3.6/dist-packages (from keras->keras_sequential_ascii) (1.3.1)\n"
          ],
          "name": "stdout"
        }
      ]
    },
    {
      "cell_type": "markdown",
      "metadata": {
        "id": "DoBrxoKE3LfC",
        "colab_type": "text"
      },
      "source": [
        "### Dependencies"
      ]
    },
    {
      "cell_type": "code",
      "metadata": {
        "id": "4ksekxnts6Lq",
        "colab_type": "code",
        "colab": {}
      },
      "source": [
        "import os\n",
        "\n",
        "import numpy  as np      # scientific computing: arrays\n",
        "import scipy  as sp      # scientific computing: statistics\n",
        "import pandas as pd      # data analysis tools\n",
        "\n",
        "# Tensor operations\n",
        "import tensorflow as tf\n",
        "import keras.backend as K\n",
        "\n",
        "# Neural Network\n",
        "from keras.models import Sequential\n",
        "from keras.layers import Dropout, BatchNormalization\n",
        "from keras.layers import Dense, Activation\n",
        "from keras.optimizers import Adam, SGD\n",
        "from keras.initializers import RandomUniform\n",
        "from keras_sequential_ascii import keras2ascii\n",
        "\n",
        "# Data processing & Cross-validation\n",
        "from sklearn import preprocessing\n",
        "from sklearn.model_selection import train_test_split \n",
        "from sklearn.model_selection import KFold\n",
        "\n",
        "# Stats\n",
        "from scipy.stats import linregress, kendalltau, spearmanr\n",
        "from sklearn.metrics import mean_absolute_error, mean_squared_error\n",
        "\n",
        "# Visualization\n",
        "import seaborn as sns\n",
        "import matplotlib.pyplot as plt\n",
        "\n",
        "# Set random seed\n",
        "np.random.seed(84)"
      ],
      "execution_count": 0,
      "outputs": []
    },
    {
      "cell_type": "markdown",
      "metadata": {
        "id": "A0j_1SHZYH7D",
        "colab_type": "text"
      },
      "source": [
        "### Functions"
      ]
    },
    {
      "cell_type": "code",
      "metadata": {
        "id": "xZkapqVuI9gk",
        "colab_type": "code",
        "colab": {}
      },
      "source": [
        "def plot_eval(model):\n",
        "    \n",
        "    plt.rcParams[\"figure.figsize\"] = (18,6)\n",
        "    fig, ax = plt.subplots()\n",
        "    \n",
        "    c = 'blue'                                   # train -- blue\n",
        "    ax.scatter(y_train, model.predict(x_train),\n",
        "               s=65, c=c, zorder=10, edgecolors='k')\n",
        "    c = 'red'                                    # tests -- red\n",
        "    ax.scatter(y_test,  model.predict(x_test),\n",
        "               s=65, c=c, cmap=plt.cm.coolwarm, \n",
        "               zorder=10, edgecolors='k')\n",
        "    \n",
        "    ax.set_xlabel(\"pIC50 experimental\", fontsize=16)\n",
        "    ax.set_ylabel(\"pIC50 prediction\",   fontsize=16)\n",
        "    \n",
        "    lims = [\n",
        "        np.min([ax.get_xlim(), ax.get_ylim()]),  # min of both axes\n",
        "        np.max([ax.get_xlim(), ax.get_ylim()]),  # max of both axes\n",
        "    ]\n",
        "    \n",
        "    # now plot both limits against eachother\n",
        "    ax.plot(lims, lims, 'k-', alpha=0.75, zorder=0)\n",
        "    ax.set_aspect('equal')\n",
        "    ax.set_xlim(lims)\n",
        "    ax.set_ylim(lims)\n",
        "    \n",
        "    # integer limits\n",
        "    ilims = [int(x+0.5) for x in lims]\n",
        "    ax.set_xticks(np.arange(*ilims,2))\n",
        "    ax.set_yticks(np.arange(*ilims,2))\n",
        "    \n",
        "    # We change the fontsize of minor ticks label \n",
        "    ax.tick_params(axis='both', which='major', labelsize=14)\n",
        "    ax.tick_params(axis='both', which='major', labelsize=14)\n",
        "    \n",
        "    plt.show()"
      ],
      "execution_count": 0,
      "outputs": []
    },
    {
      "cell_type": "code",
      "metadata": {
        "id": "EwGJl-kbYS6H",
        "colab_type": "code",
        "colab": {}
      },
      "source": [
        "def plot_valid(models, titles):\n",
        "    \n",
        "    fig, axes = plt.subplots(2, 2, sharey=False)\n",
        "    \n",
        "    i = 0\n",
        "    a = 0\n",
        "    b = 0\n",
        "    \n",
        "    for model in models:\n",
        "        \n",
        "        a  = int(i%2)\n",
        "        b  = int(i/2)\n",
        "        ax = axes[a, b]\n",
        "        \n",
        "        ax.title.set_text(titles[i])\n",
        "        i += 1\n",
        "        \n",
        "        c = vy.astype(int)\n",
        "        ax.scatter(vy,  model.predict(vx),\n",
        "                   s=65, c=c, cmap=plt.cm.coolwarm, \n",
        "                   zorder=10, edgecolors='k')\n",
        "        \n",
        "        ax.set_xlabel(\"pIC50 experimental\", fontsize=16)\n",
        "        ax.set_ylabel(\"pIC50 prediction\",   fontsize=16)\n",
        "        \n",
        "        lims = [\n",
        "            np.min([ax.get_xlim(), ax.get_ylim()]),  # min of both axes\n",
        "            np.max([ax.get_xlim(), ax.get_ylim()]),  # max of both axes\n",
        "        ]\n",
        "        \n",
        "        # now plot both limits against eachother\n",
        "        ax.plot(lims, lims, 'k-', alpha=0.75, zorder=0)\n",
        "        ax.set_aspect('equal')\n",
        "        ax.set_xlim(lims)\n",
        "        ax.set_ylim(lims)\n",
        "        \n",
        "        # integer limits\n",
        "        ilims = [int(x+0.5) for x in lims]\n",
        "        ax.set_xticks(np.arange(*ilims,2))\n",
        "        ax.set_yticks(np.arange(*ilims,2))\n",
        "        \n",
        "        # We change the fontsize of minor ticks label \n",
        "        ax.tick_params(axis='both', which='major', labelsize=14)\n",
        "        ax.tick_params(axis='both', which='major', labelsize=14)\n",
        "        \n",
        "    plt.show()"
      ],
      "execution_count": 0,
      "outputs": []
    },
    {
      "cell_type": "code",
      "metadata": {
        "id": "jShC7kQE6Ilp",
        "colab_type": "code",
        "colab": {}
      },
      "source": [
        "def Standarize(x):\n",
        "    x = (x - x.mean(axis=0)) / x.std(axis=0)\n",
        "    return x"
      ],
      "execution_count": 0,
      "outputs": []
    },
    {
      "cell_type": "code",
      "metadata": {
        "id": "97eR-gYMNUG4",
        "colab_type": "code",
        "colab": {}
      },
      "source": [
        "def Normalize(x):\n",
        "    #Tanh Estimator\n",
        "    x = Standarize(x)\n",
        "    return 0.5 * np.tanh(0.01 * x)"
      ],
      "execution_count": 0,
      "outputs": []
    },
    {
      "cell_type": "markdown",
      "metadata": {
        "id": "dfMNg6kwHLRO",
        "colab_type": "text"
      },
      "source": [
        "## <font color='green'>Data Processing</font>"
      ]
    },
    {
      "cell_type": "markdown",
      "metadata": {
        "id": "JRXDV7lBigWO",
        "colab_type": "text"
      },
      "source": [
        "### Read IC50 data"
      ]
    },
    {
      "cell_type": "code",
      "metadata": {
        "id": "X7_WVRSM7XJu",
        "colab_type": "code",
        "colab": {}
      },
      "source": [
        "# load features dataset\n",
        "filepath = \"https://raw.githubusercontent.com/alejogiley/Novartis-Hackaton-7/master/Data/Gyrase/AZ_Pyrrolamides_features_final.csv\"\n",
        "datasets = pd.read_csv(filepath)\n",
        "\n",
        "# rename\n",
        "datasets.rename(columns={'SAU Gyr IC50 (礛)':'pIC50'}, inplace=True)\n",
        "\n",
        "pattern = \"[<]\"\n",
        "filters = datasets.pIC50.str.contains(pattern)\n",
        "datasets[\"left_saturated\"] = filters\n",
        "\n",
        "pattern = \"[>]\"\n",
        "filters = datasets.pIC50.str.contains(pattern)\n",
        "datasets[\"right_saturated\"] = filters\n",
        "\n",
        "# Reorder dataframe\n",
        "cols = datasets.columns.tolist()\n",
        "cols = cols[:2] + cols[-2:] + cols[2:-2]\n",
        "datasets = datasets[cols]\n",
        "\n",
        "datasets['pIC50'] = datasets['pIC50'].str.replace(r'[><]', '')\n",
        "datasets['pIC50'] = datasets['pIC50'].apply(lambda x: np.log(float(x)))\n",
        "\n",
        "# drop Ipc\n",
        "datasets.drop(['Ipc'], axis=1, inplace=True)\n",
        "cols.remove('Ipc')\n",
        "\n",
        "# remove fraction-features\n",
        "datasets.drop(cols[76:], axis=1, inplace=True)"
      ],
      "execution_count": 0,
      "outputs": []
    },
    {
      "cell_type": "markdown",
      "metadata": {
        "id": "3cej1rPmHVK1",
        "colab_type": "text"
      },
      "source": [
        "Check features."
      ]
    },
    {
      "cell_type": "code",
      "metadata": {
        "id": "Tp4icQsDxAZK",
        "colab_type": "code",
        "outputId": "60a2a352-c5db-45d7-9f4b-aca3cdbcdd39",
        "colab": {
          "base_uri": "https://localhost:8080/",
          "height": 289
        }
      },
      "source": [
        "corr = datasets.corr()\n",
        "corr.loc[(corr['pIC50'] >= 0.4) | (corr['pIC50'] <= -0.4)]['pIC50'][1:]"
      ],
      "execution_count": 94,
      "outputs": [
        {
          "output_type": "execute_result",
          "data": {
            "text/plain": [
              "qed                        0.491180\n",
              "MolWt                     -0.526664\n",
              "BertzCT                   -0.503721\n",
              "PEOE_VSA1                 -0.450455\n",
              "PEOE_VSA3                 -0.465307\n",
              "SMR_VSA1                  -0.427446\n",
              "SlogP_VSA2                -0.509821\n",
              "TPSA                      -0.533955\n",
              "EState_VSA2               -0.467875\n",
              "VSA_EState9               -0.454508\n",
              "NOCount                   -0.529112\n",
              "NumAromaticHeterocycles   -0.400436\n",
              "NumHAcceptors             -0.487935\n",
              "NumHeteroatoms            -0.593323\n",
              "NumRotatableBonds         -0.463759\n",
              "Name: pIC50, dtype: float64"
            ]
          },
          "metadata": {
            "tags": []
          },
          "execution_count": 94
        }
      ]
    },
    {
      "cell_type": "code",
      "metadata": {
        "id": "oOPPXCHl9j3T",
        "colab_type": "code",
        "colab": {}
      },
      "source": [
        "cols = datasets.columns.tolist()\n",
        "\n",
        "# Drop empty columns\n",
        "for col in cols:\n",
        "    if datasets[col].sum() == 0:\n",
        "        datasets.drop([col], axis=1, inplace=True)"
      ],
      "execution_count": 0,
      "outputs": []
    },
    {
      "cell_type": "code",
      "metadata": {
        "id": "xgNgnssm-QJw",
        "colab_type": "code",
        "colab": {}
      },
      "source": [
        "# Create correlation matrix\n",
        "corr_matrix = datasets.corr().abs()\n",
        "\n",
        "# Select upper triangle of correlation matrix\n",
        "upper = corr_matrix.where(np.triu(np.ones(corr_matrix.shape), k=1).astype(np.bool))\n",
        "\n",
        "# Find features with correlation greater than 0.95\n",
        "to_drop = [column for column in upper.columns if any(upper[column] > 0.95)]\n",
        "\n",
        "# Drop features \n",
        "for col in to_drop:\n",
        "    datasets.drop(col, axis=1, inplace=True)"
      ],
      "execution_count": 0,
      "outputs": []
    },
    {
      "cell_type": "code",
      "metadata": {
        "id": "xswfc23X-gaj",
        "colab_type": "code",
        "colab": {
          "base_uri": "https://localhost:8080/",
          "height": 34
        },
        "outputId": "dde36983-8035-46be-c166-04c1ba3016c9"
      },
      "source": [
        "# How many descriptors were removed\n",
        "old = len(cols[4:])\n",
        "new = len(datasets.columns.tolist()[4:])\n",
        "print(\"%i descriptors were removed\" % (old - new))\n",
        "\n",
        "# Update descriptors list\n",
        "descriptors = datasets.columns.tolist()[4:]"
      ],
      "execution_count": 97,
      "outputs": [
        {
          "output_type": "stream",
          "text": [
            "0 descriptors were removed\n"
          ],
          "name": "stdout"
        }
      ]
    },
    {
      "cell_type": "markdown",
      "metadata": {
        "id": "yMKJ6GI_ilIC",
        "colab_type": "text"
      },
      "source": [
        "### Splitting"
      ]
    },
    {
      "cell_type": "markdown",
      "metadata": {
        "id": "H_uM-OUUn9ld",
        "colab_type": "text"
      },
      "source": [
        "Split the machine-learning-ready dataset into __training__, __test__ and __validation__ subsets."
      ]
    },
    {
      "cell_type": "code",
      "metadata": {
        "id": "q3X88qpukiBH",
        "colab_type": "code",
        "colab": {}
      },
      "source": [
        "# Input and Output\n",
        "\n",
        "y = datasets['pIC50'].copy()\n",
        "y = y.astype('float64').to_numpy()\n",
        "\n",
        "x = datasets[descriptors].copy()\n",
        "x = x.astype('float64').to_numpy()\n",
        "\n",
        "# S: qualifiers classification\n",
        "\n",
        "s1 = datasets['left_saturated' ].apply(lambda x: x*1).copy()\n",
        "s2 = datasets['right_saturated'].apply(lambda x: x*1).copy()\n",
        "\n",
        "s1 = s1.to_numpy()\n",
        "s2 = s2.to_numpy()\n",
        "\n",
        "s0 = s1 + s2\n",
        "\n",
        "# CUTOFFS: > greater\n",
        "\n",
        "rcutoff = s2 * datasets['pIC50'].copy().astype('float64')\n",
        "rcutoff = rcutoff.to_numpy()\n",
        "\n",
        "# CUTOFFS: < lower\n",
        "\n",
        "lcutoff = s1 * datasets['pIC50'].copy().astype('float64')\n",
        "lcutoff = lcutoff.to_numpy()"
      ],
      "execution_count": 0,
      "outputs": []
    },
    {
      "cell_type": "code",
      "metadata": {
        "colab_type": "code",
        "id": "JaJyn90mKbq-",
        "colab": {}
      },
      "source": [
        "# split dataset and update \\\n",
        "# qualifiers S and CUTOFFS\n",
        "\n",
        "f = np.vstack((x.T, lcutoff, rcutoff, s1, s2, s0)).T\n",
        "f_train, f_test, y_train, y_test = train_test_split(f, y, test_size=0.2, random_state=84)\n",
        "\n",
        "x_test  = f_test[:,: -5]\n",
        "x_train = f_train[:,:-5]\n",
        "\n",
        "s0_train = f_train[:,-1]\n",
        "s2_train = f_train[:,-2]\n",
        "s1_train = f_train[:,-3]\n",
        "\n",
        "rcutoff_train = f_train[:,-4]\n",
        "lcutoff_train = f_train[:,-5]\n",
        "\n",
        "# Normalized features\n",
        "# tanh normalization\n",
        "\n",
        "x_train = Normalize(x_train)\n",
        "x_test  = Normalize(x_test) \n"
      ],
      "execution_count": 0,
      "outputs": []
    },
    {
      "cell_type": "markdown",
      "metadata": {
        "id": "Cd4mpqOQIJBr",
        "colab_type": "text"
      },
      "source": [
        "## <font color='green'>Neural Network</font>\n",
        "\n",
        "A simple Fully Connected Neural Network"
      ]
    },
    {
      "cell_type": "markdown",
      "metadata": {
        "id": "adH-v8aYok6h",
        "colab_type": "text"
      },
      "source": [
        "### <font color='blue'>LOSS FUNCTION (with censored data)</font>"
      ]
    },
    {
      "cell_type": "code",
      "metadata": {
        "id": "5kDEaySUojyg",
        "colab_type": "code",
        "colab": {}
      },
      "source": [
        "def custom_loss(y_true, y_pred):\n",
        "    # get deltas\n",
        "    z = y_pred - y_true\n",
        "    r = y_pred - rcutoff_train\n",
        "    l = y_pred - lcutoff_train\n",
        "    # qualifiers adjusted Loss function\n",
        "    norm = (1 - s0_train) * K.square(z)\n",
        "    righ = s2_train * K.relu(K.sign(r) * K.square(r))\n",
        "    left = s1_train * K.relu(K.sign(l) * K.square(l))\n",
        "    # return mean value\n",
        "    return K.mean( norm + left + righ, axis=-1)"
      ],
      "execution_count": 0,
      "outputs": []
    },
    {
      "cell_type": "markdown",
      "metadata": {
        "id": "gG7zUqyZt6rc",
        "colab_type": "text"
      },
      "source": [
        "### Fully Connected Net"
      ]
    },
    {
      "cell_type": "code",
      "metadata": {
        "id": "ODU3luRZ2bvE",
        "colab_type": "code",
        "colab": {}
      },
      "source": [
        "#The performance of common machine-learning algorithms can be very sensitive \n",
        "#to preprocessing of the data, neural networks mostly. Here we will normalize \n",
        "#the features and log(IC50) to have zero-mean and unit-standard-deviation \n",
        "#BatchNormalization\n",
        "\n",
        "# Function to create model\n",
        "\n",
        "def create_model(x):\n",
        "    # create model\n",
        "    model = Sequential()\n",
        "    # input layer\n",
        "    model.add(Dense(units=100, \n",
        "                    input_shape=(x, ), \n",
        "                    kernel_initializer='random_uniform',\n",
        "                    bias_initializer='ones'))\n",
        "    model.add(Dropout(0.2))\n",
        "    model.add(Activation(\"relu\"))\n",
        "    model.add(BatchNormalization())\n",
        "    \n",
        "    # hidden layer\n",
        "    model.add(Dense(units=50))\n",
        "    model.add(Dropout(0.2))\n",
        "    model.add(Activation(\"relu\"))\n",
        "    # hidden layer\n",
        "    model.add(Dense(units=25))\n",
        "    model.add(Dropout(0.2))\n",
        "    model.add(Activation(\"relu\"))\n",
        "    # output layer\n",
        "    model.add(Dense(units=1, activation='linear'))\n",
        "    \n",
        "    model.compile(loss=custom_loss,                     # Custom loss function\n",
        "                  optimizer=Adam(lr=1e-3, decay=1e-6),  # Adam optimizer\n",
        "                  metrics=['mse']) \t                    # measure performace\n",
        "    return model"
      ],
      "execution_count": 0,
      "outputs": []
    },
    {
      "cell_type": "code",
      "metadata": {
        "id": "qKWmLyDbPcrC",
        "colab_type": "code",
        "colab": {}
      },
      "source": [
        "%%capture\n",
        "\n",
        "# input dimensions\n",
        "input_dim = x_train.shape[1]\n",
        "\n",
        "# Clearing the NN\n",
        "network = None \n",
        "network = create_model(input_dim) "
      ],
      "execution_count": 0,
      "outputs": []
    },
    {
      "cell_type": "code",
      "metadata": {
        "id": "LB060oRDrLbL",
        "colab_type": "code",
        "colab": {
          "base_uri": "https://localhost:8080/",
          "height": 340
        },
        "outputId": "c8966f8c-0219-4a3d-987c-2d47cdab581a"
      },
      "source": [
        "# Visulaize\n",
        "keras2ascii(network)"
      ],
      "execution_count": 138,
      "outputs": [
        {
          "output_type": "stream",
          "text": [
            "           OPERATION           DATA DIMENSIONS   WEIGHTS(N)   WEIGHTS(%)\n",
            "\n",
            "               Input   #####          72\n",
            "               Dense   XXXXX -------------------      7300    52.0%\n",
            "                       #####         100\n",
            "             Dropout    | || -------------------         0     0.0%\n",
            "                relu   #####         100\n",
            "  BatchNormalization    μ|σ  -------------------       400     2.8%\n",
            "                       #####         100\n",
            "               Dense   XXXXX -------------------      5050    35.9%\n",
            "                       #####          50\n",
            "             Dropout    | || -------------------         0     0.0%\n",
            "                relu   #####          50\n",
            "               Dense   XXXXX -------------------      1275     9.1%\n",
            "                       #####          25\n",
            "             Dropout    | || -------------------         0     0.0%\n",
            "                relu   #####          25\n",
            "               Dense   XXXXX -------------------        26     0.2%\n",
            "                       #####           1\n"
          ],
          "name": "stdout"
        }
      ]
    },
    {
      "cell_type": "markdown",
      "metadata": {
        "id": "O6AqbU5hpdr1",
        "colab_type": "text"
      },
      "source": [
        "### Run Lola, Run\n",
        "\n",
        "Parameters are not optimized! No Grid search."
      ]
    },
    {
      "cell_type": "code",
      "metadata": {
        "id": "V5Ce2Fu0pu_t",
        "colab_type": "code",
        "colab": {}
      },
      "source": [
        "%%capture\n",
        "\n",
        "# Train neural network\n",
        "history = network.fit(x_train,                          # Features\n",
        "                      y_train,                          # Target\n",
        "                      epochs=1000,                      # Number of epochs\n",
        "                      verbose=0,                        # No output\n",
        "                      batch_size=100,                   # Number of observations per batch\n",
        "                      validation_data=(x_test, y_test)) # Data for evaluation"
      ],
      "execution_count": 0,
      "outputs": []
    },
    {
      "cell_type": "markdown",
      "metadata": {
        "id": "94SB008avqlS",
        "colab_type": "text"
      },
      "source": [
        "### Save model"
      ]
    },
    {
      "cell_type": "code",
      "metadata": {
        "id": "DWcN9gNrvph1",
        "colab_type": "code",
        "colab": {
          "base_uri": "https://localhost:8080/",
          "height": 34
        },
        "outputId": "8df07d61-44d7-479b-d1a0-264ecb8e1e0b"
      },
      "source": [
        "network.save(\"/content/network.h5\")\n",
        "print(\"Saved model to disk\")"
      ],
      "execution_count": 126,
      "outputs": [
        {
          "output_type": "stream",
          "text": [
            "Saved model to disk\n"
          ],
          "name": "stdout"
        }
      ]
    },
    {
      "cell_type": "markdown",
      "metadata": {
        "id": "kM7ZUvTA4-tI",
        "colab_type": "text"
      },
      "source": [
        "### <font color='red'>Load model</font>\n"
      ]
    },
    {
      "cell_type": "code",
      "metadata": {
        "id": "B2MsmHNM5BlU",
        "colab_type": "code",
        "colab": {}
      },
      "source": [
        "#network = None\n",
        "#network = create_model(x.shape[1])\n",
        "#network.load_weights('/content/network.h5')"
      ],
      "execution_count": 0,
      "outputs": []
    },
    {
      "cell_type": "markdown",
      "metadata": {
        "id": "2Z8o-yS-H3yo",
        "colab_type": "text"
      },
      "source": [
        "### Optimization performance"
      ]
    },
    {
      "cell_type": "code",
      "metadata": {
        "id": "3j08gPVT-Uf2",
        "colab_type": "code",
        "outputId": "b5aa2e33-6f70-4544-df42-3e185b1a73ab",
        "colab": {
          "base_uri": "https://localhost:8080/",
          "height": 345
        }
      },
      "source": [
        "plt.rcParams[\"figure.figsize\"] = (8,5)    # plot size\n",
        "\n",
        "# Get training and test loss histories\n",
        "training_loss = history.history['mean_squared_error']\n",
        "test_loss = history.history['val_mean_squared_error']\n",
        "\n",
        "# Create count of the number of epochs\n",
        "epoch_count = range(1, len(training_loss) + 1)\n",
        "\n",
        "# Visualize loss history\n",
        "plt.plot(epoch_count, training_loss, 'b-')\n",
        "plt.plot(epoch_count, test_loss, 'r-')\n",
        "plt.legend(['Training', 'Test'], fontsize=14)\n",
        "#plt.ylim([0,10])\n",
        "plt.xlabel('Epoch', fontsize=14)\n",
        "plt.ylabel('MSE',   fontsize=14)\n",
        "plt.xticks(fontsize=14)\n",
        "plt.yticks(fontsize=14)\n",
        "plt.show()"
      ],
      "execution_count": 176,
      "outputs": [
        {
          "output_type": "display_data",
          "data": {
            "image/png": "[encoded data removed]",
            "text/plain": [
              "<Figure size 576x360 with 1 Axes>"
            ]
          },
          "metadata": {
            "tags": []
          }
        }
      ]
    },
    {
      "cell_type": "markdown",
      "metadata": {
        "id": "8d2F7_8x4xC6",
        "colab_type": "text"
      },
      "source": [
        "### Plot prediction vs experiment"
      ]
    },
    {
      "cell_type": "code",
      "metadata": {
        "id": "xSHfqw674XHU",
        "colab_type": "code",
        "outputId": "7d457d56-4cb4-421d-f0ed-9af435ab1693",
        "colab": {
          "base_uri": "https://localhost:8080/",
          "height": 401
        }
      },
      "source": [
        "plot_eval(network)"
      ],
      "execution_count": 177,
      "outputs": [
        {
          "output_type": "display_data",
          "data": {
            "image/png": "[encoded data removed]",
            "text/plain": [
              "<Figure size 1296x432 with 1 Axes>"
            ]
          },
          "metadata": {
            "tags": []
          }
        }
      ]
    },
    {
      "cell_type": "markdown",
      "metadata": {
        "id": "vouaqEX27sOT",
        "colab_type": "text"
      },
      "source": [
        "### Statistics"
      ]
    },
    {
      "cell_type": "code",
      "metadata": {
        "id": "Gzg9XfkCSgVA",
        "colab_type": "code",
        "outputId": "04e07c12-6429-4339-b825-b637d01a25f4",
        "colab": {
          "base_uri": "https://localhost:8080/",
          "height": 68
        }
      },
      "source": [
        "slope, intercept, r_value, p_value, std_err = linregress(y_test, network.predict(x_test)[:,0])\n",
        "tau, p_value                                = kendalltau(y_test, network.predict(x_test)[:,0])\n",
        "mae                                         = mean_absolute_error(y_test, network.predict(x_test)[:,0])\n",
        "\n",
        "print(\"R2          : %s\" % r_value)\n",
        "print(\"MAE         : %s\" % mae)\n",
        "print(\"Kendall Tau : %s\" % tau)"
      ],
      "execution_count": 142,
      "outputs": [
        {
          "output_type": "stream",
          "text": [
            "R2          : 0.6460392231529757\n",
            "MAE         : 3.3075987757042107\n",
            "Kendall Tau : 0.4772122139098837\n"
          ],
          "name": "stdout"
        }
      ]
    },
    {
      "cell_type": "markdown",
      "metadata": {
        "id": "N5QIAbuopRgY",
        "colab_type": "text"
      },
      "source": [
        "### Cross-validation"
      ]
    },
    {
      "cell_type": "code",
      "metadata": {
        "id": "D9TRMHgfqN8h",
        "colab_type": "code",
        "outputId": "b26adcbd-7cbd-43f4-cede-99d14afb2529",
        "colab": {
          "base_uri": "https://localhost:8080/",
          "height": 289
        }
      },
      "source": [
        "kf = KFold(n_splits=4, random_state=3, shuffle=True)\n",
        "\n",
        "for train_index, test_index in kf.split(f):\n",
        "    # split trick\n",
        "    f_train, f_test = f[train_index], f[test_index]\n",
        "    y_train, y_test = y[train_index], y[test_index]\n",
        "    #\n",
        "    x_train = f_train[:,:-5]\n",
        "    x_test  = f_test[:,:-5]\n",
        "    #\n",
        "    s0_train = f_train[:,-1]\n",
        "    s2_train = f_train[:,-2]\n",
        "    s1_train = f_train[:,-3]\n",
        "    #\n",
        "    rcutoff_train = f_train[:,-4]\n",
        "    lcutoff_train = f_train[:,-5]\n",
        "    #\n",
        "    #x_train = Normalize(x_train)\n",
        "    #x_test  = Normalize(x_test) \n",
        "    # finished\n",
        "    \n",
        "    #network = None\n",
        "    #network = create_model(x_test.shape[1]) \n",
        "    #network.fit(x_train, y_train, epochs=600, verbose=0, batch_size=50)\n",
        "    \n",
        "    slope, intercept, r_value, p_value, std_err = linregress(y_test, network.predict(x_test)[:,0])\n",
        "    tau, p_value                                = kendalltau(y_test, network.predict(x_test)[:,0])\n",
        "    mae                                         = mean_absolute_error(y_test, network.predict(x_test)[:,0])\n",
        "    \n",
        "    print(\"#------------------------#\")\n",
        "    print(\"R2          : %s\" % r_value)\n",
        "    print(\"MAE         : %s\" % mae)\n",
        "    print(\"Kendall Tau : %s\" % tau)"
      ],
      "execution_count": 25,
      "outputs": [
        {
          "output_type": "stream",
          "text": [
            "#------------------------#\n",
            "R2          : 0.876786077470651\n",
            "MAE         : 0.9125231440428575\n",
            "Kendall Tau : 0.7014746533205475\n",
            "#------------------------#\n",
            "R2          : 0.8760966705133881\n",
            "MAE         : 0.917882441761646\n",
            "Kendall Tau : 0.7156122581933184\n",
            "#------------------------#\n",
            "R2          : 0.9173202006884901\n",
            "MAE         : 0.9297153416717221\n",
            "Kendall Tau : 0.7313366768700151\n",
            "#------------------------#\n",
            "R2          : 0.8796654033044602\n",
            "MAE         : 0.8772295347877967\n",
            "Kendall Tau : 0.7166774589688759\n"
          ],
          "name": "stdout"
        }
      ]
    },
    {
      "cell_type": "markdown",
      "metadata": {
        "id": "jWjXP5MteRo3",
        "colab_type": "text"
      },
      "source": [
        "## <font color='green'>Linear Model</font>\n",
        "\n",
        "A strightforward linear regression model."
      ]
    },
    {
      "cell_type": "markdown",
      "metadata": {
        "id": "b70xlsTUHV1B",
        "colab_type": "text"
      },
      "source": [
        "### Single Layer Net"
      ]
    },
    {
      "cell_type": "code",
      "metadata": {
        "id": "6jFAA27oe4rU",
        "colab_type": "code",
        "colab": {}
      },
      "source": [
        "# Function to create model\n",
        "def create_linear(x):\n",
        "    # create model\n",
        "    model = Sequential()\n",
        "    # input layer\n",
        "    model.add(Dense(units=1, \n",
        "                    input_shape=(x, ), \n",
        "                    kernel_initializer='random_uniform',\n",
        "                    bias_initializer='ones'))\n",
        "    model.add(Activation(\"linear\"))\n",
        "    \n",
        "    model.compile(loss=custom_loss,                     # Custom loss function\n",
        "                  optimizer=Adam(lr=1e-3, decay=1e-6),  # Adam optimizer\n",
        "                  metrics=['mse']) \t                    # measure performace\n",
        "    return model"
      ],
      "execution_count": 0,
      "outputs": []
    },
    {
      "cell_type": "code",
      "metadata": {
        "id": "ItaPfWlfRrJT",
        "colab_type": "code",
        "colab": {}
      },
      "source": [
        "input_dim = x.shape[1]\n",
        "\n",
        "# Clearing the LM\n",
        "shallow = None \n",
        "shallow = create_linear(input_dim)                      # model"
      ],
      "execution_count": 0,
      "outputs": []
    },
    {
      "cell_type": "markdown",
      "metadata": {
        "id": "Ede6elC0LOaT",
        "colab_type": "text"
      },
      "source": [
        "### Rum, Rum"
      ]
    },
    {
      "cell_type": "code",
      "metadata": {
        "id": "SmTyl0zSeQTK",
        "colab_type": "code",
        "colab": {}
      },
      "source": [
        "# Train shallow model\n",
        "history = shallow.fit(x_train,                          # Features\n",
        "                      y_train,                          # Target\n",
        "                      epochs=1600,                      # Number of epochs\n",
        "                      verbose=0,                        # No output\n",
        "                      validation_data=(x_test, y_test)) # Data for evaluation"
      ],
      "execution_count": 0,
      "outputs": []
    },
    {
      "cell_type": "markdown",
      "metadata": {
        "id": "MpeAYVeOHftC",
        "colab_type": "text"
      },
      "source": [
        "### Save model"
      ]
    },
    {
      "cell_type": "code",
      "metadata": {
        "id": "jlbf-pgmHkhU",
        "colab_type": "code",
        "outputId": "2d75fb64-9cdb-439a-ebf4-964d52576b0a",
        "colab": {
          "base_uri": "https://localhost:8080/",
          "height": 0
        }
      },
      "source": [
        "shallow.save(\"/content/shallow.h5\")\n",
        "print(\"Saved model to disk\")"
      ],
      "execution_count": 29,
      "outputs": [
        {
          "output_type": "stream",
          "text": [
            "Saved model to disk\n"
          ],
          "name": "stdout"
        }
      ]
    },
    {
      "cell_type": "markdown",
      "metadata": {
        "id": "1Gl6U9D38yQt",
        "colab_type": "text"
      },
      "source": [
        "### <font color='red'>Load model</font>"
      ]
    },
    {
      "cell_type": "code",
      "metadata": {
        "id": "Bb-ox6d180ec",
        "colab_type": "code",
        "colab": {}
      },
      "source": [
        "#shallow = None\n",
        "#shallow = create_linear(x.shape[1])\n",
        "#shallow.load_weights('/content/shallow.h5')"
      ],
      "execution_count": 0,
      "outputs": []
    },
    {
      "cell_type": "markdown",
      "metadata": {
        "id": "aCs-RbiCHtK3",
        "colab_type": "text"
      },
      "source": [
        "### Plot prediction vs experiment"
      ]
    },
    {
      "cell_type": "code",
      "metadata": {
        "id": "hJEshFNSfTv-",
        "colab_type": "code",
        "outputId": "a9a2fad6-59a2-4da7-9e5d-3b5408db587e",
        "colab": {
          "base_uri": "https://localhost:8080/",
          "height": 401
        }
      },
      "source": [
        "plot_eval(shallow)"
      ],
      "execution_count": 31,
      "outputs": [
        {
          "output_type": "display_data",
          "data": {
            "image/png": "[encoded data removed]",
            "text/plain": [
              "<Figure size 1296x432 with 1 Axes>"
            ]
          },
          "metadata": {
            "tags": []
          }
        }
      ]
    },
    {
      "cell_type": "markdown",
      "metadata": {
        "id": "jBahxfa2H2QF",
        "colab_type": "text"
      },
      "source": [
        "### Statistics"
      ]
    },
    {
      "cell_type": "code",
      "metadata": {
        "id": "6QvqSfZG0704",
        "colab_type": "code",
        "outputId": "83853da0-64cf-48ab-ab63-a9096d06d8d4",
        "colab": {
          "base_uri": "https://localhost:8080/",
          "height": 0
        }
      },
      "source": [
        "slope, intercept, r_value, p_value, std_err = linregress(y_test, shallow.predict(x_test)[:,0])\n",
        "tau, p_value                                = kendalltau(y_test, shallow.predict(x_test)[:,0])\n",
        "mae                                         = mean_absolute_error(y_test, shallow.predict(x_test)[:,0])\n",
        "\n",
        "print(\"R2          : %s\" % r_value)\n",
        "print(\"MAE         : %s\" % mae)\n",
        "print(\"Kendall Tau : %s\" % tau)"
      ],
      "execution_count": 32,
      "outputs": [
        {
          "output_type": "stream",
          "text": [
            "R2          : 0.783471462794829\n",
            "MAE         : 1.0393348060727055\n",
            "Kendall Tau : 0.5979361022271599\n"
          ],
          "name": "stdout"
        }
      ]
    },
    {
      "cell_type": "markdown",
      "metadata": {
        "id": "pXlvHs8vH9XL",
        "colab_type": "text"
      },
      "source": [
        "### Cross-validation"
      ]
    },
    {
      "cell_type": "code",
      "metadata": {
        "id": "9UxI_NLhfXlx",
        "colab_type": "code",
        "outputId": "d764b997-9f5d-4562-ee9e-14ea274a4c14",
        "colab": {
          "base_uri": "https://localhost:8080/",
          "height": 0
        }
      },
      "source": [
        "kf = KFold(n_splits=4, random_state=3, shuffle=True)\n",
        "\n",
        "for train_index, test_index in kf.split(f):\n",
        "    # split trick\n",
        "    f_train, f_test = f[train_index], f[test_index]\n",
        "    y_train, y_test = y[train_index], y[test_index]\n",
        "    #\n",
        "    x_train = f_train[:,:-5]\n",
        "    x_test  = f_test[:,:-5]\n",
        "    #\n",
        "    s0_train = f_train[:,-1]\n",
        "    s2_train = f_train[:,-2]\n",
        "    s1_train = f_train[:,-3]\n",
        "    #\n",
        "    rcutoff_train = f_train[:,-4]\n",
        "    lcutoff_train = f_train[:,-5]\n",
        "    #\n",
        "    #x_train = Normalize(x_train)\n",
        "    #x_test  = Normalize(x_test) \n",
        "    # finished\n",
        "    \n",
        "    #shallow = None \n",
        "    #shallow = create_model(x_test.shape[1])\n",
        "    #shallow.fit(x_train, y_train, epochs=600, verbose=0)\n",
        "    \n",
        "    slope, intercept, r_value, p_value, std_err = linregress(y_test, shallow.predict(x_test)[:,0])\n",
        "    tau, p_value                                = kendalltau(y_test, shallow.predict(x_test)[:,0])\n",
        "    mae                                         = mean_absolute_error(y_test, shallow.predict(x_test)[:,0])\n",
        "    \n",
        "    print(\"#------------------------#\")\n",
        "    print(\"R2          : %s\" % r_value)\n",
        "    print(\"MAE         : %s\" % mae)\n",
        "    print(\"Kendall Tau : %s\" % tau)"
      ],
      "execution_count": 33,
      "outputs": [
        {
          "output_type": "stream",
          "text": [
            "#------------------------#\n",
            "R2          : 0.9387410616179367\n",
            "MAE         : 0.7364629237875501\n",
            "Kendall Tau : 0.7756017498706901\n",
            "#------------------------#\n",
            "R2          : 0.9299102652436182\n",
            "MAE         : 0.7244066688787643\n",
            "Kendall Tau : 0.7929643576164574\n",
            "#------------------------#\n",
            "R2          : 0.9548843792142565\n",
            "MAE         : 0.7933700591055232\n",
            "Kendall Tau : 0.7897154840593064\n",
            "#------------------------#\n",
            "R2          : 0.783471462794829\n",
            "MAE         : 1.0393348060727055\n",
            "Kendall Tau : 0.5979361022271599\n"
          ],
          "name": "stdout"
        }
      ]
    },
    {
      "cell_type": "markdown",
      "metadata": {
        "id": "sdl6qg4aIKOh",
        "colab_type": "text"
      },
      "source": [
        "## <font color='green'>Control FCNN</font>\n",
        "\n",
        "Repeat the previous methods but ignore censored data"
      ]
    },
    {
      "cell_type": "markdown",
      "metadata": {
        "id": "Fml9dgp4J95t",
        "colab_type": "text"
      },
      "source": [
        "### <font color='blue'>LOSS FUNCTION (without censored data)</font>"
      ]
    },
    {
      "cell_type": "code",
      "metadata": {
        "colab_type": "code",
        "id": "Ljfz8CXXISol",
        "colab": {}
      },
      "source": [
        "def normal_loss(y_true, y_pred):\n",
        "    # get deltas\n",
        "    z = y_pred - y_true\n",
        "    # Loss function\n",
        "    return K.mean((1-s0_train)*K.square(z), axis=-1)"
      ],
      "execution_count": 0,
      "outputs": []
    },
    {
      "cell_type": "markdown",
      "metadata": {
        "id": "tatO6bpMKSjD",
        "colab_type": "text"
      },
      "source": [
        "### Fully Connected Neural Network"
      ]
    },
    {
      "cell_type": "code",
      "metadata": {
        "id": "elcR7PWLKW4v",
        "colab_type": "code",
        "colab": {}
      },
      "source": [
        "#The performance of common machine-learning algorithms can be very sensitive \n",
        "#to preprocessing of the data, neural networks mostly. Here we will normalize \n",
        "#the features and log(IC50) to have zero-mean and unit-standard-deviation \n",
        "#BatchNormalization\n",
        "\n",
        "# Function to create model\n",
        "\n",
        "def create_model(x):\n",
        "    # create model\n",
        "    model = Sequential()\n",
        "    # input layer\n",
        "    model.add(Dense(units=100, \n",
        "                    input_shape=(x, ), \n",
        "                    kernel_initializer='random_uniform',\n",
        "                    bias_initializer='ones'))\n",
        "    model.add(Dropout(0.2))\n",
        "    model.add(Activation(\"relu\"))\n",
        "    model.add(BatchNormalization())\n",
        "    # hidden layer\n",
        "    model.add(Dense(units=50))\n",
        "    model.add(Dropout(0.2))\n",
        "    model.add(Activation(\"relu\"))\n",
        "    # hidden layer\n",
        "    model.add(Dense(units=25))\n",
        "    model.add(Dropout(0.2))\n",
        "    model.add(Activation(\"relu\"))\n",
        "    # output layer\n",
        "    model.add(Dense(units=1, activation='linear'))\n",
        "    \n",
        "    model.compile(loss=normal_loss,                     # Normal loss function\n",
        "                  optimizer=Adam(lr=1e-3, decay=1e-6),  # Adam optimizer\n",
        "                  metrics=['mse']) \t                    # measure performace\n",
        "    return model"
      ],
      "execution_count": 0,
      "outputs": []
    },
    {
      "cell_type": "code",
      "metadata": {
        "id": "Is1O4ef0RmWA",
        "colab_type": "code",
        "colab": {}
      },
      "source": [
        "# input dimensions\n",
        "input_dim = x_train.shape[1]\n",
        "\n",
        "# fix random seed\n",
        "seed = 84\n",
        "np.random.seed(seed)\n",
        "\n",
        "# Clearing the NN\n",
        "network2 = None \n",
        "network2 = create_model(input_dim) "
      ],
      "execution_count": 0,
      "outputs": []
    },
    {
      "cell_type": "markdown",
      "metadata": {
        "id": "4LiCzovQf5KB",
        "colab_type": "text"
      },
      "source": [
        "### Corre Lolita"
      ]
    },
    {
      "cell_type": "code",
      "metadata": {
        "colab_type": "code",
        "id": "oU5_ZtReIap9",
        "colab": {}
      },
      "source": [
        "%%capture\n",
        "\n",
        "# Train neural network\n",
        "history = network2.fit(x_train,                          # Features\n",
        "                       y_train,                          # Target\n",
        "                       epochs=1000,                      # Number of epochs\n",
        "                       verbose=0,                        # No output\n",
        "                       batch_size=100,                   # Number of observations per batch\n",
        "                       validation_data=(x_test, y_test)) # Data for evaluation"
      ],
      "execution_count": 0,
      "outputs": []
    },
    {
      "cell_type": "markdown",
      "metadata": {
        "id": "QUKKto_9KyPI",
        "colab_type": "text"
      },
      "source": [
        "### Save model"
      ]
    },
    {
      "cell_type": "code",
      "metadata": {
        "id": "-L4ESFkJwBgg",
        "colab_type": "code",
        "outputId": "690c16c1-2ad5-43bc-f6d8-c0f4ea7ed42e",
        "colab": {
          "base_uri": "https://localhost:8080/",
          "height": 34
        }
      },
      "source": [
        "network2.save(\"/content/network2.h5\")\n",
        "print(\"Saved model to disk\")"
      ],
      "execution_count": 38,
      "outputs": [
        {
          "output_type": "stream",
          "text": [
            "Saved model to disk\n"
          ],
          "name": "stdout"
        }
      ]
    },
    {
      "cell_type": "markdown",
      "metadata": {
        "id": "5X_N6-PkLjGd",
        "colab_type": "text"
      },
      "source": [
        "### <font color='red'>Load model</font>"
      ]
    },
    {
      "cell_type": "code",
      "metadata": {
        "id": "Cx-fcmlKLlT7",
        "colab_type": "code",
        "colab": {}
      },
      "source": [
        "#network2 = None\n",
        "#network2 = create_model(x.shape[1])\n",
        "#network2.load_weights('/content/network2.h5')"
      ],
      "execution_count": 0,
      "outputs": []
    },
    {
      "cell_type": "markdown",
      "metadata": {
        "id": "vdYB7VJ0LenT",
        "colab_type": "text"
      },
      "source": [
        "### Optimization performance"
      ]
    },
    {
      "cell_type": "code",
      "metadata": {
        "colab_type": "code",
        "outputId": "b574ed14-a346-4c52-ae34-cc27515c789a",
        "id": "SVt1p8CzcNH8",
        "colab": {
          "base_uri": "https://localhost:8080/",
          "height": 345
        }
      },
      "source": [
        "plt.rcParams[\"figure.figsize\"] = (8,5)    # plot size\n",
        "\n",
        "# Get training and test loss histories\n",
        "training_loss = history.history['mean_squared_error']\n",
        "test_loss = history.history['val_mean_squared_error']\n",
        "\n",
        "# Create count of the number of epochs\n",
        "epoch_count = range(1, len(training_loss) + 1)\n",
        "\n",
        "# Visualize loss history\n",
        "plt.plot(epoch_count, training_loss, 'b-')\n",
        "plt.plot(epoch_count, test_loss, 'r-')\n",
        "plt.legend(['Training', 'Test'], fontsize=14)\n",
        "#plt.ylim([0,10])\n",
        "plt.xlabel('Epoch', fontsize=14)\n",
        "plt.ylabel('MAE',  fontsize=14)\n",
        "plt.xticks(fontsize=14)\n",
        "plt.yticks(fontsize=14)\n",
        "plt.show()"
      ],
      "execution_count": 40,
      "outputs": [
        {
          "output_type": "display_data",
          "data": {
            "image/png": "[encoded data removed]",
            "text/plain": [
              "<Figure size 576x360 with 1 Axes>"
            ]
          },
          "metadata": {
            "tags": []
          }
        }
      ]
    },
    {
      "cell_type": "markdown",
      "metadata": {
        "id": "gFfnzAphL0oO",
        "colab_type": "text"
      },
      "source": [
        "### Predictions versus Experiments"
      ]
    },
    {
      "cell_type": "code",
      "metadata": {
        "colab_type": "code",
        "outputId": "267e613a-6533-4e85-9d2c-0a787a9ca8e0",
        "id": "oatGB-xYJBYl",
        "colab": {
          "base_uri": "https://localhost:8080/",
          "height": 401
        }
      },
      "source": [
        "plot_eval(network2)"
      ],
      "execution_count": 184,
      "outputs": [
        {
          "output_type": "display_data",
          "data": {
            "image/png": "[encoded data removed]",
            "text/plain": [
              "<Figure size 1296x432 with 1 Axes>"
            ]
          },
          "metadata": {
            "tags": []
          }
        }
      ]
    },
    {
      "cell_type": "markdown",
      "metadata": {
        "id": "7dRXxukqM7N-",
        "colab_type": "text"
      },
      "source": [
        "### Statistics"
      ]
    },
    {
      "cell_type": "code",
      "metadata": {
        "colab_type": "code",
        "outputId": "3f87d572-a192-4a62-a275-d3c460e79721",
        "id": "CgiYO1Q-JKvg",
        "colab": {
          "base_uri": "https://localhost:8080/",
          "height": 68
        }
      },
      "source": [
        "slope, intercept, r_value, p_value, std_err = linregress(y_test, network2.predict(x_test)[:,0])\n",
        "tau, p_value                                = kendalltau(y_test, network2.predict(x_test)[:,0])\n",
        "mae                                         = mean_absolute_error(y_test, network2.predict(x_test)[:,0])\n",
        "\n",
        "print(\"R2          : %s\" % r_value)\n",
        "print(\"MAE         : %s\" % mae)\n",
        "print(\"Kendall Tau : %s\" % tau)"
      ],
      "execution_count": 74,
      "outputs": [
        {
          "output_type": "stream",
          "text": [
            "R2          : 0.9277760000485459\n",
            "MAE         : 0.6490319077014861\n",
            "Kendall Tau : 0.7697738538752044\n"
          ],
          "name": "stdout"
        }
      ]
    },
    {
      "cell_type": "markdown",
      "metadata": {
        "id": "EnuPiryUM-p-",
        "colab_type": "text"
      },
      "source": [
        "### Cross-validation"
      ]
    },
    {
      "cell_type": "code",
      "metadata": {
        "colab_type": "code",
        "outputId": "dd7e1056-10f2-4730-dd22-4eb16f681303",
        "id": "48bqJtatJQhm",
        "colab": {
          "base_uri": "https://localhost:8080/",
          "height": 289
        }
      },
      "source": [
        "kf = KFold(n_splits=4, random_state=3, shuffle=True)\n",
        "\n",
        "for train_index, test_index in kf.split(f):\n",
        "    # split trick\n",
        "    f_train, f_test = f[train_index], f[test_index]\n",
        "    y_train, y_test = y[train_index], y[test_index]\n",
        "    #\n",
        "    x_train = f_train[:,:-5]\n",
        "    x_test  = f_test[:,:-5]\n",
        "    #\n",
        "    s0_train = f_train[:,-1]\n",
        "    s2_train = f_train[:,-2]\n",
        "    s1_train = f_train[:,-3]\n",
        "    #\n",
        "    rcutoff_train = f_train[:,-4]\n",
        "    lcutoff_train = f_train[:,-5]\n",
        "    #\n",
        "    #x_train = Normalize(x_train)\n",
        "    #x_test  = Normalize(x_test) \n",
        "    # finished\n",
        "    \n",
        "    #network2 = None\n",
        "    #network2 = create_model(x_test.shape[1]) \n",
        "    #network2.fit(x_train, y_train, epochs=600, verbose=0, batch_size=50)\n",
        "    \n",
        "    slope, intercept, r_value, p_value, std_err = linregress(y_test, network2.predict(x_test)[:,0])\n",
        "    tau, p_value                                = kendalltau(y_test, network2.predict(x_test)[:,0])\n",
        "    mae                                         = mean_absolute_error(y_test, network2.predict(x_test)[:,0])\n",
        "    \n",
        "    print(\"#------------------------#\")\n",
        "    print(\"R2          : %s\" % r_value)\n",
        "    print(\"MAE         : %s\" % mae)\n",
        "    print(\"Kendall Tau : %s\" % tau)"
      ],
      "execution_count": 43,
      "outputs": [
        {
          "output_type": "stream",
          "text": [
            "#------------------------#\n",
            "R2          : 0.9435423803909454\n",
            "MAE         : 0.5085935948977534\n",
            "Kendall Tau : 0.7887157891197114\n",
            "#------------------------#\n",
            "R2          : 0.9386722856939108\n",
            "MAE         : 0.5615299660514829\n",
            "Kendall Tau : 0.8056042668054136\n",
            "#------------------------#\n",
            "R2          : 0.9548053064385943\n",
            "MAE         : 0.5640563849179613\n",
            "Kendall Tau : 0.7839006084754195\n",
            "#------------------------#\n",
            "R2          : 0.8211303131491399\n",
            "MAE         : 0.8815758480868908\n",
            "Kendall Tau : 0.6559521402358579\n"
          ],
          "name": "stdout"
        }
      ]
    },
    {
      "cell_type": "markdown",
      "metadata": {
        "id": "97v0csHXNKtw",
        "colab_type": "text"
      },
      "source": [
        "## <font color='green'>Control LM</font>"
      ]
    },
    {
      "cell_type": "markdown",
      "metadata": {
        "id": "t9DoreL3fq4B",
        "colab_type": "text"
      },
      "source": [
        "### Single Layer Net\n",
        "\n"
      ]
    },
    {
      "cell_type": "code",
      "metadata": {
        "colab_type": "code",
        "id": "2f9JD_egfGay",
        "colab": {}
      },
      "source": [
        "# Function to create model\n",
        "def create_linear(x):\n",
        "    # create model\n",
        "    model = Sequential()\n",
        "    # input layer\n",
        "    model.add(Dense(units=1, \n",
        "                    input_shape=(x, ), \n",
        "                    kernel_initializer='random_uniform',\n",
        "                    bias_initializer='ones'))\n",
        "    model.add(Activation(\"linear\"))\n",
        "    \n",
        "    model.compile(loss=normal_loss,                     # Custom loss function\n",
        "                  optimizer=Adam(lr=1e-3, decay=1e-6),  # Adam optimizer\n",
        "                  metrics=['mse']) \t                    # measure performace\n",
        "    return model"
      ],
      "execution_count": 0,
      "outputs": []
    },
    {
      "cell_type": "code",
      "metadata": {
        "id": "JM4IZh8VRg_9",
        "colab_type": "code",
        "colab": {}
      },
      "source": [
        "# Clearing the LM\n",
        "shallow2 = None \n",
        "shallow2 = create_linear(input_dim)                      # model"
      ],
      "execution_count": 0,
      "outputs": []
    },
    {
      "cell_type": "markdown",
      "metadata": {
        "id": "dO4ba5quNYM5",
        "colab_type": "text"
      },
      "source": [
        "### Jogging"
      ]
    },
    {
      "cell_type": "code",
      "metadata": {
        "colab_type": "code",
        "id": "rlAp1dpCfUpF",
        "colab": {}
      },
      "source": [
        "# Train shallow model\n",
        "history = shallow2.fit(x_train,                          # Features\n",
        "                       y_train,                          # Target\n",
        "                       epochs=1600,                      # Number of epochs\n",
        "                       verbose=0,                        # No output\n",
        "                       validation_data=(x_test, y_test)) # Data for evaluation"
      ],
      "execution_count": 0,
      "outputs": []
    },
    {
      "cell_type": "markdown",
      "metadata": {
        "id": "VzPttWpnNby6",
        "colab_type": "text"
      },
      "source": [
        "### Save model"
      ]
    },
    {
      "cell_type": "code",
      "metadata": {
        "id": "cyHhtJ98wQPx",
        "colab_type": "code",
        "outputId": "cfff61b0-410e-4c3d-edc3-cefba1a1a477",
        "colab": {
          "base_uri": "https://localhost:8080/",
          "height": 34
        }
      },
      "source": [
        "shallow2.save(\"/content/shallow2.h5\")\n",
        "print(\"Saved model to disk\")"
      ],
      "execution_count": 47,
      "outputs": [
        {
          "output_type": "stream",
          "text": [
            "Saved model to disk\n"
          ],
          "name": "stdout"
        }
      ]
    },
    {
      "cell_type": "markdown",
      "metadata": {
        "id": "sePix_qiNd68",
        "colab_type": "text"
      },
      "source": [
        "### <font color='red'>Load model</font>"
      ]
    },
    {
      "cell_type": "code",
      "metadata": {
        "id": "GAxaljoSNi7a",
        "colab_type": "code",
        "colab": {}
      },
      "source": [
        "#shallow2 = None\n",
        "#shallow2 = create_linear(x.shape[1])\n",
        "#shallow2.load_weights('/content/shallow2.h5')"
      ],
      "execution_count": 0,
      "outputs": []
    },
    {
      "cell_type": "markdown",
      "metadata": {
        "id": "e1cNwYbYN8fo",
        "colab_type": "text"
      },
      "source": [
        "### Predictions versus Experiments"
      ]
    },
    {
      "cell_type": "code",
      "metadata": {
        "colab_type": "code",
        "outputId": "c10b59e4-ad49-42c9-94b6-f0f1a967f98e",
        "id": "52rHSNlPfZIm",
        "colab": {
          "base_uri": "https://localhost:8080/",
          "height": 401
        }
      },
      "source": [
        "plot_eval(shallow2)"
      ],
      "execution_count": 49,
      "outputs": [
        {
          "output_type": "display_data",
          "data": {
            "image/png": "[encoded data removed]",
            "text/plain": [
              "<Figure size 1296x432 with 1 Axes>"
            ]
          },
          "metadata": {
            "tags": []
          }
        }
      ]
    },
    {
      "cell_type": "markdown",
      "metadata": {
        "id": "qMjqw3FqOE36",
        "colab_type": "text"
      },
      "source": [
        "### Statistics"
      ]
    },
    {
      "cell_type": "code",
      "metadata": {
        "colab_type": "code",
        "outputId": "85e2df56-80b7-46db-c48f-c01cd2c838a1",
        "id": "BB4GU5ayfeE2",
        "colab": {
          "base_uri": "https://localhost:8080/",
          "height": 68
        }
      },
      "source": [
        "slope, intercept, r_value, p_value, std_err = linregress(y_test, shallow2.predict(x_test)[:,0])\n",
        "tau, p_value                                = kendalltau(y_test, shallow2.predict(x_test)[:,0])\n",
        "mae                                         = mean_absolute_error(y_test, shallow2.predict(x_test)[:,0])\n",
        "\n",
        "print(\"R2          : %s\" % r_value)\n",
        "print(\"MAE         : %s\" % mae)\n",
        "print(\"Kendall Tau : %s\" % tau)"
      ],
      "execution_count": 50,
      "outputs": [
        {
          "output_type": "stream",
          "text": [
            "R2          : 0.7971975848087716\n",
            "MAE         : 1.024525260129308\n",
            "Kendall Tau : 0.6075937780356042\n"
          ],
          "name": "stdout"
        }
      ]
    },
    {
      "cell_type": "markdown",
      "metadata": {
        "id": "7gQG_57VOHqm",
        "colab_type": "text"
      },
      "source": [
        "### Cross-validation"
      ]
    },
    {
      "cell_type": "code",
      "metadata": {
        "colab_type": "code",
        "id": "4eU5qhJXfjPe",
        "colab": {
          "base_uri": "https://localhost:8080/",
          "height": 289
        },
        "outputId": "a446bf32-f97b-4ffe-f9a2-85dbae1a6ba8"
      },
      "source": [
        "kf = KFold(n_splits=4, random_state=3, shuffle=True)\n",
        "\n",
        "for train_index, test_index in kf.split(f):\n",
        "    # split trick\n",
        "    f_train, f_test = f[train_index], f[test_index]\n",
        "    y_train, y_test = y[train_index], y[test_index]\n",
        "    #\n",
        "    x_train = f_train[:,:-5]\n",
        "    x_test  = f_test[:,:-5]\n",
        "    #\n",
        "    s0_train = f_train[:,-1]\n",
        "    s2_train = f_train[:,-2]\n",
        "    s1_train = f_train[:,-3]\n",
        "    #\n",
        "    rcutoff_train = f_train[:,-4]\n",
        "    lcutoff_train = f_train[:,-5]\n",
        "    #\n",
        "    #x_train = Normalize(x_train)\n",
        "    #x_test  = Normalize(x_test) \n",
        "    # finished\n",
        "    \n",
        "    #shallow2 = None \n",
        "    #shallow2 = create_model(x_test.shape[1])\n",
        "    #shallow2.fit(x_train, y_train, epochs=600, verbose=0)\n",
        "    \n",
        "    slope, intercept, r_value, p_value, std_err = linregress(y_test, shallow2.predict(x_test)[:,0])\n",
        "    tau, p_value                                = kendalltau(y_test, shallow2.predict(x_test)[:,0])\n",
        "    mae                                         = mean_absolute_error(y_test, shallow2.predict(x_test)[:,0])\n",
        "    \n",
        "    print(\"#------------------------#\")\n",
        "    print(\"R2          : %s\" % r_value)\n",
        "    print(\"MAE         : %s\" % mae)\n",
        "    print(\"Kendall Tau : %s\" % tau)"
      ],
      "execution_count": 51,
      "outputs": [
        {
          "output_type": "stream",
          "text": [
            "#------------------------#\n",
            "R2          : 0.9377613112906699\n",
            "MAE         : 0.6223990095118938\n",
            "Kendall Tau : 0.769495742178024\n",
            "#------------------------#\n",
            "R2          : 0.9279286978119571\n",
            "MAE         : 0.680415057266792\n",
            "Kendall Tau : 0.7854356685366966\n",
            "#------------------------#\n",
            "R2          : 0.956120529122984\n",
            "MAE         : 0.619323193217147\n",
            "Kendall Tau : 0.7831391366727676\n",
            "#------------------------#\n",
            "R2          : 0.7971975848087716\n",
            "MAE         : 1.024525260129308\n",
            "Kendall Tau : 0.6075937780356042\n"
          ],
          "name": "stdout"
        }
      ]
    },
    {
      "cell_type": "markdown",
      "metadata": {
        "id": "SIdDjQWRqkmv",
        "colab_type": "text"
      },
      "source": [
        "## <font color='green'>Validation</font>\n",
        "\n",
        "External dataset from BindingDB for DNA Gyrase"
      ]
    },
    {
      "cell_type": "markdown",
      "metadata": {
        "id": "r27BtBnKOqKZ",
        "colab_type": "text"
      },
      "source": [
        "### Data Processing"
      ]
    },
    {
      "cell_type": "code",
      "metadata": {
        "id": "73Yf1QBvqm9h",
        "colab_type": "code",
        "colab": {}
      },
      "source": [
        "# load features dataset\n",
        "\n",
        "filepath = \"https://raw.githubusercontent.com/alejogiley/Novartis-Hackaton-7/master/Data/Gyrase/BindingDB_Gyrase_B_features.tsv\"\n",
        "validset = pd.read_csv(filepath)\n",
        "\n",
        "# Rename columns\n",
        "\n",
        "validset.rename(columns={'IC50':'pIC50'}, inplace=True)\n",
        "validset.drop(['Ipc'], axis=1, inplace=True)\n",
        "\n",
        "# Modify dataset\n",
        "\n",
        "validset['pIC50'] = validset['pIC50'].apply(lambda x: np.log(float(x)))\n",
        "\n",
        "# Get x/y\n",
        "\n",
        "vy = validset['pIC50'].copy()\n",
        "vy = vy.astype('float64').to_numpy()\n",
        "\n",
        "vx = validset[descriptors].copy()\n",
        "vx = vx.astype('float64').to_numpy()\n",
        "\n",
        "# Normalized features\n",
        "vx = Normalize(vx)"
      ],
      "execution_count": 0,
      "outputs": []
    },
    {
      "cell_type": "markdown",
      "metadata": {
        "id": "e_awwBflOXOJ",
        "colab_type": "text"
      },
      "source": [
        "### Plot pIC50 predictions"
      ]
    },
    {
      "cell_type": "code",
      "metadata": {
        "id": "ShV5RT1GaUX9",
        "colab_type": "code",
        "outputId": "effafe2b-6e47-4222-800f-741f521b52fc",
        "colab": {
          "base_uri": "https://localhost:8080/",
          "height": 813
        }
      },
      "source": [
        "#models = [network, network2, shallow, shallow2]\n",
        "models = [network]\n",
        "titles = ['MSE+ReLU NN','MSE NN','MSE+ReLU LM','MSE LM']\n",
        "\n",
        "plt.rcParams[\"figure.figsize\"] = (12,14)\n",
        "plot_valid(models, titles)"
      ],
      "execution_count": 179,
      "outputs": [
        {
          "output_type": "display_data",
          "data": {
            "image/png": "[encoded data removed]",
            "text/plain": [
              "<Figure size 864x1008 with 4 Axes>"
            ]
          },
          "metadata": {
            "tags": []
          }
        }
      ]
    },
    {
      "cell_type": "markdown",
      "metadata": {
        "id": "N_MvPxFwtjOS",
        "colab_type": "text"
      },
      "source": [
        "### Statistical Performance"
      ]
    },
    {
      "cell_type": "code",
      "metadata": {
        "id": "ZLTTRVMWtN8X",
        "colab_type": "code",
        "outputId": "c5544f13-111a-4cad-e6a1-4c7048c4903c",
        "colab": {
          "base_uri": "https://localhost:8080/",
          "height": 395
        }
      },
      "source": [
        "labels = ['MSE+ReLu NN', 'MSE NN', 'MSE+ReLu LM', 'MSE LM']\n",
        "\n",
        "i = 0\n",
        "for name in [network, network2, shallow, shallow2]:\n",
        "    \n",
        "    slope, intercept, r_value, p_value, std_err = linregress(vy, name.predict(vx)[:,0])\n",
        "    tau, p_value                                = kendalltau(vy, name.predict(vx)[:,0])\n",
        "    rho, p_value                                = spearmanr( vy, name.predict(vx)[:,0])\n",
        "    mae                                         = mean_absolute_error(vy, name.predict(vx)[:,0])\n",
        "    mse                                         = mean_squared_error( vy, name.predict(vx)[:,0])\n",
        "    \n",
        "    print(\"##### METHOD: %s\" % labels[i])\n",
        "    print(\"Kendall Tau : %s\" % tau)\n",
        "    print(\"R2          : %s\" % r_value)\n",
        "    print(\"Spearman    : %s\" % rho)\n",
        "    print(\"MAE         : %s\" % mae)\n",
        "    print(\"RMSE        : %s\" % np.sqrt(mse))\n",
        "    print(\"\")\n",
        "    \n",
        "    i+=1"
      ],
      "execution_count": 116,
      "outputs": [
        {
          "output_type": "error",
          "ename": "ValueError",
          "evalue": "ignored",
          "traceback": [
            "\u001b[0;31m---------------------------------------------------------------------------\u001b[0m",
            "\u001b[0;31mValueError\u001b[0m                                Traceback (most recent call last)",
            "\u001b[0;32m<ipython-input-116-ac99b2683a1c>\u001b[0m in \u001b[0;36m<module>\u001b[0;34m()\u001b[0m\n\u001b[1;32m      4\u001b[0m \u001b[0;32mfor\u001b[0m \u001b[0mname\u001b[0m \u001b[0;32min\u001b[0m \u001b[0;34m[\u001b[0m\u001b[0mnetwork\u001b[0m\u001b[0;34m,\u001b[0m \u001b[0mnetwork2\u001b[0m\u001b[0;34m,\u001b[0m \u001b[0mshallow\u001b[0m\u001b[0;34m,\u001b[0m \u001b[0mshallow2\u001b[0m\u001b[0;34m]\u001b[0m\u001b[0;34m:\u001b[0m\u001b[0;34m\u001b[0m\u001b[0;34m\u001b[0m\u001b[0m\n\u001b[1;32m      5\u001b[0m \u001b[0;34m\u001b[0m\u001b[0m\n\u001b[0;32m----> 6\u001b[0;31m     \u001b[0mslope\u001b[0m\u001b[0;34m,\u001b[0m \u001b[0mintercept\u001b[0m\u001b[0;34m,\u001b[0m \u001b[0mr_value\u001b[0m\u001b[0;34m,\u001b[0m \u001b[0mp_value\u001b[0m\u001b[0;34m,\u001b[0m \u001b[0mstd_err\u001b[0m \u001b[0;34m=\u001b[0m \u001b[0mlinregress\u001b[0m\u001b[0;34m(\u001b[0m\u001b[0mvy\u001b[0m\u001b[0;34m,\u001b[0m \u001b[0mname\u001b[0m\u001b[0;34m.\u001b[0m\u001b[0mpredict\u001b[0m\u001b[0;34m(\u001b[0m\u001b[0mvx\u001b[0m\u001b[0;34m)\u001b[0m\u001b[0;34m[\u001b[0m\u001b[0;34m:\u001b[0m\u001b[0;34m,\u001b[0m\u001b[0;36m0\u001b[0m\u001b[0;34m]\u001b[0m\u001b[0;34m)\u001b[0m\u001b[0;34m\u001b[0m\u001b[0;34m\u001b[0m\u001b[0m\n\u001b[0m\u001b[1;32m      7\u001b[0m     \u001b[0mtau\u001b[0m\u001b[0;34m,\u001b[0m \u001b[0mp_value\u001b[0m                                \u001b[0;34m=\u001b[0m \u001b[0mkendalltau\u001b[0m\u001b[0;34m(\u001b[0m\u001b[0mvy\u001b[0m\u001b[0;34m,\u001b[0m \u001b[0mname\u001b[0m\u001b[0;34m.\u001b[0m\u001b[0mpredict\u001b[0m\u001b[0;34m(\u001b[0m\u001b[0mvx\u001b[0m\u001b[0;34m)\u001b[0m\u001b[0;34m[\u001b[0m\u001b[0;34m:\u001b[0m\u001b[0;34m,\u001b[0m\u001b[0;36m0\u001b[0m\u001b[0;34m]\u001b[0m\u001b[0;34m)\u001b[0m\u001b[0;34m\u001b[0m\u001b[0;34m\u001b[0m\u001b[0m\n\u001b[1;32m      8\u001b[0m     \u001b[0mrho\u001b[0m\u001b[0;34m,\u001b[0m \u001b[0mp_value\u001b[0m                                \u001b[0;34m=\u001b[0m \u001b[0mspearmanr\u001b[0m\u001b[0;34m(\u001b[0m \u001b[0mvy\u001b[0m\u001b[0;34m,\u001b[0m \u001b[0mname\u001b[0m\u001b[0;34m.\u001b[0m\u001b[0mpredict\u001b[0m\u001b[0;34m(\u001b[0m\u001b[0mvx\u001b[0m\u001b[0;34m)\u001b[0m\u001b[0;34m[\u001b[0m\u001b[0;34m:\u001b[0m\u001b[0;34m,\u001b[0m\u001b[0;36m0\u001b[0m\u001b[0;34m]\u001b[0m\u001b[0;34m)\u001b[0m\u001b[0;34m\u001b[0m\u001b[0;34m\u001b[0m\u001b[0m\n",
            "\u001b[0;32m/usr/local/lib/python3.6/dist-packages/keras/engine/training.py\u001b[0m in \u001b[0;36mpredict\u001b[0;34m(self, x, batch_size, verbose, steps)\u001b[0m\n\u001b[1;32m   1147\u001b[0m                              'argument.')\n\u001b[1;32m   1148\u001b[0m         \u001b[0;31m# Validate user data.\u001b[0m\u001b[0;34m\u001b[0m\u001b[0;34m\u001b[0m\u001b[0;34m\u001b[0m\u001b[0m\n\u001b[0;32m-> 1149\u001b[0;31m         \u001b[0mx\u001b[0m\u001b[0;34m,\u001b[0m \u001b[0m_\u001b[0m\u001b[0;34m,\u001b[0m \u001b[0m_\u001b[0m \u001b[0;34m=\u001b[0m \u001b[0mself\u001b[0m\u001b[0;34m.\u001b[0m\u001b[0m_standardize_user_data\u001b[0m\u001b[0;34m(\u001b[0m\u001b[0mx\u001b[0m\u001b[0;34m)\u001b[0m\u001b[0;34m\u001b[0m\u001b[0;34m\u001b[0m\u001b[0m\n\u001b[0m\u001b[1;32m   1150\u001b[0m         \u001b[0;32mif\u001b[0m \u001b[0mself\u001b[0m\u001b[0;34m.\u001b[0m\u001b[0mstateful\u001b[0m\u001b[0;34m:\u001b[0m\u001b[0;34m\u001b[0m\u001b[0;34m\u001b[0m\u001b[0m\n\u001b[1;32m   1151\u001b[0m             \u001b[0;32mif\u001b[0m \u001b[0mx\u001b[0m\u001b[0;34m[\u001b[0m\u001b[0;36m0\u001b[0m\u001b[0;34m]\u001b[0m\u001b[0;34m.\u001b[0m\u001b[0mshape\u001b[0m\u001b[0;34m[\u001b[0m\u001b[0;36m0\u001b[0m\u001b[0;34m]\u001b[0m \u001b[0;34m>\u001b[0m \u001b[0mbatch_size\u001b[0m \u001b[0;32mand\u001b[0m \u001b[0mx\u001b[0m\u001b[0;34m[\u001b[0m\u001b[0;36m0\u001b[0m\u001b[0;34m]\u001b[0m\u001b[0;34m.\u001b[0m\u001b[0mshape\u001b[0m\u001b[0;34m[\u001b[0m\u001b[0;36m0\u001b[0m\u001b[0;34m]\u001b[0m \u001b[0;34m%\u001b[0m \u001b[0mbatch_size\u001b[0m \u001b[0;34m!=\u001b[0m \u001b[0;36m0\u001b[0m\u001b[0;34m:\u001b[0m\u001b[0;34m\u001b[0m\u001b[0;34m\u001b[0m\u001b[0m\n",
            "\u001b[0;32m/usr/local/lib/python3.6/dist-packages/keras/engine/training.py\u001b[0m in \u001b[0;36m_standardize_user_data\u001b[0;34m(self, x, y, sample_weight, class_weight, check_array_lengths, batch_size)\u001b[0m\n\u001b[1;32m    749\u001b[0m             \u001b[0mfeed_input_shapes\u001b[0m\u001b[0;34m,\u001b[0m\u001b[0;34m\u001b[0m\u001b[0;34m\u001b[0m\u001b[0m\n\u001b[1;32m    750\u001b[0m             \u001b[0mcheck_batch_axis\u001b[0m\u001b[0;34m=\u001b[0m\u001b[0;32mFalse\u001b[0m\u001b[0;34m,\u001b[0m  \u001b[0;31m# Don't enforce the batch size.\u001b[0m\u001b[0;34m\u001b[0m\u001b[0;34m\u001b[0m\u001b[0m\n\u001b[0;32m--> 751\u001b[0;31m             exception_prefix='input')\n\u001b[0m\u001b[1;32m    752\u001b[0m \u001b[0;34m\u001b[0m\u001b[0m\n\u001b[1;32m    753\u001b[0m         \u001b[0;32mif\u001b[0m \u001b[0my\u001b[0m \u001b[0;32mis\u001b[0m \u001b[0;32mnot\u001b[0m \u001b[0;32mNone\u001b[0m\u001b[0;34m:\u001b[0m\u001b[0;34m\u001b[0m\u001b[0;34m\u001b[0m\u001b[0m\n",
            "\u001b[0;32m/usr/local/lib/python3.6/dist-packages/keras/engine/training_utils.py\u001b[0m in \u001b[0;36mstandardize_input_data\u001b[0;34m(data, names, shapes, check_batch_axis, exception_prefix)\u001b[0m\n\u001b[1;32m    136\u001b[0m                             \u001b[0;34m': expected '\u001b[0m \u001b[0;34m+\u001b[0m \u001b[0mnames\u001b[0m\u001b[0;34m[\u001b[0m\u001b[0mi\u001b[0m\u001b[0;34m]\u001b[0m \u001b[0;34m+\u001b[0m \u001b[0;34m' to have shape '\u001b[0m \u001b[0;34m+\u001b[0m\u001b[0;34m\u001b[0m\u001b[0;34m\u001b[0m\u001b[0m\n\u001b[1;32m    137\u001b[0m                             \u001b[0mstr\u001b[0m\u001b[0;34m(\u001b[0m\u001b[0mshape\u001b[0m\u001b[0;34m)\u001b[0m \u001b[0;34m+\u001b[0m \u001b[0;34m' but got array with shape '\u001b[0m \u001b[0;34m+\u001b[0m\u001b[0;34m\u001b[0m\u001b[0;34m\u001b[0m\u001b[0m\n\u001b[0;32m--> 138\u001b[0;31m                             str(data_shape))\n\u001b[0m\u001b[1;32m    139\u001b[0m     \u001b[0;32mreturn\u001b[0m \u001b[0mdata\u001b[0m\u001b[0;34m\u001b[0m\u001b[0;34m\u001b[0m\u001b[0m\n\u001b[1;32m    140\u001b[0m \u001b[0;34m\u001b[0m\u001b[0m\n",
            "\u001b[0;31mValueError\u001b[0m: Error when checking input: expected dense_11_input to have shape (72,) but got array with shape (480,)"
          ]
        }
      ]
    }
  ]
}