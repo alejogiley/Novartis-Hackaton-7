{
  "nbformat": 4,
  "nbformat_minor": 0,
  "metadata": {
    "colab": {
      "name": "Untitled7.ipynb",
      "version": "0.3.2",
      "provenance": [],
      "include_colab_link": true
    },
    "kernelspec": {
      "name": "python3",
      "display_name": "Python 3"
    },
    "accelerator": "GPU"
  },
  "cells": [
    {
      "cell_type": "markdown",
      "metadata": {
        "id": "view-in-github",
        "colab_type": "text"
      },
      "source": [
        "<a href=\"https://colab.research.google.com/github/alejogiley/Novartis-Hackaton-7/blob/master/Notebooks/Lee_NN.ipynb\" target=\"_parent\"><img src=\"https://colab.research.google.com/assets/colab-badge.svg\" alt=\"Open In Colab\"/></a>"
      ]
    },
    {
      "cell_type": "markdown",
      "metadata": {
        "id": "BHn__IVB5T2Q",
        "colab_type": "text"
      },
      "source": [
        "# Predicting affinities of antibiotic candidates to a DNA Gyrase"
      ]
    },
    {
      "cell_type": "code",
      "metadata": {
        "id": "KDipX-nMAOFk",
        "colab_type": "code",
        "colab": {}
      },
      "source": [
        "#!wget -c https://repo.continuum.io/archive/Anaconda3-5.1.0-Linux-x86_64.sh\n",
        "#!chmod +x Anaconda3-5.1.0-Linux-x86_64.sh\n",
        "#!bash ./Anaconda3-5.1.0-Linux-x86_64.sh -b -f -p /usr/local\n",
        "\n",
        "#!conda install -q -y --prefix /usr/local -c omnia --no-update-deps pdbfixer=1.4\n",
        "#!conda install -q -y --prefix /usr/local -c conda-forge --no-update-deps xgboost=0.6a2\n",
        "#!conda install -q -y --prefix /usr/local -c rdkit --no-update-deps rdkit=2017.09.1\n",
        "#!conda install -q -y --prefix /usr/local -c deepchem --no-update-deps  deepchem-gpu=2.1.0\n",
        "\n",
        "#import sys\n",
        "#sys.path.append('/usr/local/lib/python3.6/site-packages/')"
      ],
      "execution_count": 0,
      "outputs": []
    },
    {
      "cell_type": "code",
      "metadata": {
        "id": "4ksekxnts6Lq",
        "colab_type": "code",
        "outputId": "9ee97888-3e66-42b4-a84a-95c1038fcb94",
        "colab": {
          "base_uri": "https://localhost:8080/",
          "height": 34
        }
      },
      "source": [
        "import os\n",
        "\n",
        "import numpy  as np      # scientific computing: arrays\n",
        "import scipy  as sp      # scientific computing: statistics\n",
        "import pandas as pd      # data analysis tools\n",
        "\n",
        "# Tensor operations\n",
        "import tensorflow as tf\n",
        "import keras.backend as K\n",
        "\n",
        "# Neural Network\n",
        "from keras.models import Sequential\n",
        "from keras.layers import Dropout, BatchNormalization\n",
        "from keras.layers import Dense, Activation\n",
        "from keras.optimizers import Adam, SGD\n",
        "\n",
        "# Data processing & Cross-validation\n",
        "from sklearn import preprocessing\n",
        "from sklearn.model_selection import train_test_split \n",
        "from sklearn.model_selection import KFold\n",
        "\n",
        "# Stats\n",
        "from scipy.stats import linregress, kendalltau\n",
        "from sklearn.metrics import mean_absolute_error\n",
        "\n",
        "# Visualization\n",
        "import matplotlib.pyplot as plt\n",
        "\n",
        "# Set random seed\n",
        "np.random.seed(0)"
      ],
      "execution_count": 2,
      "outputs": [
        {
          "output_type": "stream",
          "text": [
            "Using TensorFlow backend.\n"
          ],
          "name": "stderr"
        }
      ]
    },
    {
      "cell_type": "markdown",
      "metadata": {
        "id": "cpLI3gGSyIBL",
        "colab_type": "text"
      },
      "source": [
        "## Neural Network\n",
        "\n",
        "A simple Fully Connected Neural Network"
      ]
    },
    {
      "cell_type": "code",
      "metadata": {
        "id": "1P55bkQmyfdg",
        "colab_type": "code",
        "colab": {}
      },
      "source": [
        "# GPU info\n",
        "# !nvidia-smi"
      ],
      "execution_count": 0,
      "outputs": []
    },
    {
      "cell_type": "markdown",
      "metadata": {
        "id": "dfMNg6kwHLRO",
        "colab_type": "text"
      },
      "source": [
        "### Data Processing"
      ]
    },
    {
      "cell_type": "code",
      "metadata": {
        "id": "X7_WVRSM7XJu",
        "colab_type": "code",
        "colab": {}
      },
      "source": [
        "# load features dataset\n",
        "filepath = \"https://raw.githubusercontent.com/alejogiley/Novartis-Hackaton-7/master/Data/Gyrase/AZ_Pyrrolamides_features_final.csv\"\n",
        "datasets = pd.read_csv(filepath)\n",
        "\n",
        "# rename\n",
        "datasets.rename(columns={'SAU Gyr IC50 (礛)':'pIC50'}, inplace=True)\n",
        "\n",
        "pattern = \"[<]\"\n",
        "filters = datasets.pIC50.str.contains(pattern)\n",
        "datasets[\"left_saturated\"] = filters\n",
        "\n",
        "pattern = \"[>]\"\n",
        "filters = datasets.pIC50.str.contains(pattern)\n",
        "datasets[\"right_saturated\"] = filters\n",
        "\n",
        "# Reorder dataframe\n",
        "cols = datasets.columns.tolist()\n",
        "cols = cols[:2] + cols[-2:] + cols[2:-2]\n",
        "datasets = datasets[cols]\n",
        "\n",
        "datasets['pIC50'] = datasets['pIC50'].str.replace(r'[><]', '')\n",
        "datasets['pIC50'] = datasets['pIC50'].apply(lambda x: np.log(float(x)))\n",
        "\n",
        "# drop Ipc\n",
        "datasets = datasets.drop(['Ipc'], axis=1)"
      ],
      "execution_count": 0,
      "outputs": []
    },
    {
      "cell_type": "markdown",
      "metadata": {
        "id": "oA89MpF3HQkw",
        "colab_type": "text"
      },
      "source": [
        "Get the left censored and right censored sorted out."
      ]
    },
    {
      "cell_type": "code",
      "metadata": {
        "id": "No5ySwjxjjRB",
        "colab_type": "code",
        "colab": {}
      },
      "source": [
        "# input and output\n",
        "y = datasets['pIC50'].copy()\n",
        "y = y.astype('float64').to_numpy()\n",
        "\n",
        "x = datasets.iloc[:,4:].copy()\n",
        "x = x.astype('float64').to_numpy()\n",
        "\n",
        "# qualifiers classification\n",
        "s1 = datasets['left_saturated' ].apply(lambda x: x*1).copy()\n",
        "s2 = datasets['right_saturated'].apply(lambda x: x*1).copy()\n",
        "\n",
        "s1 = s1.to_numpy()\n",
        "s2 = s2.to_numpy()\n",
        "\n",
        "s0 = s1 + s2\n",
        "\n",
        "# > greater\n",
        "rcutoff = s2 * datasets['pIC50'].copy().astype('float64')\n",
        "rcutoff = rcutoff.to_numpy()\n",
        "\n",
        "# < lower\n",
        "lcutoff = s1 * datasets['pIC50'].copy().astype('float64')\n",
        "lcutoff = lcutoff.to_numpy()"
      ],
      "execution_count": 0,
      "outputs": []
    },
    {
      "cell_type": "markdown",
      "metadata": {
        "id": "3cej1rPmHVK1",
        "colab_type": "text"
      },
      "source": [
        "Check final dataset is OK."
      ]
    },
    {
      "cell_type": "code",
      "metadata": {
        "id": "Tp4icQsDxAZK",
        "colab_type": "code",
        "outputId": "a52780c3-8524-4a1b-c4b1-d615d285d0d4",
        "colab": {
          "base_uri": "https://localhost:8080/",
          "height": 253
        }
      },
      "source": [
        "datasets.head(5)"
      ],
      "execution_count": 6,
      "outputs": [
        {
          "output_type": "execute_result",
          "data": {
            "text/html": [
              "<div>\n",
              "<style scoped>\n",
              "    .dataframe tbody tr th:only-of-type {\n",
              "        vertical-align: middle;\n",
              "    }\n",
              "\n",
              "    .dataframe tbody tr th {\n",
              "        vertical-align: top;\n",
              "    }\n",
              "\n",
              "    .dataframe thead th {\n",
              "        text-align: right;\n",
              "    }\n",
              "</style>\n",
              "<table border=\"1\" class=\"dataframe\">\n",
              "  <thead>\n",
              "    <tr style=\"text-align: right;\">\n",
              "      <th></th>\n",
              "      <th>Molecule SMILES</th>\n",
              "      <th>pIC50</th>\n",
              "      <th>left_saturated</th>\n",
              "      <th>right_saturated</th>\n",
              "      <th>MaxEStateIndex</th>\n",
              "      <th>MinEStateIndex</th>\n",
              "      <th>MinAbsEStateIndex</th>\n",
              "      <th>qed</th>\n",
              "      <th>MolWt</th>\n",
              "      <th>MaxPartialCharge</th>\n",
              "      <th>MinPartialCharge</th>\n",
              "      <th>FpDensityMorgan1</th>\n",
              "      <th>FpDensityMorgan2</th>\n",
              "      <th>BalabanJ</th>\n",
              "      <th>BertzCT</th>\n",
              "      <th>HallKierAlpha</th>\n",
              "      <th>Kappa3</th>\n",
              "      <th>PEOE_VSA1</th>\n",
              "      <th>PEOE_VSA10</th>\n",
              "      <th>PEOE_VSA11</th>\n",
              "      <th>PEOE_VSA12</th>\n",
              "      <th>PEOE_VSA13</th>\n",
              "      <th>PEOE_VSA14</th>\n",
              "      <th>PEOE_VSA2</th>\n",
              "      <th>PEOE_VSA3</th>\n",
              "      <th>PEOE_VSA4</th>\n",
              "      <th>PEOE_VSA5</th>\n",
              "      <th>PEOE_VSA6</th>\n",
              "      <th>PEOE_VSA7</th>\n",
              "      <th>PEOE_VSA8</th>\n",
              "      <th>PEOE_VSA9</th>\n",
              "      <th>SMR_VSA1</th>\n",
              "      <th>SMR_VSA10</th>\n",
              "      <th>SMR_VSA3</th>\n",
              "      <th>SMR_VSA4</th>\n",
              "      <th>SMR_VSA5</th>\n",
              "      <th>SMR_VSA6</th>\n",
              "      <th>SMR_VSA7</th>\n",
              "      <th>SMR_VSA9</th>\n",
              "      <th>SlogP_VSA1</th>\n",
              "      <th>...</th>\n",
              "      <th>f_3821</th>\n",
              "      <th>f_3831</th>\n",
              "      <th>f_3838</th>\n",
              "      <th>f_3839</th>\n",
              "      <th>f_3850</th>\n",
              "      <th>f_3864</th>\n",
              "      <th>f_3873</th>\n",
              "      <th>f_3888</th>\n",
              "      <th>f_3896</th>\n",
              "      <th>f_3897</th>\n",
              "      <th>f_3907</th>\n",
              "      <th>f_3914</th>\n",
              "      <th>f_3921</th>\n",
              "      <th>f_3924</th>\n",
              "      <th>f_3940</th>\n",
              "      <th>f_3945</th>\n",
              "      <th>f_3959</th>\n",
              "      <th>f_3963</th>\n",
              "      <th>f_3976</th>\n",
              "      <th>f_3980</th>\n",
              "      <th>f_3992</th>\n",
              "      <th>f_3994</th>\n",
              "      <th>f_4003</th>\n",
              "      <th>f_4006</th>\n",
              "      <th>f_4009</th>\n",
              "      <th>f_4013</th>\n",
              "      <th>f_4015</th>\n",
              "      <th>f_4026</th>\n",
              "      <th>f_4028</th>\n",
              "      <th>f_4033</th>\n",
              "      <th>f_4034</th>\n",
              "      <th>f_4039</th>\n",
              "      <th>f_4044</th>\n",
              "      <th>f_4048</th>\n",
              "      <th>f_4057</th>\n",
              "      <th>f_4062</th>\n",
              "      <th>f_4069</th>\n",
              "      <th>f_4076</th>\n",
              "      <th>f_4090</th>\n",
              "      <th>f_4095</th>\n",
              "    </tr>\n",
              "  </thead>\n",
              "  <tbody>\n",
              "    <tr>\n",
              "      <th>0</th>\n",
              "      <td>c1cc(c(nc1)N2CCC(CC2)NC(=O)c3cc(c([nH]3)Cl)Cl)...</td>\n",
              "      <td>5.991465</td>\n",
              "      <td>False</td>\n",
              "      <td>True</td>\n",
              "      <td>12.198481</td>\n",
              "      <td>-0.435597</td>\n",
              "      <td>0.013283</td>\n",
              "      <td>0.623001</td>\n",
              "      <td>384.223</td>\n",
              "      <td>0.311075</td>\n",
              "      <td>-0.350740</td>\n",
              "      <td>1.400000</td>\n",
              "      <td>2.120000</td>\n",
              "      <td>1.606288</td>\n",
              "      <td>782.714558</td>\n",
              "      <td>-2.32</td>\n",
              "      <td>3.853433</td>\n",
              "      <td>15.200677</td>\n",
              "      <td>10.847038</td>\n",
              "      <td>0.0</td>\n",
              "      <td>5.817863</td>\n",
              "      <td>5.90718</td>\n",
              "      <td>5.687386</td>\n",
              "      <td>14.908855</td>\n",
              "      <td>4.983979</td>\n",
              "      <td>0.000000</td>\n",
              "      <td>0.0</td>\n",
              "      <td>23.201880</td>\n",
              "      <td>24.974377</td>\n",
              "      <td>31.394564</td>\n",
              "      <td>9.945944</td>\n",
              "      <td>9.717848</td>\n",
              "      <td>40.614309</td>\n",
              "      <td>15.284746</td>\n",
              "      <td>0.0</td>\n",
              "      <td>18.883484</td>\n",
              "      <td>17.989423</td>\n",
              "      <td>50.379934</td>\n",
              "      <td>0.000000</td>\n",
              "      <td>10.216698</td>\n",
              "      <td>...</td>\n",
              "      <td>0</td>\n",
              "      <td>0</td>\n",
              "      <td>0</td>\n",
              "      <td>0</td>\n",
              "      <td>0</td>\n",
              "      <td>0</td>\n",
              "      <td>0</td>\n",
              "      <td>0</td>\n",
              "      <td>0</td>\n",
              "      <td>0</td>\n",
              "      <td>0</td>\n",
              "      <td>1</td>\n",
              "      <td>1</td>\n",
              "      <td>0</td>\n",
              "      <td>0</td>\n",
              "      <td>0</td>\n",
              "      <td>0</td>\n",
              "      <td>0</td>\n",
              "      <td>0</td>\n",
              "      <td>0</td>\n",
              "      <td>0</td>\n",
              "      <td>0</td>\n",
              "      <td>0</td>\n",
              "      <td>0</td>\n",
              "      <td>0</td>\n",
              "      <td>0</td>\n",
              "      <td>0</td>\n",
              "      <td>0</td>\n",
              "      <td>0</td>\n",
              "      <td>0</td>\n",
              "      <td>0</td>\n",
              "      <td>0</td>\n",
              "      <td>0</td>\n",
              "      <td>0</td>\n",
              "      <td>0</td>\n",
              "      <td>0</td>\n",
              "      <td>0</td>\n",
              "      <td>0</td>\n",
              "      <td>0</td>\n",
              "      <td>0</td>\n",
              "    </tr>\n",
              "    <tr>\n",
              "      <th>1</th>\n",
              "      <td>CC(C)c1c(cc([nH]1)C(=O)NC2CCN(CC2)c3c(cccn3)[N...</td>\n",
              "      <td>3.912023</td>\n",
              "      <td>False</td>\n",
              "      <td>True</td>\n",
              "      <td>12.517532</td>\n",
              "      <td>-0.411106</td>\n",
              "      <td>0.011515</td>\n",
              "      <td>0.550709</td>\n",
              "      <td>436.310</td>\n",
              "      <td>0.311075</td>\n",
              "      <td>-0.353241</td>\n",
              "      <td>1.444444</td>\n",
              "      <td>2.148148</td>\n",
              "      <td>1.607439</td>\n",
              "      <td>843.272683</td>\n",
              "      <td>-2.42</td>\n",
              "      <td>4.292290</td>\n",
              "      <td>15.200677</td>\n",
              "      <td>5.693928</td>\n",
              "      <td>0.0</td>\n",
              "      <td>5.817863</td>\n",
              "      <td>5.90718</td>\n",
              "      <td>5.687386</td>\n",
              "      <td>14.908855</td>\n",
              "      <td>4.983979</td>\n",
              "      <td>0.000000</td>\n",
              "      <td>0.0</td>\n",
              "      <td>13.847474</td>\n",
              "      <td>46.822227</td>\n",
              "      <td>41.561212</td>\n",
              "      <td>4.923311</td>\n",
              "      <td>9.717848</td>\n",
              "      <td>33.342373</td>\n",
              "      <td>15.284746</td>\n",
              "      <td>0.0</td>\n",
              "      <td>38.648865</td>\n",
              "      <td>17.989423</td>\n",
              "      <td>50.370839</td>\n",
              "      <td>0.000000</td>\n",
              "      <td>10.216698</td>\n",
              "      <td>...</td>\n",
              "      <td>0</td>\n",
              "      <td>0</td>\n",
              "      <td>0</td>\n",
              "      <td>0</td>\n",
              "      <td>0</td>\n",
              "      <td>0</td>\n",
              "      <td>0</td>\n",
              "      <td>0</td>\n",
              "      <td>0</td>\n",
              "      <td>0</td>\n",
              "      <td>0</td>\n",
              "      <td>1</td>\n",
              "      <td>1</td>\n",
              "      <td>0</td>\n",
              "      <td>0</td>\n",
              "      <td>0</td>\n",
              "      <td>0</td>\n",
              "      <td>0</td>\n",
              "      <td>0</td>\n",
              "      <td>0</td>\n",
              "      <td>0</td>\n",
              "      <td>0</td>\n",
              "      <td>0</td>\n",
              "      <td>0</td>\n",
              "      <td>0</td>\n",
              "      <td>0</td>\n",
              "      <td>0</td>\n",
              "      <td>0</td>\n",
              "      <td>0</td>\n",
              "      <td>0</td>\n",
              "      <td>0</td>\n",
              "      <td>0</td>\n",
              "      <td>0</td>\n",
              "      <td>0</td>\n",
              "      <td>0</td>\n",
              "      <td>0</td>\n",
              "      <td>0</td>\n",
              "      <td>0</td>\n",
              "      <td>0</td>\n",
              "      <td>0</td>\n",
              "    </tr>\n",
              "    <tr>\n",
              "      <th>2</th>\n",
              "      <td>CCOC(=O)c1cc(nc(c1C#N)N2CCC(CC2)NC(=O)c3cc(c([...</td>\n",
              "      <td>1.965713</td>\n",
              "      <td>False</td>\n",
              "      <td>False</td>\n",
              "      <td>12.472623</td>\n",
              "      <td>-0.518193</td>\n",
              "      <td>0.024077</td>\n",
              "      <td>0.644188</td>\n",
              "      <td>474.359</td>\n",
              "      <td>0.339176</td>\n",
              "      <td>-0.462356</td>\n",
              "      <td>1.366667</td>\n",
              "      <td>2.066667</td>\n",
              "      <td>1.707098</td>\n",
              "      <td>983.301265</td>\n",
              "      <td>-2.86</td>\n",
              "      <td>4.648309</td>\n",
              "      <td>19.937540</td>\n",
              "      <td>23.144464</td>\n",
              "      <td>0.0</td>\n",
              "      <td>0.000000</td>\n",
              "      <td>5.90718</td>\n",
              "      <td>5.969305</td>\n",
              "      <td>4.794537</td>\n",
              "      <td>9.778516</td>\n",
              "      <td>5.261892</td>\n",
              "      <td>0.0</td>\n",
              "      <td>0.000000</td>\n",
              "      <td>61.675533</td>\n",
              "      <td>34.991929</td>\n",
              "      <td>12.170333</td>\n",
              "      <td>14.325937</td>\n",
              "      <td>33.624292</td>\n",
              "      <td>15.284746</td>\n",
              "      <td>0.0</td>\n",
              "      <td>39.654696</td>\n",
              "      <td>24.596305</td>\n",
              "      <td>44.814141</td>\n",
              "      <td>6.069221</td>\n",
              "      <td>10.216698</td>\n",
              "      <td>...</td>\n",
              "      <td>0</td>\n",
              "      <td>0</td>\n",
              "      <td>0</td>\n",
              "      <td>0</td>\n",
              "      <td>0</td>\n",
              "      <td>0</td>\n",
              "      <td>0</td>\n",
              "      <td>0</td>\n",
              "      <td>1</td>\n",
              "      <td>0</td>\n",
              "      <td>0</td>\n",
              "      <td>0</td>\n",
              "      <td>1</td>\n",
              "      <td>0</td>\n",
              "      <td>0</td>\n",
              "      <td>0</td>\n",
              "      <td>0</td>\n",
              "      <td>0</td>\n",
              "      <td>0</td>\n",
              "      <td>0</td>\n",
              "      <td>0</td>\n",
              "      <td>0</td>\n",
              "      <td>0</td>\n",
              "      <td>0</td>\n",
              "      <td>0</td>\n",
              "      <td>0</td>\n",
              "      <td>0</td>\n",
              "      <td>0</td>\n",
              "      <td>0</td>\n",
              "      <td>0</td>\n",
              "      <td>0</td>\n",
              "      <td>1</td>\n",
              "      <td>0</td>\n",
              "      <td>0</td>\n",
              "      <td>0</td>\n",
              "      <td>0</td>\n",
              "      <td>0</td>\n",
              "      <td>0</td>\n",
              "      <td>0</td>\n",
              "      <td>0</td>\n",
              "    </tr>\n",
              "    <tr>\n",
              "      <th>3</th>\n",
              "      <td>Cc1c(cc([nH]1)C(=O)NC2CCN(CC2)c3c(cccn3)C#N)Br</td>\n",
              "      <td>2.295560</td>\n",
              "      <td>False</td>\n",
              "      <td>False</td>\n",
              "      <td>12.298197</td>\n",
              "      <td>-0.085370</td>\n",
              "      <td>0.085370</td>\n",
              "      <td>0.847033</td>\n",
              "      <td>388.269</td>\n",
              "      <td>0.267458</td>\n",
              "      <td>-0.355369</td>\n",
              "      <td>1.500000</td>\n",
              "      <td>2.250000</td>\n",
              "      <td>1.591350</td>\n",
              "      <td>767.018857</td>\n",
              "      <td>-2.33</td>\n",
              "      <td>3.436063</td>\n",
              "      <td>15.200677</td>\n",
              "      <td>17.581012</td>\n",
              "      <td>0.0</td>\n",
              "      <td>0.000000</td>\n",
              "      <td>5.90718</td>\n",
              "      <td>0.000000</td>\n",
              "      <td>4.794537</td>\n",
              "      <td>4.983979</td>\n",
              "      <td>5.261892</td>\n",
              "      <td>0.0</td>\n",
              "      <td>0.000000</td>\n",
              "      <td>53.894426</td>\n",
              "      <td>35.494845</td>\n",
              "      <td>5.563451</td>\n",
              "      <td>4.794537</td>\n",
              "      <td>27.654986</td>\n",
              "      <td>15.284746</td>\n",
              "      <td>0.0</td>\n",
              "      <td>25.807221</td>\n",
              "      <td>17.989423</td>\n",
              "      <td>45.819972</td>\n",
              "      <td>6.069221</td>\n",
              "      <td>10.216698</td>\n",
              "      <td>...</td>\n",
              "      <td>0</td>\n",
              "      <td>0</td>\n",
              "      <td>0</td>\n",
              "      <td>0</td>\n",
              "      <td>0</td>\n",
              "      <td>0</td>\n",
              "      <td>0</td>\n",
              "      <td>0</td>\n",
              "      <td>1</td>\n",
              "      <td>0</td>\n",
              "      <td>0</td>\n",
              "      <td>1</td>\n",
              "      <td>1</td>\n",
              "      <td>0</td>\n",
              "      <td>0</td>\n",
              "      <td>0</td>\n",
              "      <td>0</td>\n",
              "      <td>0</td>\n",
              "      <td>0</td>\n",
              "      <td>0</td>\n",
              "      <td>0</td>\n",
              "      <td>0</td>\n",
              "      <td>0</td>\n",
              "      <td>0</td>\n",
              "      <td>0</td>\n",
              "      <td>0</td>\n",
              "      <td>0</td>\n",
              "      <td>0</td>\n",
              "      <td>0</td>\n",
              "      <td>0</td>\n",
              "      <td>0</td>\n",
              "      <td>0</td>\n",
              "      <td>0</td>\n",
              "      <td>0</td>\n",
              "      <td>0</td>\n",
              "      <td>0</td>\n",
              "      <td>0</td>\n",
              "      <td>0</td>\n",
              "      <td>0</td>\n",
              "      <td>0</td>\n",
              "    </tr>\n",
              "    <tr>\n",
              "      <th>4</th>\n",
              "      <td>Cc1c(cc([nH]1)C(=O)NC2CCN(CC2)c3ccc4ccccc4n3)Br</td>\n",
              "      <td>1.196948</td>\n",
              "      <td>False</td>\n",
              "      <td>False</td>\n",
              "      <td>12.387258</td>\n",
              "      <td>-0.040667</td>\n",
              "      <td>0.040667</td>\n",
              "      <td>0.681761</td>\n",
              "      <td>413.319</td>\n",
              "      <td>0.267458</td>\n",
              "      <td>-0.356445</td>\n",
              "      <td>1.230769</td>\n",
              "      <td>2.000000</td>\n",
              "      <td>1.376538</td>\n",
              "      <td>924.389107</td>\n",
              "      <td>-2.34</td>\n",
              "      <td>3.464258</td>\n",
              "      <td>15.200677</td>\n",
              "      <td>11.511791</td>\n",
              "      <td>0.0</td>\n",
              "      <td>0.000000</td>\n",
              "      <td>5.90718</td>\n",
              "      <td>0.000000</td>\n",
              "      <td>4.794537</td>\n",
              "      <td>4.983979</td>\n",
              "      <td>0.000000</td>\n",
              "      <td>0.0</td>\n",
              "      <td>18.199101</td>\n",
              "      <td>59.960793</td>\n",
              "      <td>34.684225</td>\n",
              "      <td>5.516701</td>\n",
              "      <td>4.794537</td>\n",
              "      <td>38.557911</td>\n",
              "      <td>15.284746</td>\n",
              "      <td>0.0</td>\n",
              "      <td>25.807221</td>\n",
              "      <td>17.989423</td>\n",
              "      <td>58.325145</td>\n",
              "      <td>0.000000</td>\n",
              "      <td>10.216698</td>\n",
              "      <td>...</td>\n",
              "      <td>0</td>\n",
              "      <td>0</td>\n",
              "      <td>0</td>\n",
              "      <td>0</td>\n",
              "      <td>0</td>\n",
              "      <td>0</td>\n",
              "      <td>0</td>\n",
              "      <td>0</td>\n",
              "      <td>1</td>\n",
              "      <td>0</td>\n",
              "      <td>0</td>\n",
              "      <td>0</td>\n",
              "      <td>1</td>\n",
              "      <td>0</td>\n",
              "      <td>0</td>\n",
              "      <td>0</td>\n",
              "      <td>0</td>\n",
              "      <td>0</td>\n",
              "      <td>0</td>\n",
              "      <td>0</td>\n",
              "      <td>0</td>\n",
              "      <td>0</td>\n",
              "      <td>0</td>\n",
              "      <td>0</td>\n",
              "      <td>0</td>\n",
              "      <td>0</td>\n",
              "      <td>0</td>\n",
              "      <td>0</td>\n",
              "      <td>0</td>\n",
              "      <td>0</td>\n",
              "      <td>0</td>\n",
              "      <td>0</td>\n",
              "      <td>0</td>\n",
              "      <td>0</td>\n",
              "      <td>0</td>\n",
              "      <td>0</td>\n",
              "      <td>0</td>\n",
              "      <td>0</td>\n",
              "      <td>0</td>\n",
              "      <td>0</td>\n",
              "    </tr>\n",
              "  </tbody>\n",
              "</table>\n",
              "<p>5 rows × 592 columns</p>\n",
              "</div>"
            ],
            "text/plain": [
              "                                     Molecule SMILES     pIC50  ...  f_4090  f_4095\n",
              "0  c1cc(c(nc1)N2CCC(CC2)NC(=O)c3cc(c([nH]3)Cl)Cl)...  5.991465  ...       0       0\n",
              "1  CC(C)c1c(cc([nH]1)C(=O)NC2CCN(CC2)c3c(cccn3)[N...  3.912023  ...       0       0\n",
              "2  CCOC(=O)c1cc(nc(c1C#N)N2CCC(CC2)NC(=O)c3cc(c([...  1.965713  ...       0       0\n",
              "3     Cc1c(cc([nH]1)C(=O)NC2CCN(CC2)c3c(cccn3)C#N)Br  2.295560  ...       0       0\n",
              "4    Cc1c(cc([nH]1)C(=O)NC2CCN(CC2)c3ccc4ccccc4n3)Br  1.196948  ...       0       0\n",
              "\n",
              "[5 rows x 592 columns]"
            ]
          },
          "metadata": {
            "tags": []
          },
          "execution_count": 6
        }
      ]
    },
    {
      "cell_type": "markdown",
      "metadata": {
        "id": "H_uM-OUUn9ld",
        "colab_type": "text"
      },
      "source": [
        "Split the machine-learning-ready dataset into __training__, __test__ and __validation__ subsets."
      ]
    },
    {
      "cell_type": "code",
      "metadata": {
        "id": "q3X88qpukiBH",
        "colab_type": "code",
        "colab": {}
      },
      "source": [
        "x_train, x_test, y_train, y_test = train_test_split(x, y, test_size=0.25, random_state=42)"
      ],
      "execution_count": 0,
      "outputs": []
    },
    {
      "cell_type": "markdown",
      "metadata": {
        "id": "adH-v8aYok6h",
        "colab_type": "text"
      },
      "source": [
        "### Loss function (with censored data)"
      ]
    },
    {
      "cell_type": "code",
      "metadata": {
        "id": "5kDEaySUojyg",
        "colab_type": "code",
        "colab": {}
      },
      "source": [
        "def custom_loss(y_true, y_pred):\n",
        "    # get deltas\n",
        "    z = y_pred - y_true\n",
        "    r = y_pred - rcutoff\n",
        "    l = y_pred - lcutoff\n",
        "    # qualifiers adjusted Loss function\n",
        "    #return K.mean((1-s0)*K.square(z), axis=-1)\n",
        "    return K.mean((1-s0)*K.square(z) + s2*K.relu(-r) + s1*K.relu(l), axis=-1)"
      ],
      "execution_count": 0,
      "outputs": []
    },
    {
      "cell_type": "markdown",
      "metadata": {
        "id": "gG7zUqyZt6rc",
        "colab_type": "text"
      },
      "source": [
        "### Fully Connected NN\n",
        "\n",
        "The performance of common machine-learning algorithms can be very sensitive to preprocessing of the data, neural networks mostly. Here we will normalize the features and $\\log{\\text{IC50}}$ to have zero-mean and unit-standard-deviation `BatchNormalization`."
      ]
    },
    {
      "cell_type": "code",
      "metadata": {
        "id": "ODU3luRZ2bvE",
        "colab_type": "code",
        "colab": {}
      },
      "source": [
        "# Function to create model\n",
        "def create_model(x):\n",
        "    # create model\n",
        "    model = Sequential()\n",
        "    # input layer\n",
        "    model.add(Dense(units=50, \n",
        "                    input_shape=(x, ), \n",
        "                    kernel_initializer='random_uniform',\n",
        "                    bias_initializer='ones'))\n",
        "    model.add(BatchNormalization())\n",
        "    model.add(Activation(\"relu\"))\n",
        "    model.add(Dropout(0.2))\n",
        "    # hidden layer\n",
        "    model.add(Dense(units=50))\n",
        "    model.add(Activation(\"relu\"))\n",
        "    model.add(Dropout(0.2))\n",
        "    # hidden layer\n",
        "    model.add(Dense(units=25))\n",
        "    model.add(Activation(\"relu\"))\n",
        "    # output layer\n",
        "    model.add(Dense(units=1, activation='linear'))\n",
        "    \n",
        "    model.compile(loss=custom_loss,                     # Custom loss function\n",
        "                  optimizer=Adam(lr=1e-4, decay=1e-6),  # Adam optimizer\n",
        "                  metrics=['accuracy']) \t            # measure performace\n",
        "    return model"
      ],
      "execution_count": 0,
      "outputs": []
    },
    {
      "cell_type": "markdown",
      "metadata": {
        "id": "O6AqbU5hpdr1",
        "colab_type": "text"
      },
      "source": [
        "### Run Lola, Run\n",
        "\n",
        "Parameters are not optimized! Do Grid search."
      ]
    },
    {
      "cell_type": "code",
      "metadata": {
        "id": "V5Ce2Fu0pu_t",
        "colab_type": "code",
        "colab": {}
      },
      "source": [
        "%%capture\n",
        "\n",
        "# input dimensions\n",
        "input_dim = x.shape[1]\n",
        "\n",
        "# fix random seed\n",
        "seed = 84\n",
        "np.random.seed(seed)\n",
        "\n",
        "# Clearing the NN\n",
        "network = None \n",
        "network = create_model(input_dim) \n",
        "\n",
        "# Train neural network\n",
        "history = network.fit(x_train,                          # Features\n",
        "                      y_train,                          # Target\n",
        "                      epochs=600,                       # Number of epochs\n",
        "                      verbose=0,                        # No output\n",
        "                      batch_size=50,                    # Number of observations per batch\n",
        "                      validation_data=(x_test, y_test)) # Data for evaluation"
      ],
      "execution_count": 0,
      "outputs": []
    },
    {
      "cell_type": "markdown",
      "metadata": {
        "id": "2Z8o-yS-H3yo",
        "colab_type": "text"
      },
      "source": [
        "### Evaluation"
      ]
    },
    {
      "cell_type": "code",
      "metadata": {
        "id": "3j08gPVT-Uf2",
        "colab_type": "code",
        "outputId": "0fb466bd-b002-41a5-c507-906067667e31",
        "colab": {
          "base_uri": "https://localhost:8080/",
          "height": 347
        }
      },
      "source": [
        "plt.rcParams[\"figure.figsize\"] = (8,5)    # plot size\n",
        "\n",
        "# Get training and test loss histories\n",
        "training_loss = history.history['loss']\n",
        "test_loss = history.history['val_loss']\n",
        "\n",
        "# Create count of the number of epochs\n",
        "epoch_count = range(1, len(training_loss) + 1)\n",
        "\n",
        "# Visualize loss history\n",
        "plt.plot(epoch_count, training_loss, 'b-')\n",
        "plt.plot(epoch_count, test_loss, 'r-')\n",
        "plt.legend(['Training', 'Test'], fontsize=14)\n",
        "plt.ylim([0,10])\n",
        "plt.xlabel('Epoch', fontsize=14)\n",
        "plt.ylabel('Loss',  fontsize=14)\n",
        "plt.xticks(fontsize=14)\n",
        "plt.yticks(fontsize=14)\n",
        "plt.show()"
      ],
      "execution_count": 34,
      "outputs": [
        {
          "output_type": "display_data",
          "data": {
            "image/png": "[encoded data removed]",
            "text/plain": [
              "<Figure size 576x360 with 1 Axes>"
            ]
          },
          "metadata": {
            "tags": []
          }
        }
      ]
    },
    {
      "cell_type": "code",
      "metadata": {
        "id": "xZkapqVuI9gk",
        "colab_type": "code",
        "outputId": "f78ba49a-d4a5-4a42-87df-fbb42a1d97df",
        "colab": {
          "base_uri": "https://localhost:8080/",
          "height": 401
        }
      },
      "source": [
        "plt.rcParams[\"figure.figsize\"] = (18,6)    # plot size\n",
        "fig, ax = plt.subplots()\n",
        "\n",
        "c = 'blue'\n",
        "ax.scatter(y_train, network.predict(x_train), \n",
        "           s=65, c=c, zorder=10, edgecolors='k')\n",
        "\n",
        "#c = y_test.astype(int)\n",
        "c = 'red'\n",
        "ax.scatter(y_test, network.predict(x_test), \n",
        "           s=65, c=c, cmap=plt.cm.coolwarm, \n",
        "           zorder=10, edgecolors='k')\n",
        "\n",
        "ax.set_xlabel(\"pIC50 experimental\", fontsize=16)\n",
        "ax.set_ylabel(\"pIC50 prediction\",   fontsize=16)\n",
        "\n",
        "lims = [\n",
        "    np.min([ax.get_xlim(), ax.get_ylim()]),  # min of both axes\n",
        "    np.max([ax.get_xlim(), ax.get_ylim()]),  # max of both axes\n",
        "]\n",
        "\n",
        "# now plot both limits against eachother\n",
        "ax.plot(lims, lims, 'k-', alpha=0.75, zorder=0)\n",
        "ax.set_aspect('equal')\n",
        "ax.set_xlim(lims)\n",
        "ax.set_ylim(lims)\n",
        "\n",
        "# integer limits\n",
        "ilims = [int(x+0.5) for x in lims]\n",
        "ax.set_xticks(np.arange(*ilims,2))\n",
        "ax.set_yticks(np.arange(*ilims,2))\n",
        "\n",
        "# We change the fontsize of minor ticks label \n",
        "ax.tick_params(axis='both', which='major', labelsize=14)\n",
        "ax.tick_params(axis='both', which='major', labelsize=14)\n",
        "\n",
        "plt.show()"
      ],
      "execution_count": 35,
      "outputs": [
        {
          "output_type": "display_data",
          "data": {
            "image/png": "[encoded data removed]",
            "text/plain": [
              "<Figure size 1296x432 with 1 Axes>"
            ]
          },
          "metadata": {
            "tags": []
          }
        }
      ]
    },
    {
      "cell_type": "code",
      "metadata": {
        "id": "Gzg9XfkCSgVA",
        "colab_type": "code",
        "outputId": "a5cb43e2-3d71-4d7d-cdb6-223334428302",
        "colab": {
          "base_uri": "https://localhost:8080/",
          "height": 68
        }
      },
      "source": [
        "slope, intercept, r_value, p_value, std_err = linregress(y_test, network.predict(x_test)[:,0])\n",
        "tau, p_value                                = kendalltau(y_test, network.predict(x_test)[:,0])\n",
        "mae                                         = mean_absolute_error(y_test, network.predict(x_test)[:,0])\n",
        "\n",
        "print(\"R2          : %s\" % r_value)\n",
        "print(\"MAE         : %s\" % mae)\n",
        "print(\"Kendall Tau : %s\" % tau)"
      ],
      "execution_count": 13,
      "outputs": [
        {
          "output_type": "stream",
          "text": [
            "R2          : 0.7788436102436457\n",
            "MAE         : 1.3577356264512275\n",
            "Kendall Tau : 0.6269017860713244\n"
          ],
          "name": "stdout"
        }
      ]
    },
    {
      "cell_type": "markdown",
      "metadata": {
        "id": "N5QIAbuopRgY",
        "colab_type": "text"
      },
      "source": [
        "### Cross-validation"
      ]
    },
    {
      "cell_type": "code",
      "metadata": {
        "id": "D9TRMHgfqN8h",
        "colab_type": "code",
        "outputId": "124940f5-aa3f-4b97-edad-118a5e3abc4d",
        "colab": {
          "base_uri": "https://localhost:8080/",
          "height": 289
        }
      },
      "source": [
        "kf = KFold(n_splits=4, random_state=3, shuffle=True)\n",
        "\n",
        "for train_index, test_index in kf.split(x):\n",
        "    x_train, x_test = x[train_index], x[test_index]\n",
        "    y_train, y_test = y[train_index], y[test_index]\n",
        "    \n",
        "    network = None\n",
        "    network = create_model(x_test.shape[1]) \n",
        "    network.fit(x_train, y_train, epochs=600, verbose=0, batch_size=50)\n",
        "    \n",
        "    slope, intercept, r_value, p_value, std_err = linregress(y_test, network.predict(x_test)[:,0])\n",
        "    tau, p_value                                = kendalltau(y_test, network.predict(x_test)[:,0])\n",
        "    mae                                         = mean_absolute_error(y_test, network.predict(x_test)[:,0])\n",
        "    \n",
        "    print(\"#------------------------#\")\n",
        "    print(\"R2          : %s\" % r_value)\n",
        "    print(\"MAE         : %s\" % mae)\n",
        "    print(\"Kendall Tau : %s\" % tau)"
      ],
      "execution_count": 14,
      "outputs": [
        {
          "output_type": "stream",
          "text": [
            "#------------------------#\n",
            "R2          : 0.7770512043377025\n",
            "MAE         : 1.254484656253906\n",
            "Kendall Tau : 0.6243392865751002\n",
            "#------------------------#\n",
            "R2          : 0.7557069319599014\n",
            "MAE         : 1.1210889546727352\n",
            "Kendall Tau : 0.5930051384796912\n",
            "#------------------------#\n",
            "R2          : 0.7882468519884812\n",
            "MAE         : 2.2552592387538364\n",
            "Kendall Tau : 0.6558348962112438\n",
            "#------------------------#\n",
            "R2          : 0.8348862196466925\n",
            "MAE         : 1.0135047763302572\n",
            "Kendall Tau : 0.6716283676350718\n"
          ],
          "name": "stdout"
        }
      ]
    },
    {
      "cell_type": "markdown",
      "metadata": {
        "id": "jWjXP5MteRo3",
        "colab_type": "text"
      },
      "source": [
        "## Shallow (A Star Is Born)"
      ]
    },
    {
      "cell_type": "code",
      "metadata": {
        "id": "6jFAA27oe4rU",
        "colab_type": "code",
        "colab": {}
      },
      "source": [
        "# Function to create model\n",
        "def create_linear(x):\n",
        "    # create model\n",
        "    model = Sequential()\n",
        "    # input layer\n",
        "    model.add(Dense(units=1, \n",
        "                    input_shape=(x, ), \n",
        "                    kernel_initializer='random_uniform',\n",
        "                    bias_initializer='ones'))\n",
        "    model.add(BatchNormalization())\n",
        "    model.add(Activation(\"linear\"))\n",
        "    \n",
        "    model.compile(loss=custom_loss,                     # Custom loss function\n",
        "                  optimizer=Adam(lr=1e-4, decay=1e-6),  # Adam optimizer\n",
        "                  metrics=['accuracy']) \t            # measure performace\n",
        "    return model"
      ],
      "execution_count": 0,
      "outputs": []
    },
    {
      "cell_type": "code",
      "metadata": {
        "id": "SmTyl0zSeQTK",
        "colab_type": "code",
        "colab": {}
      },
      "source": [
        "# Clearing the NN\n",
        "shallow = None \n",
        "shallow = create_linear(input_dim)                      # Accuracy performance metric\n",
        "\n",
        "# Train shallow model\n",
        "history = shallow.fit(x_train,                          # Features\n",
        "                      y_train,                          # Target\n",
        "                      epochs=600,                       # Number of epochs\n",
        "                      verbose=0,                        # No output\n",
        "                      validation_data=(x_test, y_test)) # Data for evaluation"
      ],
      "execution_count": 0,
      "outputs": []
    },
    {
      "cell_type": "code",
      "metadata": {
        "id": "hJEshFNSfTv-",
        "colab_type": "code",
        "outputId": "6209af26-fbad-4747-dfc7-ccb4124ea1dd",
        "colab": {
          "base_uri": "https://localhost:8080/",
          "height": 404
        }
      },
      "source": [
        "fig, ax = plt.subplots()\n",
        "\n",
        "c = 'blue'\n",
        "ax.scatter(y_train, shallow.predict(x_train), \n",
        "           s=65, c=c, zorder=10, edgecolors='k')\n",
        "\n",
        "c = 'red'\n",
        "ax.scatter(y_test, network.predict(x_test), \n",
        "           s=65, c=c, cmap=plt.cm.coolwarm, \n",
        "           zorder=10, edgecolors='k')\n",
        "\n",
        "ax.set_xlabel(\"pIC50 experimental\", fontsize=18)\n",
        "ax.set_ylabel(\"pIC50 prediction\",   fontsize=18)\n",
        "\n",
        "lims = [\n",
        "    np.min([ax.get_xlim(), ax.get_ylim()]),  # min of both axes\n",
        "    np.max([ax.get_xlim(), ax.get_ylim()]),  # max of both axes\n",
        "]\n",
        "\n",
        "# now plot both limits against eachother\n",
        "ax.plot(lims, lims, 'k-', alpha=0.75, zorder=0)\n",
        "ax.set_aspect('equal')\n",
        "ax.set_xlim(lims)\n",
        "ax.set_ylim(lims)\n",
        "\n",
        "# integer limits\n",
        "ilims = [int(x+0.5) for x in lims]\n",
        "ax.set_xticks(np.arange(*ilims,2))\n",
        "ax.set_yticks(np.arange(*ilims,2))\n",
        "\n",
        "# We change the fontsize of minor ticks label \n",
        "ax.tick_params(axis='both', which='major', labelsize=14)\n",
        "ax.tick_params(axis='both', which='major', labelsize=14)\n",
        "\n",
        "plt.show()"
      ],
      "execution_count": 17,
      "outputs": [
        {
          "output_type": "display_data",
          "data": {
            "image/png": "[encoded data removed]",
            "text/plain": [
              "<Figure size 1296x432 with 1 Axes>"
            ]
          },
          "metadata": {
            "tags": []
          }
        }
      ]
    },
    {
      "cell_type": "code",
      "metadata": {
        "id": "6QvqSfZG0704",
        "colab_type": "code",
        "outputId": "4e03f135-a48c-4e7f-bfae-38c915127d9c",
        "colab": {
          "base_uri": "https://localhost:8080/",
          "height": 68
        }
      },
      "source": [
        "slope, intercept, r_value, p_value, std_err = linregress(y_test, shallow.predict(x_test)[:,0])\n",
        "tau, p_value                                = kendalltau(y_test, shallow.predict(x_test)[:,0])\n",
        "mae                                         = mean_absolute_error(y_test, shallow.predict(x_test)[:,0])\n",
        "\n",
        "print(\"R2          : %s\" % r_value)\n",
        "print(\"MAE         : %s\" % mae)\n",
        "print(\"Kendall Tau : %s\" % tau)"
      ],
      "execution_count": 18,
      "outputs": [
        {
          "output_type": "stream",
          "text": [
            "R2          : 0.8155589195184608\n",
            "MAE         : 1.1806201014876498\n",
            "Kendall Tau : 0.6332076138753913\n"
          ],
          "name": "stdout"
        }
      ]
    },
    {
      "cell_type": "code",
      "metadata": {
        "id": "9UxI_NLhfXlx",
        "colab_type": "code",
        "outputId": "ef137242-abd8-4c70-9abc-d186b57f64a3",
        "colab": {
          "base_uri": "https://localhost:8080/",
          "height": 289
        }
      },
      "source": [
        "kf = KFold(n_splits=4, random_state=3, shuffle=True)\n",
        "\n",
        "for train_index, test_index in kf.split(x):\n",
        "    x_train, x_test = x[train_index], x[test_index]\n",
        "    y_train, y_test = y[train_index], y[test_index]\n",
        "    \n",
        "    shallow = None \n",
        "    shallow = create_model(x_test.shape[1])\n",
        "    shallow.fit(x_train, y_train, epochs=600, verbose=0)\n",
        "    \n",
        "    slope, intercept, r_value, p_value, std_err = linregress(y_test, shallow.predict(x_test)[:,0])\n",
        "    tau, p_value                                = kendalltau(y_test, shallow.predict(x_test)[:,0])\n",
        "    mae                                         = mean_absolute_error(y_test, shallow.predict(x_test)[:,0])\n",
        "    \n",
        "    print(\"#------------------------#\")\n",
        "    print(\"R2          : %s\" % r_value)\n",
        "    print(\"MAE         : %s\" % mae)\n",
        "    print(\"Kendall Tau : %s\" % tau)"
      ],
      "execution_count": 19,
      "outputs": [
        {
          "output_type": "stream",
          "text": [
            "#------------------------#\n",
            "R2          : 0.8110386979041887\n",
            "MAE         : 2.2397173502783794\n",
            "Kendall Tau : 0.6206618046692899\n",
            "#------------------------#\n",
            "R2          : 0.7891534560507983\n",
            "MAE         : 1.2130815679014084\n",
            "Kendall Tau : 0.6341711815213191\n",
            "#------------------------#\n",
            "R2          : 0.8013948175173815\n",
            "MAE         : 2.8826087638966227\n",
            "Kendall Tau : 0.5726960203035275\n",
            "#------------------------#\n",
            "R2          : 0.8282772689278763\n",
            "MAE         : 1.0375508633582287\n",
            "Kendall Tau : 0.6460145317952848\n"
          ],
          "name": "stdout"
        }
      ]
    },
    {
      "cell_type": "markdown",
      "metadata": {
        "id": "sdl6qg4aIKOh",
        "colab_type": "text"
      },
      "source": [
        "## Control\n",
        "\n",
        "Ignore censored data"
      ]
    },
    {
      "cell_type": "code",
      "metadata": {
        "colab_type": "code",
        "id": "Ljfz8CXXISol",
        "colab": {}
      },
      "source": [
        "def custom_loss(y_true, y_pred):\n",
        "    # get deltas\n",
        "    z = y_pred - y_true\n",
        "    r = y_pred - rcutoff\n",
        "    l = y_pred - lcutoff\n",
        "    # qualifiers adjusted Loss function\n",
        "    return K.mean((1-s0)*K.square(z), axis=-1)\n",
        "    #return K.mean((1-s0)*K.square(z) + s2*K.relu(-r) + s1*K.relu(l), axis=-1)"
      ],
      "execution_count": 0,
      "outputs": []
    },
    {
      "cell_type": "code",
      "metadata": {
        "colab_type": "code",
        "id": "oU5_ZtReIap9",
        "colab": {}
      },
      "source": [
        "%%capture\n",
        "\n",
        "# input dimensions\n",
        "input_dim = x.shape[1]\n",
        "\n",
        "# fix random seed\n",
        "seed = 84\n",
        "np.random.seed(seed)\n",
        "\n",
        "# Clearing the NN\n",
        "network2 = None \n",
        "network2 = create_model(input_dim) \n",
        "\n",
        "# Train neural network\n",
        "history = network2.fit(x_train,                          # Features\n",
        "                       y_train,                          # Target\n",
        "                       epochs=600,                       # Number of epochs\n",
        "                       verbose=0,                        # No output\n",
        "                       batch_size=50,                    # Number of observations per batch\n",
        "                       validation_data=(x_test, y_test)) # Data for evaluation"
      ],
      "execution_count": 0,
      "outputs": []
    },
    {
      "cell_type": "code",
      "metadata": {
        "colab_type": "code",
        "outputId": "e68d41d1-083c-4271-966c-2266a1366a0d",
        "id": "SVt1p8CzcNH8",
        "colab": {
          "base_uri": "https://localhost:8080/",
          "height": 347
        }
      },
      "source": [
        "plt.rcParams[\"figure.figsize\"] = (8,5)    # plot size\n",
        "\n",
        "# Get training and test loss histories\n",
        "training_loss = history.history['loss']\n",
        "test_loss = history.history['val_loss']\n",
        "\n",
        "# Create count of the number of epochs\n",
        "epoch_count = range(1, len(training_loss) + 1)\n",
        "\n",
        "# Visualize loss history\n",
        "plt.plot(epoch_count, training_loss, 'b-')\n",
        "plt.plot(epoch_count, test_loss, 'r-')\n",
        "plt.legend(['Training', 'Test'], fontsize=14)\n",
        "plt.ylim([0,10])\n",
        "plt.xlabel('Epoch', fontsize=14)\n",
        "plt.ylabel('Loss',  fontsize=14)\n",
        "plt.xticks(fontsize=14)\n",
        "plt.yticks(fontsize=14)\n",
        "plt.show()"
      ],
      "execution_count": 22,
      "outputs": [
        {
          "output_type": "display_data",
          "data": {
            "image/png": "[encoded data removed]",
            "text/plain": [
              "<Figure size 576x360 with 1 Axes>"
            ]
          },
          "metadata": {
            "tags": []
          }
        }
      ]
    },
    {
      "cell_type": "code",
      "metadata": {
        "colab_type": "code",
        "outputId": "eedf75e8-82b7-4e0d-80cd-acb31081b3ef",
        "id": "oatGB-xYJBYl",
        "colab": {
          "base_uri": "https://localhost:8080/",
          "height": 401
        }
      },
      "source": [
        "plt.rcParams[\"figure.figsize\"] = (18,6)    # plot size\n",
        "fig, ax = plt.subplots()\n",
        "\n",
        "c = 'blue'\n",
        "ax.scatter(y_train, network2.predict(x_train), \n",
        "           s=65, c=c, zorder=10, edgecolors='k')\n",
        "\n",
        "#c = y_test.astype(int)\n",
        "c = 'red'\n",
        "ax.scatter(y_test, network2.predict(x_test), \n",
        "           s=65, c=c, cmap=plt.cm.coolwarm, \n",
        "           zorder=10, edgecolors='k')\n",
        "\n",
        "ax.set_xlabel(\"pIC50 experimental\", fontsize=16)\n",
        "ax.set_ylabel(\"pIC50 prediction\",   fontsize=16)\n",
        "\n",
        "lims = [\n",
        "    np.min([ax.get_xlim(), ax.get_ylim()]),  # min of both axes\n",
        "    np.max([ax.get_xlim(), ax.get_ylim()]),  # max of both axes\n",
        "]\n",
        "\n",
        "# now plot both limits against eachother\n",
        "ax.plot(lims, lims, 'k-', alpha=0.75, zorder=0)\n",
        "ax.set_aspect('equal')\n",
        "ax.set_xlim(lims)\n",
        "ax.set_ylim(lims)\n",
        "\n",
        "# integer limits\n",
        "ilims = [int(x+0.5) for x in lims]\n",
        "ax.set_xticks(np.arange(*ilims,2))\n",
        "ax.set_yticks(np.arange(*ilims,2))\n",
        "\n",
        "# We change the fontsize of minor ticks label \n",
        "ax.tick_params(axis='both', which='major', labelsize=14)\n",
        "ax.tick_params(axis='both', which='major', labelsize=14)\n",
        "\n",
        "plt.show()"
      ],
      "execution_count": 23,
      "outputs": [
        {
          "output_type": "display_data",
          "data": {
            "image/png": "[encoded data removed]",
            "text/plain": [
              "<Figure size 1296x432 with 1 Axes>"
            ]
          },
          "metadata": {
            "tags": []
          }
        }
      ]
    },
    {
      "cell_type": "code",
      "metadata": {
        "colab_type": "code",
        "outputId": "55b6c7d5-d752-40ca-ce3b-fa979dcbabd1",
        "id": "CgiYO1Q-JKvg",
        "colab": {
          "base_uri": "https://localhost:8080/",
          "height": 68
        }
      },
      "source": [
        "slope, intercept, r_value, p_value, std_err = linregress(y_test, network2.predict(x_test)[:,0])\n",
        "tau, p_value                                = kendalltau(y_test, network2.predict(x_test)[:,0])\n",
        "mae                                         = mean_absolute_error(y_test, network2.predict(x_test)[:,0])\n",
        "\n",
        "print(\"R2          : %s\" % r_value)\n",
        "print(\"MAE         : %s\" % mae)\n",
        "print(\"Kendall Tau : %s\" % tau)"
      ],
      "execution_count": 24,
      "outputs": [
        {
          "output_type": "stream",
          "text": [
            "R2          : 0.788040265645839\n",
            "MAE         : 1.004010518090074\n",
            "Kendall Tau : 0.5977961359110955\n"
          ],
          "name": "stdout"
        }
      ]
    },
    {
      "cell_type": "code",
      "metadata": {
        "colab_type": "code",
        "outputId": "36f06e72-7def-46f9-a005-4873effa7c87",
        "id": "48bqJtatJQhm",
        "colab": {
          "base_uri": "https://localhost:8080/",
          "height": 289
        }
      },
      "source": [
        "kf = KFold(n_splits=4, random_state=3, shuffle=True)\n",
        "\n",
        "for train_index, test_index in kf.split(x):\n",
        "    x_train, x_test = x[train_index], x[test_index]\n",
        "    y_train, y_test = y[train_index], y[test_index]\n",
        "    \n",
        "    network2 = None\n",
        "    network2 = create_model(x_test.shape[1]) \n",
        "    network2.fit(x_train, y_train, epochs=600, verbose=0, batch_size=50)\n",
        "    \n",
        "    slope, intercept, r_value, p_value, std_err = linregress(y_test, network2.predict(x_test)[:,0])\n",
        "    tau, p_value                                = kendalltau(y_test, network2.predict(x_test)[:,0])\n",
        "    mae                                         = mean_absolute_error(y_test, network2.predict(x_test)[:,0])\n",
        "    \n",
        "    print(\"#------------------------#\")\n",
        "    print(\"R2          : %s\" % r_value)\n",
        "    print(\"MAE         : %s\" % mae)\n",
        "    print(\"Kendall Tau : %s\" % tau)"
      ],
      "execution_count": 25,
      "outputs": [
        {
          "output_type": "stream",
          "text": [
            "#------------------------#\n",
            "R2          : 0.8054061920451736\n",
            "MAE         : 2.1969156227400495\n",
            "Kendall Tau : 0.6232291033582518\n",
            "#------------------------#\n",
            "R2          : 0.7639401756685346\n",
            "MAE         : 1.2856001121284992\n",
            "Kendall Tau : 0.6013626740636459\n",
            "#------------------------#\n",
            "R2          : 0.7868503912000268\n",
            "MAE         : 3.102219837060745\n",
            "Kendall Tau : 0.565288976405005\n",
            "#------------------------#\n",
            "R2          : 0.8243759354620765\n",
            "MAE         : 0.9181513944366224\n",
            "Kendall Tau : 0.6425153738936745\n"
          ],
          "name": "stdout"
        }
      ]
    },
    {
      "cell_type": "markdown",
      "metadata": {
        "id": "SIdDjQWRqkmv",
        "colab_type": "text"
      },
      "source": [
        "## Validation"
      ]
    },
    {
      "cell_type": "code",
      "metadata": {
        "id": "73Yf1QBvqm9h",
        "colab_type": "code",
        "colab": {}
      },
      "source": [
        "# load features dataset\n",
        "filepath = \"https://raw.githubusercontent.com/alejogiley/Novartis-Hackaton-7/master/Data/Gyrase/BindingDB_Gyrase_B_features.tsv\"\n",
        "validset = pd.read_csv(filepath)\n",
        "\n",
        "# Rename columns\n",
        "validset.rename(columns={'IC50':'pIC50'}, inplace=True)\n",
        "validset.rename(columns={'Ligand SMILES':'Molecule SMILES'}, inplace=True)\n",
        "\n",
        "# Modify dataset\n",
        "validset['pIC50'] = validset['pIC50'].apply(lambda x: np.log(float(x)))\n",
        "validset = validset.drop(['Ipc'], axis=1)\n",
        "\n",
        "# New columns\n",
        "pattern = \"[<]\"\n",
        "filters = validset.Censorship.str.contains(pattern)\n",
        "validset[\"left_saturated\"] = filters\n",
        "\n",
        "pattern = \"[>]\"\n",
        "filters = validset.Censorship.str.contains(pattern)\n",
        "validset[\"right_saturated\"] = filters\n",
        "\n",
        "# Reorder dataframe\n",
        "cols = validset.columns.tolist()\n",
        "cols = cols[:1] + cols[-4:] + cols[1:-4]\n",
        "validset = validset[cols]\n",
        "\n",
        "# Reorder dataframe\n",
        "validset = validset[list(datasets.columns)]\n",
        "\n",
        "# REMOVE SAME SMILES\n",
        "for name in datasets['Molecule SMILES']:\n",
        "    if "
      ],
      "execution_count": 0,
      "outputs": []
    },
    {
      "cell_type": "code",
      "metadata": {
        "id": "2OJyiXOVuZsJ",
        "colab_type": "code",
        "colab": {}
      },
      "source": [
        "# input and output\n",
        "y = validset['pIC50'].copy()\n",
        "y = y.astype('float64').to_numpy()\n",
        "\n",
        "x = validset.iloc[:,4:].copy()\n",
        "x = x.astype('float64').to_numpy()"
      ],
      "execution_count": 0,
      "outputs": []
    },
    {
      "cell_type": "code",
      "metadata": {
        "id": "P6aDWYAZsUsU",
        "colab_type": "code",
        "colab": {
          "base_uri": "https://localhost:8080/",
          "height": 232
        },
        "outputId": "41729582-207a-44a3-ad38-d8f8d31be019"
      },
      "source": [
        "plt.rcParams[\"figure.figsize\"] = (18,6)    # plot size\n",
        "fig, ax = plt.subplots()\n",
        "\n",
        "c = y.astype(int)\n",
        "ax.scatter(y, network.predict(x), \n",
        "           s=65, c=c, cmap=plt.cm.coolwarm, \n",
        "           zorder=10, edgecolors='k')\n",
        "\n",
        "ax.set_xlabel(\"pIC50 experimental\", fontsize=16)\n",
        "ax.set_ylabel(\"pIC50 prediction\",   fontsize=16)\n",
        "\n",
        "lims = [\n",
        "    np.min([ax.get_xlim(), ax.get_ylim()]),  # min of both axes\n",
        "    np.max([ax.get_xlim(), ax.get_ylim()]),  # max of both axes\n",
        "]\n",
        "\n",
        "# now plot both limits against eachother\n",
        "ax.plot(lims, lims, 'k-', alpha=0.75, zorder=0)\n",
        "ax.set_aspect('equal')\n",
        "ax.set_xlim(lims)\n",
        "ax.set_ylim(lims)\n",
        "\n",
        "# integer limits\n",
        "ilims = [int(x+0.5) for x in lims]\n",
        "ax.set_xticks(np.arange(*ilims,2))\n",
        "ax.set_yticks(np.arange(*ilims,2))\n",
        "\n",
        "# We change the fontsize of minor ticks label \n",
        "ax.tick_params(axis='both', which='major', labelsize=14)\n",
        "ax.tick_params(axis='both', which='major', labelsize=14)\n",
        "\n",
        "plt.show()"
      ],
      "execution_count": 1,
      "outputs": [
        {
          "output_type": "error",
          "ename": "NameError",
          "evalue": "ignored",
          "traceback": [
            "\u001b[0;31m---------------------------------------------------------------------------\u001b[0m",
            "\u001b[0;31mNameError\u001b[0m                                 Traceback (most recent call last)",
            "\u001b[0;32m<ipython-input-1-4f739fbdfc77>\u001b[0m in \u001b[0;36m<module>\u001b[0;34m()\u001b[0m\n\u001b[0;32m----> 1\u001b[0;31m \u001b[0mplt\u001b[0m\u001b[0;34m.\u001b[0m\u001b[0mrcParams\u001b[0m\u001b[0;34m[\u001b[0m\u001b[0;34m\"figure.figsize\"\u001b[0m\u001b[0;34m]\u001b[0m \u001b[0;34m=\u001b[0m \u001b[0;34m(\u001b[0m\u001b[0;36m18\u001b[0m\u001b[0;34m,\u001b[0m\u001b[0;36m6\u001b[0m\u001b[0;34m)\u001b[0m    \u001b[0;31m# plot size\u001b[0m\u001b[0;34m\u001b[0m\u001b[0;34m\u001b[0m\u001b[0m\n\u001b[0m\u001b[1;32m      2\u001b[0m \u001b[0mfig\u001b[0m\u001b[0;34m,\u001b[0m \u001b[0max\u001b[0m \u001b[0;34m=\u001b[0m \u001b[0mplt\u001b[0m\u001b[0;34m.\u001b[0m\u001b[0msubplots\u001b[0m\u001b[0;34m(\u001b[0m\u001b[0;34m)\u001b[0m\u001b[0;34m\u001b[0m\u001b[0;34m\u001b[0m\u001b[0m\n\u001b[1;32m      3\u001b[0m \u001b[0;34m\u001b[0m\u001b[0m\n\u001b[1;32m      4\u001b[0m \u001b[0mc\u001b[0m \u001b[0;34m=\u001b[0m \u001b[0my\u001b[0m\u001b[0;34m.\u001b[0m\u001b[0mastype\u001b[0m\u001b[0;34m(\u001b[0m\u001b[0mint\u001b[0m\u001b[0;34m)\u001b[0m\u001b[0;34m\u001b[0m\u001b[0;34m\u001b[0m\u001b[0m\n\u001b[1;32m      5\u001b[0m ax.scatter(y, network.predict(x), \n",
            "\u001b[0;31mNameError\u001b[0m: name 'plt' is not defined"
          ]
        }
      ]
    }
  ]
}