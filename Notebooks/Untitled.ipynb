{
 "cells": [
  {
   "cell_type": "code",
   "execution_count": null,
   "metadata": {},
   "outputs": [],
   "source": [
    "from rdkit import Chem               # RDKit libraries for chemistry functions\n",
    "from rdkit.Chem import Draw          # Drawing chemical structures\n",
    "from rdkit.Chem import PandasTools   # Manipulating chemical data\n",
    "from rdkit.Chem import Descriptors   # Calculate molecular descriptors\n",
    "from rdkit.Chem import rdmolops      # Additional molecular properties\n",
    "from rdkit.Chem import AllChem       # Morgan (Circular) fingerprints"
   ]
  },
  {
   "cell_type": "code",
   "execution_count": null,
   "metadata": {},
   "outputs": [],
   "source": [
    "sdfFile = os.path.join(RDConfig.RDDataDir,'NCI/first_200.props.sdf')\n",
    "dataset = PandasTools.LoadSDF(sdfFile, smilesName='SMILES', molColName='Molecule')"
   ]
  },
  {
   "cell_type": "code",
   "execution_count": null,
   "metadata": {},
   "outputs": [],
   "source": []
  }
 ],
 "metadata": {
  "kernelspec": {
   "display_name": "Python 3",
   "language": "python",
   "name": "python3"
  },
  "language_info": {
   "codemirror_mode": {
    "name": "ipython",
    "version": 3
   },
   "file_extension": ".py",
   "mimetype": "text/x-python",
   "name": "python",
   "nbconvert_exporter": "python",
   "pygments_lexer": "ipython3",
   "version": "3.7.3"
  }
 },
 "nbformat": 4,
 "nbformat_minor": 2
}
