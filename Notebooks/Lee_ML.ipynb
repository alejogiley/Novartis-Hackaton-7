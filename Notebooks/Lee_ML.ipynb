{
  "nbformat": 4,
  "nbformat_minor": 0,
  "metadata": {
    "colab": {
      "name": "Untitled4.ipynb",
      "version": "0.3.2",
      "provenance": [],
      "collapsed_sections": [],
      "include_colab_link": true
    },
    "kernelspec": {
      "name": "python3",
      "display_name": "Python 3"
    },
    "accelerator": "GPU"
  },
  "cells": [
    {
      "cell_type": "markdown",
      "metadata": {
        "id": "view-in-github",
        "colab_type": "text"
      },
      "source": [
        "<a href=\"https://colab.research.google.com/github/alejogiley/Novartis-Hackaton-7/blob/master/Notebooks/Lee_ML.ipynb\" target=\"_parent\"><img src=\"https://colab.research.google.com/assets/colab-badge.svg\" alt=\"Open In Colab\"/></a>"
      ]
    },
    {
      "cell_type": "markdown",
      "metadata": {
        "id": "BHn__IVB5T2Q",
        "colab_type": "text"
      },
      "source": [
        "# Predicting affinities of antibiotic candidates to a DNA Gyrase\n",
        "Dataset from article: _Pyrrolamide DNA Gyrase Inhibitors: Fragment-Based Nuclear Magnetic Resonance Screening To Identify Antibacterial Agents_ Antimicrob Agents Chemother. 2012, 56(3):1240-6.\n",
        "\n",
        "\n",
        "https://aac.asm.org/content/56/3/1240.long#sec-12"
      ]
    },
    {
      "cell_type": "code",
      "metadata": {
        "id": "3A5t5tPy5TdA",
        "colab_type": "code",
        "colab": {}
      },
      "source": [
        "#!wget -c https://repo.continuum.io/archive/Anaconda3-5.1.0-Linux-x86_64.sh\n",
        "#!chmod +x Anaconda3-5.1.0-Linux-x86_64.sh\n",
        "#!bash ./Anaconda3-5.1.0-Linux-x86_64.sh -b -f -p /usr/local\n",
        "\n",
        "#!conda install -q -y --prefix /usr/local -c omnia --no-update-deps pdbfixer=1.4\n",
        "#!conda install -q -y --prefix /usr/local -c conda-forge --no-update-deps xgboost=0.6a2\n",
        "#!conda install -q -y --prefix /usr/local -c rdkit --no-update-deps rdkit=2017.09.1\n",
        "#!conda install -q -y --prefix /usr/local -c deepchem --no-update-deps  deepchem-gpu=2.1.0\n",
        "\n",
        "#import sys\n",
        "#sys.path.append('/usr/local/lib/python3.6/site-packages/')"
      ],
      "execution_count": 0,
      "outputs": []
    },
    {
      "cell_type": "code",
      "metadata": {
        "id": "j63gIJT98Pbs",
        "colab_type": "code",
        "colab": {}
      },
      "source": [
        "import os                # operating system interfaces \n",
        "\n",
        "import numpy  as np      # scientific computing: arrays\n",
        "import scipy  as sp      # scientific computing: statistics\n",
        "import pandas as pd      # data analysis tools\n",
        "\n",
        "# Visualization & graphs\n",
        "import matplotlib.pyplot as plt\n",
        "import seaborn as sns\n",
        "\n",
        "# Deep Learning library\n",
        "import deepchem as dc\n",
        "\n",
        "# Machine Learning: randomized decision trees\n",
        "from sklearn.ensemble import RandomForestRegressor as RFR  \n",
        "from sklearn.ensemble import RandomForestClassifier as RFC\n",
        "from sklearn.metrics  import accuracy_score\n",
        "\n",
        "from rdkit import Chem               # RDKit libraries for chemistry functions\n",
        "from rdkit.Chem import Draw          # Drawing chemical structures\n",
        "from rdkit.Chem import PandasTools   # Manipulating chemical data\n",
        "from rdkit.Chem import Descriptors   # Calculate molecular descriptors\n",
        "from rdkit.Chem import rdmolops      # Additional molecular properties\n",
        "from rdkit.Chem import AllChem       # Morgan (Circular) fingerprints\n",
        "\n",
        "from rdkit.Chem.Draw import IPythonConsole           # visualizing structures\n",
        "from rdkit.ML.Descriptors import MoleculeDescriptors # molecular descriptors"
      ],
      "execution_count": 0,
      "outputs": []
    },
    {
      "cell_type": "markdown",
      "metadata": {
        "id": "VrpUoqTIhNLn",
        "colab_type": "text"
      },
      "source": [
        "Parsing Experimental Dataset\n",
        "---------------\n",
        "\n",
        "Dataset is available in the `Github` repository. In order to read in the data, we will use the `pandas` data analysis library. The data is in CSV format and contains SMILES strings, measured $\\text{IC50}$ and $K_i$, and a number of other experimental measurements and molecular properties. \n",
        "\n"
      ]
    },
    {
      "cell_type": "code",
      "metadata": {
        "id": "LgTzOsuO-XoJ",
        "colab_type": "code",
        "colab": {
          "base_uri": "https://localhost:8080/",
          "height": 309
        },
        "outputId": "330adcc0-0ff7-431b-eac7-412d4dbb771b"
      },
      "source": [
        "# Dataset address\n",
        "url = \"https://raw.githubusercontent.com/alejogiley/Novartis-Hackaton-7/master/Data/Gyrase/AZ_Pyrrolamides_4OE.csv\"\n",
        "\n",
        "# Load Dataset\n",
        "df = pd.read_csv(url, encoding=\"unicode_escape\")\n",
        "\n",
        "# Visualize first 5 rows\n",
        "df.head(5)"
      ],
      "execution_count": 11,
      "outputs": [
        {
          "output_type": "execute_result",
          "data": {
            "text/html": [
              "<div>\n",
              "<style scoped>\n",
              "    .dataframe tbody tr th:only-of-type {\n",
              "        vertical-align: middle;\n",
              "    }\n",
              "\n",
              "    .dataframe tbody tr th {\n",
              "        vertical-align: top;\n",
              "    }\n",
              "\n",
              "    .dataframe thead th {\n",
              "        text-align: right;\n",
              "    }\n",
              "</style>\n",
              "<table border=\"1\" class=\"dataframe\">\n",
              "  <thead>\n",
              "    <tr style=\"text-align: right;\">\n",
              "      <th></th>\n",
              "      <th>External_ID</th>\n",
              "      <th>Molecule SMILES</th>\n",
              "      <th>First Sample Reg. Date</th>\n",
              "      <th>SAU Gyr IC50 (µM)</th>\n",
              "      <th>SAU Gyr Ki (µM)</th>\n",
              "      <th>Sau516 MIC (µg/ml)</th>\n",
              "      <th>Sau516  MIC (µM)</th>\n",
              "      <th>Mean Human Prot binding (% free)</th>\n",
              "      <th>Mean LogD</th>\n",
              "      <th>Determination of pKa HA1</th>\n",
              "      <th>Determination of pKa HA2</th>\n",
              "      <th>Determination of pKa B1</th>\n",
              "      <th>Determination of pKa B2</th>\n",
              "      <th>Sirius pKa</th>\n",
              "    </tr>\n",
              "  </thead>\n",
              "  <tbody>\n",
              "    <tr>\n",
              "      <th>0</th>\n",
              "      <td>AZ1001</td>\n",
              "      <td>c1cc(c(nc1)N2CCC(CC2)NC(=O)c3cc(c([nH]3)Cl)Cl)[N+](=O)[O-]</td>\n",
              "      <td>6/10/2002</td>\n",
              "      <td>&gt;400</td>\n",
              "      <td>NaN</td>\n",
              "      <td>&gt;64</td>\n",
              "      <td>NaN</td>\n",
              "      <td>NaN</td>\n",
              "      <td>NV</td>\n",
              "      <td>NaN</td>\n",
              "      <td>NaN</td>\n",
              "      <td>NaN</td>\n",
              "      <td>NaN</td>\n",
              "      <td>NaN</td>\n",
              "    </tr>\n",
              "    <tr>\n",
              "      <th>1</th>\n",
              "      <td>AZ1002</td>\n",
              "      <td>CC(C)c1c(cc([nH]1)C(=O)NC2CCN(CC2)c3c(cccn3)[N+](=O)[O-])Br</td>\n",
              "      <td>8/16/2002</td>\n",
              "      <td>&gt;50</td>\n",
              "      <td>NaN</td>\n",
              "      <td>&gt;64</td>\n",
              "      <td>NaN</td>\n",
              "      <td>NaN</td>\n",
              "      <td>&gt;4</td>\n",
              "      <td>NaN</td>\n",
              "      <td>NaN</td>\n",
              "      <td>NaN</td>\n",
              "      <td>NaN</td>\n",
              "      <td>NaN</td>\n",
              "    </tr>\n",
              "    <tr>\n",
              "      <th>2</th>\n",
              "      <td>AZ1003</td>\n",
              "      <td>CCOC(=O)c1cc(nc(c1C#N)N2CCC(CC2)NC(=O)c3cc(c([nH]3)C)Br)C</td>\n",
              "      <td>8/16/2002</td>\n",
              "      <td>7.14</td>\n",
              "      <td>NaN</td>\n",
              "      <td>&gt;64</td>\n",
              "      <td>NaN</td>\n",
              "      <td>NaN</td>\n",
              "      <td>&gt;3.66</td>\n",
              "      <td>NaN</td>\n",
              "      <td>NaN</td>\n",
              "      <td>NaN</td>\n",
              "      <td>NaN</td>\n",
              "      <td>NaN</td>\n",
              "    </tr>\n",
              "    <tr>\n",
              "      <th>3</th>\n",
              "      <td>AZ1004</td>\n",
              "      <td>Cc1c(cc([nH]1)C(=O)NC2CCN(CC2)c3c(cccn3)C#N)Br</td>\n",
              "      <td>8/16/2002</td>\n",
              "      <td>9.93</td>\n",
              "      <td>NaN</td>\n",
              "      <td>&gt;64</td>\n",
              "      <td>NaN</td>\n",
              "      <td>NaN</td>\n",
              "      <td>&gt;3.13</td>\n",
              "      <td>NaN</td>\n",
              "      <td>NaN</td>\n",
              "      <td>NaN</td>\n",
              "      <td>NaN</td>\n",
              "      <td>NaN</td>\n",
              "    </tr>\n",
              "    <tr>\n",
              "      <th>4</th>\n",
              "      <td>AZ1005</td>\n",
              "      <td>Cc1c(cc([nH]1)C(=O)NC2CCN(CC2)c3ccc4ccccc4n3)Br</td>\n",
              "      <td>8/16/2002</td>\n",
              "      <td>3.31</td>\n",
              "      <td>NaN</td>\n",
              "      <td>&gt;64</td>\n",
              "      <td>NaN</td>\n",
              "      <td>NaN</td>\n",
              "      <td>&gt;4.07</td>\n",
              "      <td>NaN</td>\n",
              "      <td>NaN</td>\n",
              "      <td>NaN</td>\n",
              "      <td>NaN</td>\n",
              "      <td>NaN</td>\n",
              "    </tr>\n",
              "  </tbody>\n",
              "</table>\n",
              "</div>"
            ],
            "text/plain": [
              "  External_ID  ... Sirius pKa\n",
              "0      AZ1001  ...        NaN\n",
              "1      AZ1002  ...        NaN\n",
              "2      AZ1003  ...        NaN\n",
              "3      AZ1004  ...        NaN\n",
              "4      AZ1005  ...        NaN\n",
              "\n",
              "[5 rows x 14 columns]"
            ]
          },
          "metadata": {
            "tags": []
          },
          "execution_count": 11
        }
      ]
    },
    {
      "cell_type": "markdown",
      "metadata": {
        "id": "xYOHwE9mnq9t",
        "colab_type": "text"
      },
      "source": [
        "To get a quick glimpse of the dataset, lets calculate e.g. the number of ligands, the chemical space variability and the range of experimentally measured affinities."
      ]
    },
    {
      "cell_type": "code",
      "metadata": {
        "id": "FleFHlRIoaKu",
        "colab_type": "code",
        "colab": {
          "base_uri": "https://localhost:8080/",
          "height": 68
        },
        "outputId": "3d73a716-8f61-43bf-deed-514374f7e6bc"
      },
      "source": [
        "print(\"Number of molecules on dataset: %i\" % (df['Molecule SMILES'].count() + 1)) # Number of non-NA/NaN rows\n",
        "print(\"Number of IC50 values: %i\" % (df['SAU Gyr IC50 (µM)'].count() + 1))        # Number of non-NA/NaN rows\n",
        "print(\"Number of Ki values: %i\" % (df['SAU Gyr Ki (µM)'].count() + 1))            # Number of non-NA/NaN rows"
      ],
      "execution_count": 20,
      "outputs": [
        {
          "output_type": "stream",
          "text": [
            "Number of molecules on dataset: 982\n",
            "Number of IC50 values: 982\n",
            "Number of Ki values: 445\n"
          ],
          "name": "stdout"
        }
      ]
    },
    {
      "cell_type": "markdown",
      "metadata": {
        "id": "Lr7Gj3iQcP2N",
        "colab_type": "text"
      },
      "source": [
        "SMILES\n",
        "---------\n",
        "\n",
        "The only two fields that are useful to our model are the molecular SMILES and the experimental $\\text{IC50}$ and $K_i$. First thing to do is to process the SMILES strings with the `RDKit` module. The SMILES can be converted to a `Mol` object, with bond connectivity and molecular properties. In `RDKit` the majority of the basic molecular functionality is found in module `rdkit.Chem`.\n"
      ]
    },
    {
      "cell_type": "markdown",
      "metadata": {
        "id": "1oBDhHvCkf1Y",
        "colab_type": "text"
      },
      "source": [
        "### A bird's eye view of the SMILE set."
      ]
    },
    {
      "cell_type": "code",
      "metadata": {
        "id": "BjNELJnlkS30",
        "colab_type": "code",
        "colab": {
          "base_uri": "https://localhost:8080/",
          "height": 300
        },
        "outputId": "6890550b-8ca6-433e-b2c4-df22aac50088"
      },
      "source": [
        "smiles_lens = [len(sm) for sm in df['Molecule SMILES']]\n",
        "sns.distplot(smiles_lens)\n",
        "plt.xlabel('len(smiles)')\n",
        "plt.ylabel('probability')"
      ],
      "execution_count": 83,
      "outputs": [
        {
          "output_type": "execute_result",
          "data": {
            "text/plain": [
              "Text(0, 0.5, 'probability')"
            ]
          },
          "metadata": {
            "tags": []
          },
          "execution_count": 83
        },
        {
          "output_type": "display_data",
          "data": {
            "image/png": "[encoded data removed]",
            "text/plain": [
              "<Figure size 432x288 with 1 Axes>"
            ]
          },
          "metadata": {
            "tags": []
          }
        }
      ]
    },
    {
      "cell_type": "markdown",
      "metadata": {
        "id": "Y0e26zpNlA5D",
        "colab_type": "text"
      },
      "source": [
        "### Process SMILES"
      ]
    },
    {
      "cell_type": "code",
      "metadata": {
        "id": "cSe8LPKO7CkK",
        "colab_type": "code",
        "colab": {}
      },
      "source": [
        "# Setup\n",
        "pp = pd.DataFrame()                                              # New dataframe \n",
        "pp[['ID','Smiles']] = df[['External_ID','Molecule SMILES']]      # Rename headers\n",
        "pp['ProblematicSmiles'] = pd.Series()                            # Create a new column for SMILES \\\n",
        "                                                                 # that can't be parsed with RDKit"
      ],
      "execution_count": 0,
      "outputs": []
    },
    {
      "cell_type": "code",
      "metadata": {
        "id": "E258cSt4-QyK",
        "colab_type": "code",
        "colab": {}
      },
      "source": [
        "# Some of the SMILE strings will not be parsed by RDKit \\\n",
        "# it is reasonable to expect artifacts from the csv file encoding \\\n",
        "# or errors on the dataset\n",
        "\n",
        "def smile2mol(smile):\n",
        "    '''Convert SMILES string to \n",
        "       RDKit Mol obj, if the conversion\n",
        "       fails then return \"None\"\n",
        "    \n",
        "       Keyword arguments:\n",
        "       smile -- SMILE string\n",
        "    '''\n",
        "    try:\n",
        "        mol = Chem.MolFromSmiles(smile)\n",
        "    except:\n",
        "        return None\n",
        "    else:\n",
        "        return mol"
      ],
      "execution_count": 0,
      "outputs": []
    },
    {
      "cell_type": "code",
      "metadata": {
        "id": "maL7TRxdUJ4y",
        "colab_type": "code",
        "colab": {
          "base_uri": "https://localhost:8080/",
          "height": 241
        },
        "outputId": "15089dcf-d036-4897-fc16-e56426b895eb"
      },
      "source": [
        "# Convert SMILES to Mol objects \n",
        "pp['Molecule'] = pp['Smiles'].apply(lambda x: smile2mol(x))"
      ],
      "execution_count": 29,
      "outputs": [
        {
          "output_type": "stream",
          "text": [
            "RDKit ERROR: [18:32:47] SMILES Parse Error: syntax error for input: 'Cc1c(c(c([nH]1)C(=O)NC\u0002CCN(C/C2=N\\OC)c3ncc(s3)C=O)Cl)Cl'\n",
            "RDKit ERROR: [18:32:47] SMILES Parse Error: syntax error for input: 'Cc1c(c(c([nH]1)C(=O)NC\u0002CCN(C/C2=N\\OC)c3nc(c(s3)C(=O)OCC=C)C(=O)NCCOC)Cl)Cl'\n",
            "RDKit ERROR: [18:32:47] SMILES Parse Error: syntax error for input: 'Cc1c(c(c([nH]1)C(=O)NC\u0002CCN(C/C2=N\\OC)c3nc(c(s3)C(=O)O)C(=O)NCCOC)Cl)Cl'\n",
            "RDKit ERROR: [18:32:47] SMILES Parse Error: syntax error for input: 'Cc1c(c(c([nH]1)C(=O)NC\u0002CCN(C/C2=N\\OC)c3nc(c(s3)C(=O)OC)C(=O)NC)Cl)Cl'\n",
            "RDKit ERROR: [18:32:47] SMILES Parse Error: syntax error for input: 'Cc1c(c(c([nH]1)C(=O)NC\u0002CCN(C/C2=N\\OC)c3nc(c(s3)C(=O)O)C(=O)NC)Cl)Cl'\n",
            "RDKit ERROR: [18:32:47] SMILES Parse Error: syntax error for input: 'Cc1c(c(c([nH]1)C(=O)NC\u0002CCN(C/C2=N\\OC)c3nc(c(s3)C(=O)O)c4nccn4COC)Cl)Cl'\n",
            "RDKit ERROR: [18:32:47] SMILES Parse Error: syntax error for input: 'Cc1c(c(c([nH]1)C(=O)NC\u0002CCN(C/C2=N\\OC)c3nc(c(s3)C(=O)O)c4[nH]ccn4)Cl)Cl'\n",
            "RDKit ERROR: [18:32:47] SMILES Parse Error: syntax error for input: 'Cc1c(c(c([nH]1)C(=O)NC\u0002CCN(C/C2=N\\OC)c3nc(c(s3)C(=O)O)C(=O)N)Cl)Cl'\n",
            "RDKit ERROR: [18:32:47] SMILES Parse Error: syntax error for input: 'Cc1c(c(c([nH]1)C(=O)NC\u0002CCN(C/C2=N\\OC)c3nc(c(s3)C(=O)OC)c4nccn4CCOC)Cl)Cl'\n",
            "RDKit ERROR: [18:32:47] SMILES Parse Error: syntax error for input: 'Cc1c(c(c([nH]1)C(=O)NC\u0002CCN(C/C2=N\\OC)c3nc(c(s3)C(=O)O)c4nccn4CCOC)Cl)Cl'\n",
            "RDKit ERROR: [18:32:47] SMILES Parse Error: syntax error for input: 'Cc1c(c(c([nH]1)C(=O)NC\u0002CCN(C/C2=N\\OC)c3nc(c(s3)C(=O)OC)c4ncnn4C)Cl)Cl'\n",
            "RDKit ERROR: [18:32:47] SMILES Parse Error: syntax error for input: 'Cc1c(c(c([nH]1)C(=O)NC\u0002CCN(C/C2=N\\OC)c3nc(c(s3)C(=O)O)c4ncnn4C)Cl)Cl'\n"
          ],
          "name": "stderr"
        }
      ]
    },
    {
      "cell_type": "markdown",
      "metadata": {
        "id": "agGnd4WY_xts",
        "colab_type": "text"
      },
      "source": [
        "We can see there are indeed problematic SMILES. When copying and pasting those strings on RDKit directly, I realized the error can be fixed if the string `NC\\2CCN` are replaced with `NC2CCN`. This is an _ad-hoc_ solution, that should be made automatic."
      ]
    },
    {
      "cell_type": "code",
      "metadata": {
        "id": "Er05qhPB_yNE",
        "colab_type": "code",
        "colab": {
          "base_uri": "https://localhost:8080/",
          "height": 34
        },
        "outputId": "2674f85d-cd89-400d-9387-914f7c53e126"
      },
      "source": [
        "# Count problematic SMILES\n",
        "problematics = [ k for k,v in enumerate(pp['Molecule']) if v is None ]\n",
        "\n",
        "# Flags these SMILES in the working dataframe\n",
        "pp['ProblematicSmiles'] = pp['Smiles'].loc[problematics]\n",
        "  \n",
        "# Fix SMILES\n",
        "for sm in range(len(problematics)):\n",
        "    # problematic SMILE row number\n",
        "    ix = problematics[sm]  \n",
        "    \n",
        "    # Replace character \"\\2\" with \"2\"\n",
        "    pp['Smiles'] = pp['Smiles'].str.replace('\\2','2', regex=True)\n",
        "    \n",
        "    # Redo smile2mol conversion\n",
        "    pp['Molecule'] = pp['Smiles'].apply(lambda x: smile2mol(x))\n",
        "    \n",
        "# Check all went smooth\n",
        "if not pp['Molecule'].isnull().all().all():\n",
        "    print(\"Hey!!! It's FIXED :-)\")"
      ],
      "execution_count": 42,
      "outputs": [
        {
          "output_type": "stream",
          "text": [
            "Hey!!! It's FIXED :-)\n"
          ],
          "name": "stdout"
        }
      ]
    },
    {
      "cell_type": "markdown",
      "metadata": {
        "id": "r-XUDznGcM3Y",
        "colab_type": "text"
      },
      "source": [
        "Molecular Descriptors\n",
        "------------------\n",
        "\n",
        "The next step should be to translate each compound into a vectorial format that can be understood by statistical learning techniques, e.g. _random forest_, or _neural networks_. `RDKit` molecular descriptors, e.g. molecular weight, atom partial charges, etc, are a way to transform the chemical information containd in the SMILE string into a feature vector. This process is commonly called __featurization__.\n",
        "\n",
        "*Note: add also Morgan fingerprints.*"
      ]
    },
    {
      "cell_type": "markdown",
      "metadata": {
        "id": "npbqmT38lPDy",
        "colab_type": "text"
      },
      "source": [
        "### Compute Descriptors"
      ]
    },
    {
      "cell_type": "code",
      "metadata": {
        "id": "peo4JpIqJDE0",
        "colab_type": "code",
        "colab": {}
      },
      "source": [
        "# Molecular descriptors can be obtained from \\\n",
        "# the Mol objects using rdkit.ML.Descriptors.MoleculeDescriptors module\n",
        "\n",
        "descriptors = list(np.array(Descriptors._descList)[:,0])                        # descriptor list\n",
        "ccalculator = MoleculeDescriptors.MolecularDescriptorCalculator(descriptors)    # calculating descriptors"
      ],
      "execution_count": 0,
      "outputs": []
    },
    {
      "cell_type": "code",
      "metadata": {
        "id": "9JaNUFXXJa3F",
        "colab_type": "code",
        "colab": {}
      },
      "source": [
        "# Make is easier to identify errors or \\\n",
        "# problematic values, e.g infity descriptor values\n",
        "def computeDescriptors(mol, ccalculator):\n",
        "    '''Calculate Molecular descriptors from \n",
        "       RDKit Mol object, if the calculation\n",
        "       fails then return \"None\"\n",
        "    \n",
        "       Keyword arguments:\n",
        "       mol -- RDKit Mol object\n",
        "    '''\n",
        "    try:\n",
        "        features = np.array(ccalculator.CalcDescriptors(mol))\n",
        "    except:\n",
        "        return None\n",
        "    else:\n",
        "        if not np.all(np.isfinite(features)):\n",
        "            print(\"Caution! Infinite value\")\n",
        "            return None\n",
        "        else:\n",
        "            return features"
      ],
      "execution_count": 0,
      "outputs": []
    },
    {
      "cell_type": "code",
      "metadata": {
        "id": "xQ5l2wvMKuvJ",
        "colab_type": "code",
        "colab": {
          "base_uri": "https://localhost:8080/",
          "height": 34
        },
        "outputId": "cbf019b5-0588-4b89-d32c-6ca9318bbd63"
      },
      "source": [
        "# Selecting only non-null molecules \n",
        "pp = pp[ pp[\"Molecule\"].notnull() ]\n",
        "\n",
        "# Mapping descriptors with molecules\n",
        "ff = lambda x: computeDescriptors(x, ccalculator)\n",
        "pp['Descriptors'] = pp['Molecule'].map(ff)\n",
        "\n",
        "# Flag problems\n",
        "problematics = pp[\"Descriptors\"].isnull()\n",
        "print(\"{} molecules failed to get descriptors\".format(problematics.sum())) "
      ],
      "execution_count": 45,
      "outputs": [
        {
          "output_type": "stream",
          "text": [
            "0 molecules failed to get descriptors\n"
          ],
          "name": "stdout"
        }
      ]
    },
    {
      "cell_type": "code",
      "metadata": {
        "id": "E9GdC7XPLgqi",
        "colab_type": "code",
        "colab": {
          "base_uri": "https://localhost:8080/",
          "height": 224
        },
        "outputId": "938a427c-2bd1-4b85-958c-5093b83f7012"
      },
      "source": [
        "# Convert descripor list to dataframe\n",
        "tmpdess = pp[\"Descriptors\"].apply(pd.Series)\n",
        "\n",
        "# Make headers the descriptor names\n",
        "tmpdess = tmpdess.rename(columns = lambda x : descriptors[x])\n",
        "\n",
        "# Check first 5 rows\n",
        "tmpdess.head(5)"
      ],
      "execution_count": 51,
      "outputs": [
        {
          "output_type": "execute_result",
          "data": {
            "text/html": [
              "<div>\n",
              "<style scoped>\n",
              "    .dataframe tbody tr th:only-of-type {\n",
              "        vertical-align: middle;\n",
              "    }\n",
              "\n",
              "    .dataframe tbody tr th {\n",
              "        vertical-align: top;\n",
              "    }\n",
              "\n",
              "    .dataframe thead th {\n",
              "        text-align: right;\n",
              "    }\n",
              "</style>\n",
              "<table border=\"1\" class=\"dataframe\">\n",
              "  <thead>\n",
              "    <tr style=\"text-align: right;\">\n",
              "      <th></th>\n",
              "      <th>MaxEStateIndex</th>\n",
              "      <th>MinEStateIndex</th>\n",
              "      <th>MaxAbsEStateIndex</th>\n",
              "      <th>MinAbsEStateIndex</th>\n",
              "      <th>qed</th>\n",
              "      <th>MolWt</th>\n",
              "      <th>HeavyAtomMolWt</th>\n",
              "      <th>ExactMolWt</th>\n",
              "      <th>NumValenceElectrons</th>\n",
              "      <th>NumRadicalElectrons</th>\n",
              "      <th>MaxPartialCharge</th>\n",
              "      <th>MinPartialCharge</th>\n",
              "      <th>MaxAbsPartialCharge</th>\n",
              "      <th>MinAbsPartialCharge</th>\n",
              "      <th>FpDensityMorgan1</th>\n",
              "      <th>FpDensityMorgan2</th>\n",
              "      <th>FpDensityMorgan3</th>\n",
              "      <th>BalabanJ</th>\n",
              "      <th>BertzCT</th>\n",
              "      <th>Chi0</th>\n",
              "      <th>Chi0n</th>\n",
              "      <th>Chi0v</th>\n",
              "      <th>Chi1</th>\n",
              "      <th>Chi1n</th>\n",
              "      <th>Chi1v</th>\n",
              "      <th>Chi2n</th>\n",
              "      <th>Chi2v</th>\n",
              "      <th>Chi3n</th>\n",
              "      <th>Chi3v</th>\n",
              "      <th>Chi4n</th>\n",
              "      <th>Chi4v</th>\n",
              "      <th>HallKierAlpha</th>\n",
              "      <th>Ipc</th>\n",
              "      <th>Kappa1</th>\n",
              "      <th>Kappa2</th>\n",
              "      <th>Kappa3</th>\n",
              "      <th>LabuteASA</th>\n",
              "      <th>PEOE_VSA1</th>\n",
              "      <th>PEOE_VSA10</th>\n",
              "      <th>PEOE_VSA11</th>\n",
              "      <th>PEOE_VSA12</th>\n",
              "      <th>PEOE_VSA13</th>\n",
              "      <th>PEOE_VSA14</th>\n",
              "      <th>PEOE_VSA2</th>\n",
              "      <th>PEOE_VSA3</th>\n",
              "      <th>PEOE_VSA4</th>\n",
              "      <th>PEOE_VSA5</th>\n",
              "      <th>PEOE_VSA6</th>\n",
              "      <th>PEOE_VSA7</th>\n",
              "      <th>PEOE_VSA8</th>\n",
              "      <th>PEOE_VSA9</th>\n",
              "      <th>SMR_VSA1</th>\n",
              "      <th>SMR_VSA10</th>\n",
              "      <th>SMR_VSA2</th>\n",
              "      <th>SMR_VSA3</th>\n",
              "      <th>SMR_VSA4</th>\n",
              "      <th>SMR_VSA5</th>\n",
              "      <th>SMR_VSA6</th>\n",
              "      <th>SMR_VSA7</th>\n",
              "      <th>SMR_VSA8</th>\n",
              "      <th>SMR_VSA9</th>\n",
              "      <th>SlogP_VSA1</th>\n",
              "      <th>SlogP_VSA10</th>\n",
              "      <th>SlogP_VSA11</th>\n",
              "      <th>SlogP_VSA12</th>\n",
              "      <th>SlogP_VSA2</th>\n",
              "      <th>SlogP_VSA3</th>\n",
              "      <th>SlogP_VSA4</th>\n",
              "      <th>SlogP_VSA5</th>\n",
              "      <th>SlogP_VSA6</th>\n",
              "      <th>SlogP_VSA7</th>\n",
              "      <th>SlogP_VSA8</th>\n",
              "      <th>SlogP_VSA9</th>\n",
              "      <th>TPSA</th>\n",
              "      <th>EState_VSA1</th>\n",
              "      <th>EState_VSA10</th>\n",
              "      <th>EState_VSA11</th>\n",
              "      <th>EState_VSA2</th>\n",
              "      <th>EState_VSA3</th>\n",
              "      <th>EState_VSA4</th>\n",
              "      <th>EState_VSA5</th>\n",
              "      <th>EState_VSA6</th>\n",
              "      <th>EState_VSA7</th>\n",
              "      <th>EState_VSA8</th>\n",
              "      <th>EState_VSA9</th>\n",
              "      <th>VSA_EState1</th>\n",
              "      <th>VSA_EState10</th>\n",
              "      <th>VSA_EState2</th>\n",
              "      <th>VSA_EState3</th>\n",
              "      <th>VSA_EState4</th>\n",
              "      <th>VSA_EState5</th>\n",
              "      <th>VSA_EState6</th>\n",
              "      <th>VSA_EState7</th>\n",
              "      <th>VSA_EState8</th>\n",
              "      <th>VSA_EState9</th>\n",
              "      <th>FractionCSP3</th>\n",
              "      <th>HeavyAtomCount</th>\n",
              "      <th>NHOHCount</th>\n",
              "      <th>NOCount</th>\n",
              "      <th>NumAliphaticCarbocycles</th>\n",
              "      <th>NumAliphaticHeterocycles</th>\n",
              "      <th>NumAliphaticRings</th>\n",
              "      <th>NumAromaticCarbocycles</th>\n",
              "      <th>NumAromaticHeterocycles</th>\n",
              "      <th>NumAromaticRings</th>\n",
              "      <th>NumHAcceptors</th>\n",
              "      <th>NumHDonors</th>\n",
              "      <th>NumHeteroatoms</th>\n",
              "      <th>NumRotatableBonds</th>\n",
              "      <th>NumSaturatedCarbocycles</th>\n",
              "      <th>NumSaturatedHeterocycles</th>\n",
              "      <th>NumSaturatedRings</th>\n",
              "      <th>RingCount</th>\n",
              "      <th>MolLogP</th>\n",
              "      <th>MolMR</th>\n",
              "      <th>fr_Al_COO</th>\n",
              "      <th>fr_Al_OH</th>\n",
              "      <th>fr_Al_OH_noTert</th>\n",
              "      <th>fr_ArN</th>\n",
              "      <th>fr_Ar_COO</th>\n",
              "      <th>fr_Ar_N</th>\n",
              "      <th>fr_Ar_NH</th>\n",
              "      <th>fr_Ar_OH</th>\n",
              "      <th>fr_COO</th>\n",
              "      <th>fr_COO2</th>\n",
              "      <th>fr_C_O</th>\n",
              "      <th>fr_C_O_noCOO</th>\n",
              "      <th>fr_C_S</th>\n",
              "      <th>fr_HOCCN</th>\n",
              "      <th>fr_Imine</th>\n",
              "      <th>fr_NH0</th>\n",
              "      <th>fr_NH1</th>\n",
              "      <th>fr_NH2</th>\n",
              "      <th>fr_N_O</th>\n",
              "      <th>fr_Ndealkylation1</th>\n",
              "      <th>fr_Ndealkylation2</th>\n",
              "      <th>fr_Nhpyrrole</th>\n",
              "      <th>fr_SH</th>\n",
              "      <th>fr_aldehyde</th>\n",
              "      <th>fr_alkyl_carbamate</th>\n",
              "      <th>fr_alkyl_halide</th>\n",
              "      <th>fr_allylic_oxid</th>\n",
              "      <th>fr_amide</th>\n",
              "      <th>fr_amidine</th>\n",
              "      <th>fr_aniline</th>\n",
              "      <th>fr_aryl_methyl</th>\n",
              "      <th>fr_azide</th>\n",
              "      <th>fr_azo</th>\n",
              "      <th>fr_barbitur</th>\n",
              "      <th>fr_benzene</th>\n",
              "      <th>fr_benzodiazepine</th>\n",
              "      <th>fr_bicyclic</th>\n",
              "      <th>fr_diazo</th>\n",
              "      <th>fr_dihydropyridine</th>\n",
              "      <th>fr_epoxide</th>\n",
              "      <th>fr_ester</th>\n",
              "      <th>fr_ether</th>\n",
              "      <th>fr_furan</th>\n",
              "      <th>fr_guanido</th>\n",
              "      <th>fr_halogen</th>\n",
              "      <th>fr_hdrzine</th>\n",
              "      <th>fr_hdrzone</th>\n",
              "      <th>fr_imidazole</th>\n",
              "      <th>fr_imide</th>\n",
              "      <th>fr_isocyan</th>\n",
              "      <th>fr_isothiocyan</th>\n",
              "      <th>fr_ketone</th>\n",
              "      <th>fr_ketone_Topliss</th>\n",
              "      <th>fr_lactam</th>\n",
              "      <th>fr_lactone</th>\n",
              "      <th>fr_methoxy</th>\n",
              "      <th>fr_morpholine</th>\n",
              "      <th>fr_nitrile</th>\n",
              "      <th>fr_nitro</th>\n",
              "      <th>fr_nitro_arom</th>\n",
              "      <th>fr_nitro_arom_nonortho</th>\n",
              "      <th>fr_nitroso</th>\n",
              "      <th>fr_oxazole</th>\n",
              "      <th>fr_oxime</th>\n",
              "      <th>fr_para_hydroxylation</th>\n",
              "      <th>fr_phenol</th>\n",
              "      <th>fr_phenol_noOrthoHbond</th>\n",
              "      <th>fr_phos_acid</th>\n",
              "      <th>fr_phos_ester</th>\n",
              "      <th>fr_piperdine</th>\n",
              "      <th>fr_piperzine</th>\n",
              "      <th>fr_priamide</th>\n",
              "      <th>fr_prisulfonamd</th>\n",
              "      <th>fr_pyridine</th>\n",
              "      <th>fr_quatN</th>\n",
              "      <th>fr_sulfide</th>\n",
              "      <th>fr_sulfonamd</th>\n",
              "      <th>fr_sulfone</th>\n",
              "      <th>fr_term_acetylene</th>\n",
              "      <th>fr_tetrazole</th>\n",
              "      <th>fr_thiazole</th>\n",
              "      <th>fr_thiocyan</th>\n",
              "      <th>fr_thiophene</th>\n",
              "      <th>fr_unbrch_alkane</th>\n",
              "      <th>fr_urea</th>\n",
              "    </tr>\n",
              "  </thead>\n",
              "  <tbody>\n",
              "    <tr>\n",
              "      <th>0</th>\n",
              "      <td>12.198481</td>\n",
              "      <td>-0.435597</td>\n",
              "      <td>12.198481</td>\n",
              "      <td>0.013283</td>\n",
              "      <td>0.623001</td>\n",
              "      <td>384.223</td>\n",
              "      <td>369.103</td>\n",
              "      <td>383.055195</td>\n",
              "      <td>132.0</td>\n",
              "      <td>0.0</td>\n",
              "      <td>0.311075</td>\n",
              "      <td>-0.350740</td>\n",
              "      <td>0.350740</td>\n",
              "      <td>0.311075</td>\n",
              "      <td>1.400000</td>\n",
              "      <td>2.120000</td>\n",
              "      <td>2.720000</td>\n",
              "      <td>1.606288</td>\n",
              "      <td>782.714558</td>\n",
              "      <td>17.974327</td>\n",
              "      <td>13.037493</td>\n",
              "      <td>14.549351</td>\n",
              "      <td>11.952397</td>\n",
              "      <td>7.646576</td>\n",
              "      <td>8.402505</td>\n",
              "      <td>5.682961</td>\n",
              "      <td>6.468125</td>\n",
              "      <td>4.062271</td>\n",
              "      <td>4.755185</td>\n",
              "      <td>2.799838</td>\n",
              "      <td>3.112547</td>\n",
              "      <td>-2.32</td>\n",
              "      <td>5.332598e+05</td>\n",
              "      <td>17.501340</td>\n",
              "      <td>7.283006</td>\n",
              "      <td>3.853433</td>\n",
              "      <td>152.831853</td>\n",
              "      <td>15.200677</td>\n",
              "      <td>10.847038</td>\n",
              "      <td>0.0</td>\n",
              "      <td>5.817863</td>\n",
              "      <td>5.90718</td>\n",
              "      <td>5.687386</td>\n",
              "      <td>14.908855</td>\n",
              "      <td>4.983979</td>\n",
              "      <td>0.000000</td>\n",
              "      <td>0.0</td>\n",
              "      <td>23.201880</td>\n",
              "      <td>24.974377</td>\n",
              "      <td>31.394564</td>\n",
              "      <td>9.945944</td>\n",
              "      <td>9.717848</td>\n",
              "      <td>40.614309</td>\n",
              "      <td>0.000000</td>\n",
              "      <td>15.284746</td>\n",
              "      <td>0.0</td>\n",
              "      <td>18.883484</td>\n",
              "      <td>17.989423</td>\n",
              "      <td>50.379934</td>\n",
              "      <td>0.0</td>\n",
              "      <td>0.000000</td>\n",
              "      <td>10.216698</td>\n",
              "      <td>11.505249</td>\n",
              "      <td>0.0</td>\n",
              "      <td>23.201880</td>\n",
              "      <td>39.929801</td>\n",
              "      <td>0.000000</td>\n",
              "      <td>10.114318</td>\n",
              "      <td>23.330108</td>\n",
              "      <td>24.395945</td>\n",
              "      <td>10.175743</td>\n",
              "      <td>0.000000</td>\n",
              "      <td>0.0</td>\n",
              "      <td>104.16</td>\n",
              "      <td>4.923311</td>\n",
              "      <td>14.908855</td>\n",
              "      <td>0.0</td>\n",
              "      <td>22.789517</td>\n",
              "      <td>42.465580</td>\n",
              "      <td>0.000000</td>\n",
              "      <td>18.329578</td>\n",
              "      <td>6.066367</td>\n",
              "      <td>4.899910</td>\n",
              "      <td>15.284746</td>\n",
              "      <td>23.201880</td>\n",
              "      <td>0.0</td>\n",
              "      <td>11.639059</td>\n",
              "      <td>0.0</td>\n",
              "      <td>0.0</td>\n",
              "      <td>0.0</td>\n",
              "      <td>0.0</td>\n",
              "      <td>0.0</td>\n",
              "      <td>0.0</td>\n",
              "      <td>0.000000</td>\n",
              "      <td>54.916497</td>\n",
              "      <td>0.333333</td>\n",
              "      <td>25.0</td>\n",
              "      <td>2.0</td>\n",
              "      <td>8.0</td>\n",
              "      <td>0.0</td>\n",
              "      <td>1.0</td>\n",
              "      <td>1.0</td>\n",
              "      <td>0.0</td>\n",
              "      <td>2.0</td>\n",
              "      <td>2.0</td>\n",
              "      <td>5.0</td>\n",
              "      <td>2.0</td>\n",
              "      <td>10.0</td>\n",
              "      <td>4.0</td>\n",
              "      <td>0.0</td>\n",
              "      <td>1.0</td>\n",
              "      <td>1.0</td>\n",
              "      <td>3.0</td>\n",
              "      <td>3.02350</td>\n",
              "      <td>94.4053</td>\n",
              "      <td>0.0</td>\n",
              "      <td>0.0</td>\n",
              "      <td>0.0</td>\n",
              "      <td>0.0</td>\n",
              "      <td>0.0</td>\n",
              "      <td>2.0</td>\n",
              "      <td>1.0</td>\n",
              "      <td>0.0</td>\n",
              "      <td>0.0</td>\n",
              "      <td>0.0</td>\n",
              "      <td>1.0</td>\n",
              "      <td>1.0</td>\n",
              "      <td>0.0</td>\n",
              "      <td>0.0</td>\n",
              "      <td>0.0</td>\n",
              "      <td>3.0</td>\n",
              "      <td>2.0</td>\n",
              "      <td>0.0</td>\n",
              "      <td>0.0</td>\n",
              "      <td>0.0</td>\n",
              "      <td>0.0</td>\n",
              "      <td>1.0</td>\n",
              "      <td>0.0</td>\n",
              "      <td>0.0</td>\n",
              "      <td>0.0</td>\n",
              "      <td>0.0</td>\n",
              "      <td>0.0</td>\n",
              "      <td>1.0</td>\n",
              "      <td>0.0</td>\n",
              "      <td>1.0</td>\n",
              "      <td>0.0</td>\n",
              "      <td>0.0</td>\n",
              "      <td>0.0</td>\n",
              "      <td>0.0</td>\n",
              "      <td>0.0</td>\n",
              "      <td>0.0</td>\n",
              "      <td>0.0</td>\n",
              "      <td>0.0</td>\n",
              "      <td>0.0</td>\n",
              "      <td>0.0</td>\n",
              "      <td>0.0</td>\n",
              "      <td>0.0</td>\n",
              "      <td>0.0</td>\n",
              "      <td>0.0</td>\n",
              "      <td>2.0</td>\n",
              "      <td>0.0</td>\n",
              "      <td>0.0</td>\n",
              "      <td>0.0</td>\n",
              "      <td>0.0</td>\n",
              "      <td>0.0</td>\n",
              "      <td>0.0</td>\n",
              "      <td>0.0</td>\n",
              "      <td>0.0</td>\n",
              "      <td>0.0</td>\n",
              "      <td>0.0</td>\n",
              "      <td>0.0</td>\n",
              "      <td>0.0</td>\n",
              "      <td>0.0</td>\n",
              "      <td>1.0</td>\n",
              "      <td>0.0</td>\n",
              "      <td>0.0</td>\n",
              "      <td>0.0</td>\n",
              "      <td>0.0</td>\n",
              "      <td>0.0</td>\n",
              "      <td>0.0</td>\n",
              "      <td>0.0</td>\n",
              "      <td>0.0</td>\n",
              "      <td>0.0</td>\n",
              "      <td>0.0</td>\n",
              "      <td>1.0</td>\n",
              "      <td>0.0</td>\n",
              "      <td>0.0</td>\n",
              "      <td>0.0</td>\n",
              "      <td>1.0</td>\n",
              "      <td>0.0</td>\n",
              "      <td>0.0</td>\n",
              "      <td>0.0</td>\n",
              "      <td>0.0</td>\n",
              "      <td>0.0</td>\n",
              "      <td>0.0</td>\n",
              "      <td>0.0</td>\n",
              "      <td>0.0</td>\n",
              "      <td>0.0</td>\n",
              "      <td>0.0</td>\n",
              "      <td>0.0</td>\n",
              "    </tr>\n",
              "    <tr>\n",
              "      <th>1</th>\n",
              "      <td>12.517532</td>\n",
              "      <td>-0.411106</td>\n",
              "      <td>12.517532</td>\n",
              "      <td>0.011515</td>\n",
              "      <td>0.550709</td>\n",
              "      <td>436.310</td>\n",
              "      <td>414.134</td>\n",
              "      <td>435.090602</td>\n",
              "      <td>144.0</td>\n",
              "      <td>0.0</td>\n",
              "      <td>0.311075</td>\n",
              "      <td>-0.353241</td>\n",
              "      <td>0.353241</td>\n",
              "      <td>0.311075</td>\n",
              "      <td>1.444444</td>\n",
              "      <td>2.148148</td>\n",
              "      <td>2.740741</td>\n",
              "      <td>1.607439</td>\n",
              "      <td>843.272683</td>\n",
              "      <td>19.551677</td>\n",
              "      <td>15.236879</td>\n",
              "      <td>16.822875</td>\n",
              "      <td>12.863081</td>\n",
              "      <td>8.900969</td>\n",
              "      <td>9.693967</td>\n",
              "      <td>6.937354</td>\n",
              "      <td>7.791691</td>\n",
              "      <td>4.712163</td>\n",
              "      <td>5.368251</td>\n",
              "      <td>3.261192</td>\n",
              "      <td>4.047073</td>\n",
              "      <td>-2.42</td>\n",
              "      <td>1.314876e+06</td>\n",
              "      <td>19.344590</td>\n",
              "      <td>8.077319</td>\n",
              "      <td>4.292290</td>\n",
              "      <td>165.187695</td>\n",
              "      <td>15.200677</td>\n",
              "      <td>5.693928</td>\n",
              "      <td>0.0</td>\n",
              "      <td>5.817863</td>\n",
              "      <td>5.90718</td>\n",
              "      <td>5.687386</td>\n",
              "      <td>14.908855</td>\n",
              "      <td>4.983979</td>\n",
              "      <td>0.000000</td>\n",
              "      <td>0.0</td>\n",
              "      <td>13.847474</td>\n",
              "      <td>46.822227</td>\n",
              "      <td>41.561212</td>\n",
              "      <td>4.923311</td>\n",
              "      <td>9.717848</td>\n",
              "      <td>33.342373</td>\n",
              "      <td>0.000000</td>\n",
              "      <td>15.284746</td>\n",
              "      <td>0.0</td>\n",
              "      <td>38.648865</td>\n",
              "      <td>17.989423</td>\n",
              "      <td>50.370839</td>\n",
              "      <td>0.0</td>\n",
              "      <td>0.000000</td>\n",
              "      <td>10.216698</td>\n",
              "      <td>11.505249</td>\n",
              "      <td>0.0</td>\n",
              "      <td>15.929944</td>\n",
              "      <td>39.929801</td>\n",
              "      <td>0.000000</td>\n",
              "      <td>10.114318</td>\n",
              "      <td>48.789417</td>\n",
              "      <td>28.868664</td>\n",
              "      <td>0.000000</td>\n",
              "      <td>0.000000</td>\n",
              "      <td>0.0</td>\n",
              "      <td>104.16</td>\n",
              "      <td>4.923311</td>\n",
              "      <td>14.908855</td>\n",
              "      <td>0.0</td>\n",
              "      <td>17.636407</td>\n",
              "      <td>43.360853</td>\n",
              "      <td>10.166648</td>\n",
              "      <td>6.066367</td>\n",
              "      <td>18.329578</td>\n",
              "      <td>4.899910</td>\n",
              "      <td>45.062164</td>\n",
              "      <td>0.000000</td>\n",
              "      <td>0.0</td>\n",
              "      <td>0.000000</td>\n",
              "      <td>0.0</td>\n",
              "      <td>0.0</td>\n",
              "      <td>0.0</td>\n",
              "      <td>0.0</td>\n",
              "      <td>0.0</td>\n",
              "      <td>0.0</td>\n",
              "      <td>0.902714</td>\n",
              "      <td>62.030467</td>\n",
              "      <td>0.444444</td>\n",
              "      <td>27.0</td>\n",
              "      <td>2.0</td>\n",
              "      <td>8.0</td>\n",
              "      <td>0.0</td>\n",
              "      <td>1.0</td>\n",
              "      <td>1.0</td>\n",
              "      <td>0.0</td>\n",
              "      <td>2.0</td>\n",
              "      <td>2.0</td>\n",
              "      <td>5.0</td>\n",
              "      <td>2.0</td>\n",
              "      <td>9.0</td>\n",
              "      <td>5.0</td>\n",
              "      <td>0.0</td>\n",
              "      <td>1.0</td>\n",
              "      <td>1.0</td>\n",
              "      <td>3.0</td>\n",
              "      <td>3.60260</td>\n",
              "      <td>106.1743</td>\n",
              "      <td>0.0</td>\n",
              "      <td>0.0</td>\n",
              "      <td>0.0</td>\n",
              "      <td>0.0</td>\n",
              "      <td>0.0</td>\n",
              "      <td>2.0</td>\n",
              "      <td>1.0</td>\n",
              "      <td>0.0</td>\n",
              "      <td>0.0</td>\n",
              "      <td>0.0</td>\n",
              "      <td>1.0</td>\n",
              "      <td>1.0</td>\n",
              "      <td>0.0</td>\n",
              "      <td>0.0</td>\n",
              "      <td>0.0</td>\n",
              "      <td>3.0</td>\n",
              "      <td>2.0</td>\n",
              "      <td>0.0</td>\n",
              "      <td>0.0</td>\n",
              "      <td>0.0</td>\n",
              "      <td>0.0</td>\n",
              "      <td>1.0</td>\n",
              "      <td>0.0</td>\n",
              "      <td>0.0</td>\n",
              "      <td>0.0</td>\n",
              "      <td>0.0</td>\n",
              "      <td>0.0</td>\n",
              "      <td>1.0</td>\n",
              "      <td>0.0</td>\n",
              "      <td>1.0</td>\n",
              "      <td>0.0</td>\n",
              "      <td>0.0</td>\n",
              "      <td>0.0</td>\n",
              "      <td>0.0</td>\n",
              "      <td>0.0</td>\n",
              "      <td>0.0</td>\n",
              "      <td>0.0</td>\n",
              "      <td>0.0</td>\n",
              "      <td>0.0</td>\n",
              "      <td>0.0</td>\n",
              "      <td>0.0</td>\n",
              "      <td>0.0</td>\n",
              "      <td>0.0</td>\n",
              "      <td>0.0</td>\n",
              "      <td>1.0</td>\n",
              "      <td>0.0</td>\n",
              "      <td>0.0</td>\n",
              "      <td>0.0</td>\n",
              "      <td>0.0</td>\n",
              "      <td>0.0</td>\n",
              "      <td>0.0</td>\n",
              "      <td>0.0</td>\n",
              "      <td>0.0</td>\n",
              "      <td>0.0</td>\n",
              "      <td>0.0</td>\n",
              "      <td>0.0</td>\n",
              "      <td>0.0</td>\n",
              "      <td>0.0</td>\n",
              "      <td>1.0</td>\n",
              "      <td>0.0</td>\n",
              "      <td>0.0</td>\n",
              "      <td>0.0</td>\n",
              "      <td>0.0</td>\n",
              "      <td>0.0</td>\n",
              "      <td>0.0</td>\n",
              "      <td>0.0</td>\n",
              "      <td>0.0</td>\n",
              "      <td>0.0</td>\n",
              "      <td>0.0</td>\n",
              "      <td>1.0</td>\n",
              "      <td>0.0</td>\n",
              "      <td>0.0</td>\n",
              "      <td>0.0</td>\n",
              "      <td>1.0</td>\n",
              "      <td>0.0</td>\n",
              "      <td>0.0</td>\n",
              "      <td>0.0</td>\n",
              "      <td>0.0</td>\n",
              "      <td>0.0</td>\n",
              "      <td>0.0</td>\n",
              "      <td>0.0</td>\n",
              "      <td>0.0</td>\n",
              "      <td>0.0</td>\n",
              "      <td>0.0</td>\n",
              "      <td>0.0</td>\n",
              "    </tr>\n",
              "    <tr>\n",
              "      <th>2</th>\n",
              "      <td>12.472623</td>\n",
              "      <td>-0.518193</td>\n",
              "      <td>12.472623</td>\n",
              "      <td>0.024077</td>\n",
              "      <td>0.644188</td>\n",
              "      <td>474.359</td>\n",
              "      <td>450.167</td>\n",
              "      <td>473.106252</td>\n",
              "      <td>158.0</td>\n",
              "      <td>0.0</td>\n",
              "      <td>0.339176</td>\n",
              "      <td>-0.462356</td>\n",
              "      <td>0.462356</td>\n",
              "      <td>0.339176</td>\n",
              "      <td>1.366667</td>\n",
              "      <td>2.066667</td>\n",
              "      <td>2.633333</td>\n",
              "      <td>1.707098</td>\n",
              "      <td>983.301265</td>\n",
              "      <td>21.836134</td>\n",
              "      <td>17.211935</td>\n",
              "      <td>18.797931</td>\n",
              "      <td>14.332938</td>\n",
              "      <td>9.833892</td>\n",
              "      <td>10.626890</td>\n",
              "      <td>7.232812</td>\n",
              "      <td>8.087149</td>\n",
              "      <td>5.061381</td>\n",
              "      <td>5.885049</td>\n",
              "      <td>3.519471</td>\n",
              "      <td>3.847515</td>\n",
              "      <td>-2.86</td>\n",
              "      <td>5.145049e+06</td>\n",
              "      <td>21.839461</td>\n",
              "      <td>9.303515</td>\n",
              "      <td>4.648309</td>\n",
              "      <td>183.297193</td>\n",
              "      <td>19.937540</td>\n",
              "      <td>23.144464</td>\n",
              "      <td>0.0</td>\n",
              "      <td>0.000000</td>\n",
              "      <td>5.90718</td>\n",
              "      <td>5.969305</td>\n",
              "      <td>4.794537</td>\n",
              "      <td>9.778516</td>\n",
              "      <td>5.261892</td>\n",
              "      <td>0.0</td>\n",
              "      <td>0.000000</td>\n",
              "      <td>61.675533</td>\n",
              "      <td>34.991929</td>\n",
              "      <td>12.170333</td>\n",
              "      <td>14.325937</td>\n",
              "      <td>33.624292</td>\n",
              "      <td>5.261892</td>\n",
              "      <td>15.284746</td>\n",
              "      <td>0.0</td>\n",
              "      <td>39.654696</td>\n",
              "      <td>24.596305</td>\n",
              "      <td>44.814141</td>\n",
              "      <td>0.0</td>\n",
              "      <td>6.069221</td>\n",
              "      <td>10.216698</td>\n",
              "      <td>5.817863</td>\n",
              "      <td>0.0</td>\n",
              "      <td>15.929944</td>\n",
              "      <td>47.582678</td>\n",
              "      <td>4.736863</td>\n",
              "      <td>25.178587</td>\n",
              "      <td>57.563142</td>\n",
              "      <td>16.605454</td>\n",
              "      <td>0.000000</td>\n",
              "      <td>0.000000</td>\n",
              "      <td>0.0</td>\n",
              "      <td>111.11</td>\n",
              "      <td>5.969305</td>\n",
              "      <td>14.850966</td>\n",
              "      <td>0.0</td>\n",
              "      <td>29.682806</td>\n",
              "      <td>43.136875</td>\n",
              "      <td>10.166648</td>\n",
              "      <td>0.000000</td>\n",
              "      <td>25.980209</td>\n",
              "      <td>11.823647</td>\n",
              "      <td>37.283911</td>\n",
              "      <td>4.736863</td>\n",
              "      <td>0.0</td>\n",
              "      <td>0.000000</td>\n",
              "      <td>0.0</td>\n",
              "      <td>0.0</td>\n",
              "      <td>0.0</td>\n",
              "      <td>0.0</td>\n",
              "      <td>0.0</td>\n",
              "      <td>0.0</td>\n",
              "      <td>0.869841</td>\n",
              "      <td>68.309292</td>\n",
              "      <td>0.428571</td>\n",
              "      <td>30.0</td>\n",
              "      <td>2.0</td>\n",
              "      <td>8.0</td>\n",
              "      <td>0.0</td>\n",
              "      <td>1.0</td>\n",
              "      <td>1.0</td>\n",
              "      <td>0.0</td>\n",
              "      <td>2.0</td>\n",
              "      <td>2.0</td>\n",
              "      <td>6.0</td>\n",
              "      <td>2.0</td>\n",
              "      <td>9.0</td>\n",
              "      <td>5.0</td>\n",
              "      <td>0.0</td>\n",
              "      <td>1.0</td>\n",
              "      <td>1.0</td>\n",
              "      <td>3.0</td>\n",
              "      <td>3.23622</td>\n",
              "      <td>115.5764</td>\n",
              "      <td>0.0</td>\n",
              "      <td>0.0</td>\n",
              "      <td>0.0</td>\n",
              "      <td>0.0</td>\n",
              "      <td>0.0</td>\n",
              "      <td>2.0</td>\n",
              "      <td>1.0</td>\n",
              "      <td>0.0</td>\n",
              "      <td>0.0</td>\n",
              "      <td>0.0</td>\n",
              "      <td>2.0</td>\n",
              "      <td>2.0</td>\n",
              "      <td>0.0</td>\n",
              "      <td>0.0</td>\n",
              "      <td>0.0</td>\n",
              "      <td>3.0</td>\n",
              "      <td>2.0</td>\n",
              "      <td>0.0</td>\n",
              "      <td>0.0</td>\n",
              "      <td>0.0</td>\n",
              "      <td>0.0</td>\n",
              "      <td>1.0</td>\n",
              "      <td>0.0</td>\n",
              "      <td>0.0</td>\n",
              "      <td>0.0</td>\n",
              "      <td>0.0</td>\n",
              "      <td>0.0</td>\n",
              "      <td>1.0</td>\n",
              "      <td>0.0</td>\n",
              "      <td>1.0</td>\n",
              "      <td>2.0</td>\n",
              "      <td>0.0</td>\n",
              "      <td>0.0</td>\n",
              "      <td>0.0</td>\n",
              "      <td>0.0</td>\n",
              "      <td>0.0</td>\n",
              "      <td>0.0</td>\n",
              "      <td>0.0</td>\n",
              "      <td>0.0</td>\n",
              "      <td>0.0</td>\n",
              "      <td>1.0</td>\n",
              "      <td>1.0</td>\n",
              "      <td>0.0</td>\n",
              "      <td>0.0</td>\n",
              "      <td>1.0</td>\n",
              "      <td>0.0</td>\n",
              "      <td>0.0</td>\n",
              "      <td>0.0</td>\n",
              "      <td>0.0</td>\n",
              "      <td>0.0</td>\n",
              "      <td>0.0</td>\n",
              "      <td>0.0</td>\n",
              "      <td>0.0</td>\n",
              "      <td>0.0</td>\n",
              "      <td>0.0</td>\n",
              "      <td>0.0</td>\n",
              "      <td>0.0</td>\n",
              "      <td>1.0</td>\n",
              "      <td>0.0</td>\n",
              "      <td>0.0</td>\n",
              "      <td>0.0</td>\n",
              "      <td>0.0</td>\n",
              "      <td>0.0</td>\n",
              "      <td>0.0</td>\n",
              "      <td>0.0</td>\n",
              "      <td>0.0</td>\n",
              "      <td>0.0</td>\n",
              "      <td>0.0</td>\n",
              "      <td>0.0</td>\n",
              "      <td>1.0</td>\n",
              "      <td>0.0</td>\n",
              "      <td>0.0</td>\n",
              "      <td>0.0</td>\n",
              "      <td>1.0</td>\n",
              "      <td>0.0</td>\n",
              "      <td>0.0</td>\n",
              "      <td>0.0</td>\n",
              "      <td>0.0</td>\n",
              "      <td>0.0</td>\n",
              "      <td>0.0</td>\n",
              "      <td>0.0</td>\n",
              "      <td>0.0</td>\n",
              "      <td>0.0</td>\n",
              "      <td>0.0</td>\n",
              "      <td>0.0</td>\n",
              "    </tr>\n",
              "    <tr>\n",
              "      <th>3</th>\n",
              "      <td>12.298197</td>\n",
              "      <td>-0.085370</td>\n",
              "      <td>12.298197</td>\n",
              "      <td>0.085370</td>\n",
              "      <td>0.847033</td>\n",
              "      <td>388.269</td>\n",
              "      <td>370.125</td>\n",
              "      <td>387.069472</td>\n",
              "      <td>124.0</td>\n",
              "      <td>0.0</td>\n",
              "      <td>0.267458</td>\n",
              "      <td>-0.355369</td>\n",
              "      <td>0.355369</td>\n",
              "      <td>0.267458</td>\n",
              "      <td>1.500000</td>\n",
              "      <td>2.250000</td>\n",
              "      <td>2.875000</td>\n",
              "      <td>1.591350</td>\n",
              "      <td>767.018857</td>\n",
              "      <td>17.104084</td>\n",
              "      <td>13.343032</td>\n",
              "      <td>14.929029</td>\n",
              "      <td>11.579719</td>\n",
              "      <td>7.842445</td>\n",
              "      <td>8.635443</td>\n",
              "      <td>5.877107</td>\n",
              "      <td>6.731444</td>\n",
              "      <td>4.232941</td>\n",
              "      <td>5.056609</td>\n",
              "      <td>2.890092</td>\n",
              "      <td>3.218135</td>\n",
              "      <td>-2.33</td>\n",
              "      <td>3.779222e+05</td>\n",
              "      <td>16.525072</td>\n",
              "      <td>7.054447</td>\n",
              "      <td>3.436063</td>\n",
              "      <td>148.562357</td>\n",
              "      <td>15.200677</td>\n",
              "      <td>17.581012</td>\n",
              "      <td>0.0</td>\n",
              "      <td>0.000000</td>\n",
              "      <td>5.90718</td>\n",
              "      <td>0.000000</td>\n",
              "      <td>4.794537</td>\n",
              "      <td>4.983979</td>\n",
              "      <td>5.261892</td>\n",
              "      <td>0.0</td>\n",
              "      <td>0.000000</td>\n",
              "      <td>53.894426</td>\n",
              "      <td>35.494845</td>\n",
              "      <td>5.563451</td>\n",
              "      <td>4.794537</td>\n",
              "      <td>27.654986</td>\n",
              "      <td>5.261892</td>\n",
              "      <td>15.284746</td>\n",
              "      <td>0.0</td>\n",
              "      <td>25.807221</td>\n",
              "      <td>17.989423</td>\n",
              "      <td>45.819972</td>\n",
              "      <td>0.0</td>\n",
              "      <td>6.069221</td>\n",
              "      <td>10.216698</td>\n",
              "      <td>5.817863</td>\n",
              "      <td>0.0</td>\n",
              "      <td>15.929944</td>\n",
              "      <td>35.006490</td>\n",
              "      <td>0.000000</td>\n",
              "      <td>18.254850</td>\n",
              "      <td>34.587488</td>\n",
              "      <td>28.868664</td>\n",
              "      <td>0.000000</td>\n",
              "      <td>0.000000</td>\n",
              "      <td>0.0</td>\n",
              "      <td>84.81</td>\n",
              "      <td>0.000000</td>\n",
              "      <td>10.056429</td>\n",
              "      <td>0.0</td>\n",
              "      <td>11.949021</td>\n",
              "      <td>11.257379</td>\n",
              "      <td>41.915666</td>\n",
              "      <td>0.000000</td>\n",
              "      <td>24.395945</td>\n",
              "      <td>6.923737</td>\n",
              "      <td>42.183821</td>\n",
              "      <td>0.000000</td>\n",
              "      <td>0.0</td>\n",
              "      <td>0.000000</td>\n",
              "      <td>0.0</td>\n",
              "      <td>0.0</td>\n",
              "      <td>0.0</td>\n",
              "      <td>0.0</td>\n",
              "      <td>0.0</td>\n",
              "      <td>0.0</td>\n",
              "      <td>0.904309</td>\n",
              "      <td>51.273378</td>\n",
              "      <td>0.352941</td>\n",
              "      <td>24.0</td>\n",
              "      <td>2.0</td>\n",
              "      <td>6.0</td>\n",
              "      <td>0.0</td>\n",
              "      <td>1.0</td>\n",
              "      <td>1.0</td>\n",
              "      <td>0.0</td>\n",
              "      <td>2.0</td>\n",
              "      <td>2.0</td>\n",
              "      <td>4.0</td>\n",
              "      <td>2.0</td>\n",
              "      <td>7.0</td>\n",
              "      <td>3.0</td>\n",
              "      <td>0.0</td>\n",
              "      <td>1.0</td>\n",
              "      <td>1.0</td>\n",
              "      <td>3.0</td>\n",
              "      <td>2.75110</td>\n",
              "      <td>94.8829</td>\n",
              "      <td>0.0</td>\n",
              "      <td>0.0</td>\n",
              "      <td>0.0</td>\n",
              "      <td>0.0</td>\n",
              "      <td>0.0</td>\n",
              "      <td>2.0</td>\n",
              "      <td>1.0</td>\n",
              "      <td>0.0</td>\n",
              "      <td>0.0</td>\n",
              "      <td>0.0</td>\n",
              "      <td>1.0</td>\n",
              "      <td>1.0</td>\n",
              "      <td>0.0</td>\n",
              "      <td>0.0</td>\n",
              "      <td>0.0</td>\n",
              "      <td>3.0</td>\n",
              "      <td>2.0</td>\n",
              "      <td>0.0</td>\n",
              "      <td>0.0</td>\n",
              "      <td>0.0</td>\n",
              "      <td>0.0</td>\n",
              "      <td>1.0</td>\n",
              "      <td>0.0</td>\n",
              "      <td>0.0</td>\n",
              "      <td>0.0</td>\n",
              "      <td>0.0</td>\n",
              "      <td>0.0</td>\n",
              "      <td>1.0</td>\n",
              "      <td>0.0</td>\n",
              "      <td>1.0</td>\n",
              "      <td>1.0</td>\n",
              "      <td>0.0</td>\n",
              "      <td>0.0</td>\n",
              "      <td>0.0</td>\n",
              "      <td>0.0</td>\n",
              "      <td>0.0</td>\n",
              "      <td>0.0</td>\n",
              "      <td>0.0</td>\n",
              "      <td>0.0</td>\n",
              "      <td>0.0</td>\n",
              "      <td>0.0</td>\n",
              "      <td>0.0</td>\n",
              "      <td>0.0</td>\n",
              "      <td>0.0</td>\n",
              "      <td>1.0</td>\n",
              "      <td>0.0</td>\n",
              "      <td>0.0</td>\n",
              "      <td>0.0</td>\n",
              "      <td>0.0</td>\n",
              "      <td>0.0</td>\n",
              "      <td>0.0</td>\n",
              "      <td>0.0</td>\n",
              "      <td>0.0</td>\n",
              "      <td>0.0</td>\n",
              "      <td>0.0</td>\n",
              "      <td>0.0</td>\n",
              "      <td>0.0</td>\n",
              "      <td>1.0</td>\n",
              "      <td>0.0</td>\n",
              "      <td>0.0</td>\n",
              "      <td>0.0</td>\n",
              "      <td>0.0</td>\n",
              "      <td>0.0</td>\n",
              "      <td>0.0</td>\n",
              "      <td>0.0</td>\n",
              "      <td>0.0</td>\n",
              "      <td>0.0</td>\n",
              "      <td>0.0</td>\n",
              "      <td>0.0</td>\n",
              "      <td>1.0</td>\n",
              "      <td>0.0</td>\n",
              "      <td>0.0</td>\n",
              "      <td>0.0</td>\n",
              "      <td>1.0</td>\n",
              "      <td>0.0</td>\n",
              "      <td>0.0</td>\n",
              "      <td>0.0</td>\n",
              "      <td>0.0</td>\n",
              "      <td>0.0</td>\n",
              "      <td>0.0</td>\n",
              "      <td>0.0</td>\n",
              "      <td>0.0</td>\n",
              "      <td>0.0</td>\n",
              "      <td>0.0</td>\n",
              "      <td>0.0</td>\n",
              "    </tr>\n",
              "    <tr>\n",
              "      <th>4</th>\n",
              "      <td>12.387258</td>\n",
              "      <td>-0.040667</td>\n",
              "      <td>12.387258</td>\n",
              "      <td>0.040667</td>\n",
              "      <td>0.681761</td>\n",
              "      <td>413.319</td>\n",
              "      <td>392.151</td>\n",
              "      <td>412.089873</td>\n",
              "      <td>134.0</td>\n",
              "      <td>0.0</td>\n",
              "      <td>0.267458</td>\n",
              "      <td>-0.356445</td>\n",
              "      <td>0.356445</td>\n",
              "      <td>0.267458</td>\n",
              "      <td>1.230769</td>\n",
              "      <td>2.000000</td>\n",
              "      <td>2.730769</td>\n",
              "      <td>1.376538</td>\n",
              "      <td>924.389107</td>\n",
              "      <td>18.095647</td>\n",
              "      <td>14.627869</td>\n",
              "      <td>16.213866</td>\n",
              "      <td>12.597357</td>\n",
              "      <td>8.866938</td>\n",
              "      <td>9.659936</td>\n",
              "      <td>6.752885</td>\n",
              "      <td>7.607222</td>\n",
              "      <td>4.933988</td>\n",
              "      <td>5.757655</td>\n",
              "      <td>3.402552</td>\n",
              "      <td>3.730596</td>\n",
              "      <td>-2.34</td>\n",
              "      <td>1.351091e+06</td>\n",
              "      <td>17.092841</td>\n",
              "      <td>7.113005</td>\n",
              "      <td>3.464258</td>\n",
              "      <td>160.486499</td>\n",
              "      <td>15.200677</td>\n",
              "      <td>11.511791</td>\n",
              "      <td>0.0</td>\n",
              "      <td>0.000000</td>\n",
              "      <td>5.90718</td>\n",
              "      <td>0.000000</td>\n",
              "      <td>4.794537</td>\n",
              "      <td>4.983979</td>\n",
              "      <td>0.000000</td>\n",
              "      <td>0.0</td>\n",
              "      <td>18.199101</td>\n",
              "      <td>59.960793</td>\n",
              "      <td>34.684225</td>\n",
              "      <td>5.516701</td>\n",
              "      <td>4.794537</td>\n",
              "      <td>38.557911</td>\n",
              "      <td>0.000000</td>\n",
              "      <td>15.284746</td>\n",
              "      <td>0.0</td>\n",
              "      <td>25.807221</td>\n",
              "      <td>17.989423</td>\n",
              "      <td>58.325145</td>\n",
              "      <td>0.0</td>\n",
              "      <td>0.000000</td>\n",
              "      <td>10.216698</td>\n",
              "      <td>5.817863</td>\n",
              "      <td>0.0</td>\n",
              "      <td>15.929944</td>\n",
              "      <td>35.006490</td>\n",
              "      <td>0.000000</td>\n",
              "      <td>6.923737</td>\n",
              "      <td>29.024036</td>\n",
              "      <td>46.937289</td>\n",
              "      <td>0.000000</td>\n",
              "      <td>10.902925</td>\n",
              "      <td>0.0</td>\n",
              "      <td>61.02</td>\n",
              "      <td>0.000000</td>\n",
              "      <td>4.794537</td>\n",
              "      <td>0.0</td>\n",
              "      <td>11.949021</td>\n",
              "      <td>5.693928</td>\n",
              "      <td>52.818591</td>\n",
              "      <td>0.000000</td>\n",
              "      <td>0.000000</td>\n",
              "      <td>31.189205</td>\n",
              "      <td>49.329722</td>\n",
              "      <td>4.983979</td>\n",
              "      <td>0.0</td>\n",
              "      <td>0.000000</td>\n",
              "      <td>0.0</td>\n",
              "      <td>0.0</td>\n",
              "      <td>0.0</td>\n",
              "      <td>0.0</td>\n",
              "      <td>0.0</td>\n",
              "      <td>0.0</td>\n",
              "      <td>0.930415</td>\n",
              "      <td>50.384056</td>\n",
              "      <td>0.300000</td>\n",
              "      <td>26.0</td>\n",
              "      <td>2.0</td>\n",
              "      <td>5.0</td>\n",
              "      <td>0.0</td>\n",
              "      <td>1.0</td>\n",
              "      <td>1.0</td>\n",
              "      <td>1.0</td>\n",
              "      <td>2.0</td>\n",
              "      <td>3.0</td>\n",
              "      <td>3.0</td>\n",
              "      <td>2.0</td>\n",
              "      <td>6.0</td>\n",
              "      <td>3.0</td>\n",
              "      <td>0.0</td>\n",
              "      <td>1.0</td>\n",
              "      <td>1.0</td>\n",
              "      <td>4.0</td>\n",
              "      <td>4.03262</td>\n",
              "      <td>107.6739</td>\n",
              "      <td>0.0</td>\n",
              "      <td>0.0</td>\n",
              "      <td>0.0</td>\n",
              "      <td>0.0</td>\n",
              "      <td>0.0</td>\n",
              "      <td>2.0</td>\n",
              "      <td>1.0</td>\n",
              "      <td>0.0</td>\n",
              "      <td>0.0</td>\n",
              "      <td>0.0</td>\n",
              "      <td>1.0</td>\n",
              "      <td>1.0</td>\n",
              "      <td>0.0</td>\n",
              "      <td>0.0</td>\n",
              "      <td>0.0</td>\n",
              "      <td>2.0</td>\n",
              "      <td>2.0</td>\n",
              "      <td>0.0</td>\n",
              "      <td>0.0</td>\n",
              "      <td>0.0</td>\n",
              "      <td>0.0</td>\n",
              "      <td>1.0</td>\n",
              "      <td>0.0</td>\n",
              "      <td>0.0</td>\n",
              "      <td>0.0</td>\n",
              "      <td>0.0</td>\n",
              "      <td>0.0</td>\n",
              "      <td>1.0</td>\n",
              "      <td>0.0</td>\n",
              "      <td>1.0</td>\n",
              "      <td>1.0</td>\n",
              "      <td>0.0</td>\n",
              "      <td>0.0</td>\n",
              "      <td>0.0</td>\n",
              "      <td>1.0</td>\n",
              "      <td>0.0</td>\n",
              "      <td>1.0</td>\n",
              "      <td>0.0</td>\n",
              "      <td>0.0</td>\n",
              "      <td>0.0</td>\n",
              "      <td>0.0</td>\n",
              "      <td>0.0</td>\n",
              "      <td>0.0</td>\n",
              "      <td>0.0</td>\n",
              "      <td>1.0</td>\n",
              "      <td>0.0</td>\n",
              "      <td>0.0</td>\n",
              "      <td>0.0</td>\n",
              "      <td>0.0</td>\n",
              "      <td>0.0</td>\n",
              "      <td>0.0</td>\n",
              "      <td>0.0</td>\n",
              "      <td>0.0</td>\n",
              "      <td>0.0</td>\n",
              "      <td>0.0</td>\n",
              "      <td>0.0</td>\n",
              "      <td>0.0</td>\n",
              "      <td>0.0</td>\n",
              "      <td>0.0</td>\n",
              "      <td>0.0</td>\n",
              "      <td>0.0</td>\n",
              "      <td>0.0</td>\n",
              "      <td>0.0</td>\n",
              "      <td>0.0</td>\n",
              "      <td>1.0</td>\n",
              "      <td>0.0</td>\n",
              "      <td>0.0</td>\n",
              "      <td>0.0</td>\n",
              "      <td>0.0</td>\n",
              "      <td>1.0</td>\n",
              "      <td>0.0</td>\n",
              "      <td>0.0</td>\n",
              "      <td>0.0</td>\n",
              "      <td>1.0</td>\n",
              "      <td>0.0</td>\n",
              "      <td>0.0</td>\n",
              "      <td>0.0</td>\n",
              "      <td>0.0</td>\n",
              "      <td>0.0</td>\n",
              "      <td>0.0</td>\n",
              "      <td>0.0</td>\n",
              "      <td>0.0</td>\n",
              "      <td>0.0</td>\n",
              "      <td>0.0</td>\n",
              "      <td>0.0</td>\n",
              "    </tr>\n",
              "  </tbody>\n",
              "</table>\n",
              "</div>"
            ],
            "text/plain": [
              "   MaxEStateIndex  MinEStateIndex  MaxAbsEStateIndex  MinAbsEStateIndex       qed    MolWt  HeavyAtomMolWt  ExactMolWt  NumValenceElectrons  NumRadicalElectrons  MaxPartialCharge  MinPartialCharge  MaxAbsPartialCharge  MinAbsPartialCharge  FpDensityMorgan1  FpDensityMorgan2  FpDensityMorgan3  BalabanJ     BertzCT       Chi0      Chi0n      Chi0v       Chi1     Chi1n      Chi1v     Chi2n     Chi2v     Chi3n     Chi3v     Chi4n     Chi4v  HallKierAlpha           Ipc     Kappa1    Kappa2    Kappa3   LabuteASA  PEOE_VSA1  PEOE_VSA10  PEOE_VSA11  PEOE_VSA12  PEOE_VSA13  PEOE_VSA14  PEOE_VSA2  PEOE_VSA3  PEOE_VSA4  PEOE_VSA5  PEOE_VSA6  PEOE_VSA7  PEOE_VSA8  PEOE_VSA9   SMR_VSA1  SMR_VSA10  SMR_VSA2   SMR_VSA3  SMR_VSA4   SMR_VSA5   SMR_VSA6   SMR_VSA7  SMR_VSA8  SMR_VSA9  SlogP_VSA1  SlogP_VSA10  SlogP_VSA11  SlogP_VSA12  SlogP_VSA2  SlogP_VSA3  SlogP_VSA4  SlogP_VSA5  SlogP_VSA6  SlogP_VSA7  SlogP_VSA8  SlogP_VSA9    TPSA  EState_VSA1  EState_VSA10  EState_VSA11  EState_VSA2  EState_VSA3  EState_VSA4  EState_VSA5  EState_VSA6  EState_VSA7  EState_VSA8  EState_VSA9  VSA_EState1  VSA_EState10  VSA_EState2  VSA_EState3  VSA_EState4  VSA_EState5  VSA_EState6  VSA_EState7  VSA_EState8  VSA_EState9  FractionCSP3  HeavyAtomCount  NHOHCount  NOCount  NumAliphaticCarbocycles  NumAliphaticHeterocycles  NumAliphaticRings  NumAromaticCarbocycles  NumAromaticHeterocycles  NumAromaticRings  NumHAcceptors  NumHDonors  NumHeteroatoms  NumRotatableBonds  NumSaturatedCarbocycles  NumSaturatedHeterocycles  NumSaturatedRings  RingCount  MolLogP     MolMR  fr_Al_COO  fr_Al_OH  fr_Al_OH_noTert  fr_ArN  fr_Ar_COO  fr_Ar_N  fr_Ar_NH  fr_Ar_OH  fr_COO  fr_COO2  fr_C_O  fr_C_O_noCOO  fr_C_S  fr_HOCCN  fr_Imine  fr_NH0  fr_NH1  fr_NH2  fr_N_O  fr_Ndealkylation1  fr_Ndealkylation2  fr_Nhpyrrole  fr_SH  fr_aldehyde  fr_alkyl_carbamate  fr_alkyl_halide  fr_allylic_oxid  fr_amide  fr_amidine  fr_aniline  fr_aryl_methyl  fr_azide  fr_azo  fr_barbitur  fr_benzene  fr_benzodiazepine  fr_bicyclic  fr_diazo  fr_dihydropyridine  fr_epoxide  fr_ester  fr_ether  fr_furan  fr_guanido  fr_halogen  fr_hdrzine  fr_hdrzone  fr_imidazole  fr_imide  fr_isocyan  fr_isothiocyan  fr_ketone  fr_ketone_Topliss  fr_lactam  fr_lactone  fr_methoxy  fr_morpholine  fr_nitrile  fr_nitro  fr_nitro_arom  fr_nitro_arom_nonortho  fr_nitroso  fr_oxazole  fr_oxime  fr_para_hydroxylation  fr_phenol  fr_phenol_noOrthoHbond  fr_phos_acid  fr_phos_ester  fr_piperdine  fr_piperzine  fr_priamide  fr_prisulfonamd  fr_pyridine  fr_quatN  fr_sulfide  fr_sulfonamd  fr_sulfone  fr_term_acetylene  fr_tetrazole  fr_thiazole  fr_thiocyan  fr_thiophene  fr_unbrch_alkane  fr_urea\n",
              "0       12.198481       -0.435597          12.198481           0.013283  0.623001  384.223         369.103  383.055195                132.0                  0.0          0.311075         -0.350740             0.350740             0.311075          1.400000          2.120000          2.720000  1.606288  782.714558  17.974327  13.037493  14.549351  11.952397  7.646576   8.402505  5.682961  6.468125  4.062271  4.755185  2.799838  3.112547          -2.32  5.332598e+05  17.501340  7.283006  3.853433  152.831853  15.200677   10.847038         0.0    5.817863     5.90718    5.687386  14.908855   4.983979   0.000000        0.0  23.201880  24.974377  31.394564   9.945944   9.717848  40.614309  0.000000  15.284746       0.0  18.883484  17.989423  50.379934       0.0  0.000000   10.216698    11.505249          0.0    23.201880   39.929801    0.000000   10.114318   23.330108   24.395945   10.175743    0.000000         0.0  104.16     4.923311     14.908855           0.0    22.789517    42.465580     0.000000    18.329578     6.066367     4.899910    15.284746    23.201880          0.0     11.639059          0.0          0.0          0.0          0.0          0.0          0.0     0.000000    54.916497      0.333333            25.0        2.0      8.0                      0.0                       1.0                1.0                     0.0                      2.0               2.0            5.0         2.0            10.0                4.0                      0.0                       1.0                1.0        3.0  3.02350   94.4053        0.0       0.0              0.0     0.0        0.0      2.0       1.0       0.0     0.0      0.0     1.0           1.0     0.0       0.0       0.0     3.0     2.0     0.0     0.0                0.0                0.0           1.0    0.0          0.0                 0.0              0.0              0.0       1.0         0.0         1.0             0.0       0.0     0.0          0.0         0.0                0.0          0.0       0.0                 0.0         0.0       0.0       0.0       0.0         0.0         2.0         0.0         0.0           0.0       0.0         0.0             0.0        0.0                0.0        0.0         0.0         0.0            0.0         0.0       1.0            0.0                     0.0         0.0         0.0       0.0                    0.0        0.0                     0.0           0.0            0.0           1.0           0.0          0.0              0.0          1.0       0.0         0.0           0.0         0.0                0.0           0.0          0.0          0.0           0.0               0.0      0.0\n",
              "1       12.517532       -0.411106          12.517532           0.011515  0.550709  436.310         414.134  435.090602                144.0                  0.0          0.311075         -0.353241             0.353241             0.311075          1.444444          2.148148          2.740741  1.607439  843.272683  19.551677  15.236879  16.822875  12.863081  8.900969   9.693967  6.937354  7.791691  4.712163  5.368251  3.261192  4.047073          -2.42  1.314876e+06  19.344590  8.077319  4.292290  165.187695  15.200677    5.693928         0.0    5.817863     5.90718    5.687386  14.908855   4.983979   0.000000        0.0  13.847474  46.822227  41.561212   4.923311   9.717848  33.342373  0.000000  15.284746       0.0  38.648865  17.989423  50.370839       0.0  0.000000   10.216698    11.505249          0.0    15.929944   39.929801    0.000000   10.114318   48.789417   28.868664    0.000000    0.000000         0.0  104.16     4.923311     14.908855           0.0    17.636407    43.360853    10.166648     6.066367    18.329578     4.899910    45.062164     0.000000          0.0      0.000000          0.0          0.0          0.0          0.0          0.0          0.0     0.902714    62.030467      0.444444            27.0        2.0      8.0                      0.0                       1.0                1.0                     0.0                      2.0               2.0            5.0         2.0             9.0                5.0                      0.0                       1.0                1.0        3.0  3.60260  106.1743        0.0       0.0              0.0     0.0        0.0      2.0       1.0       0.0     0.0      0.0     1.0           1.0     0.0       0.0       0.0     3.0     2.0     0.0     0.0                0.0                0.0           1.0    0.0          0.0                 0.0              0.0              0.0       1.0         0.0         1.0             0.0       0.0     0.0          0.0         0.0                0.0          0.0       0.0                 0.0         0.0       0.0       0.0       0.0         0.0         1.0         0.0         0.0           0.0       0.0         0.0             0.0        0.0                0.0        0.0         0.0         0.0            0.0         0.0       1.0            0.0                     0.0         0.0         0.0       0.0                    0.0        0.0                     0.0           0.0            0.0           1.0           0.0          0.0              0.0          1.0       0.0         0.0           0.0         0.0                0.0           0.0          0.0          0.0           0.0               0.0      0.0\n",
              "2       12.472623       -0.518193          12.472623           0.024077  0.644188  474.359         450.167  473.106252                158.0                  0.0          0.339176         -0.462356             0.462356             0.339176          1.366667          2.066667          2.633333  1.707098  983.301265  21.836134  17.211935  18.797931  14.332938  9.833892  10.626890  7.232812  8.087149  5.061381  5.885049  3.519471  3.847515          -2.86  5.145049e+06  21.839461  9.303515  4.648309  183.297193  19.937540   23.144464         0.0    0.000000     5.90718    5.969305   4.794537   9.778516   5.261892        0.0   0.000000  61.675533  34.991929  12.170333  14.325937  33.624292  5.261892  15.284746       0.0  39.654696  24.596305  44.814141       0.0  6.069221   10.216698     5.817863          0.0    15.929944   47.582678    4.736863   25.178587   57.563142   16.605454    0.000000    0.000000         0.0  111.11     5.969305     14.850966           0.0    29.682806    43.136875    10.166648     0.000000    25.980209    11.823647    37.283911     4.736863          0.0      0.000000          0.0          0.0          0.0          0.0          0.0          0.0     0.869841    68.309292      0.428571            30.0        2.0      8.0                      0.0                       1.0                1.0                     0.0                      2.0               2.0            6.0         2.0             9.0                5.0                      0.0                       1.0                1.0        3.0  3.23622  115.5764        0.0       0.0              0.0     0.0        0.0      2.0       1.0       0.0     0.0      0.0     2.0           2.0     0.0       0.0       0.0     3.0     2.0     0.0     0.0                0.0                0.0           1.0    0.0          0.0                 0.0              0.0              0.0       1.0         0.0         1.0             2.0       0.0     0.0          0.0         0.0                0.0          0.0       0.0                 0.0         0.0       1.0       1.0       0.0         0.0         1.0         0.0         0.0           0.0       0.0         0.0             0.0        0.0                0.0        0.0         0.0         0.0            0.0         1.0       0.0            0.0                     0.0         0.0         0.0       0.0                    0.0        0.0                     0.0           0.0            0.0           1.0           0.0          0.0              0.0          1.0       0.0         0.0           0.0         0.0                0.0           0.0          0.0          0.0           0.0               0.0      0.0\n",
              "3       12.298197       -0.085370          12.298197           0.085370  0.847033  388.269         370.125  387.069472                124.0                  0.0          0.267458         -0.355369             0.355369             0.267458          1.500000          2.250000          2.875000  1.591350  767.018857  17.104084  13.343032  14.929029  11.579719  7.842445   8.635443  5.877107  6.731444  4.232941  5.056609  2.890092  3.218135          -2.33  3.779222e+05  16.525072  7.054447  3.436063  148.562357  15.200677   17.581012         0.0    0.000000     5.90718    0.000000   4.794537   4.983979   5.261892        0.0   0.000000  53.894426  35.494845   5.563451   4.794537  27.654986  5.261892  15.284746       0.0  25.807221  17.989423  45.819972       0.0  6.069221   10.216698     5.817863          0.0    15.929944   35.006490    0.000000   18.254850   34.587488   28.868664    0.000000    0.000000         0.0   84.81     0.000000     10.056429           0.0    11.949021    11.257379    41.915666     0.000000    24.395945     6.923737    42.183821     0.000000          0.0      0.000000          0.0          0.0          0.0          0.0          0.0          0.0     0.904309    51.273378      0.352941            24.0        2.0      6.0                      0.0                       1.0                1.0                     0.0                      2.0               2.0            4.0         2.0             7.0                3.0                      0.0                       1.0                1.0        3.0  2.75110   94.8829        0.0       0.0              0.0     0.0        0.0      2.0       1.0       0.0     0.0      0.0     1.0           1.0     0.0       0.0       0.0     3.0     2.0     0.0     0.0                0.0                0.0           1.0    0.0          0.0                 0.0              0.0              0.0       1.0         0.0         1.0             1.0       0.0     0.0          0.0         0.0                0.0          0.0       0.0                 0.0         0.0       0.0       0.0       0.0         0.0         1.0         0.0         0.0           0.0       0.0         0.0             0.0        0.0                0.0        0.0         0.0         0.0            0.0         1.0       0.0            0.0                     0.0         0.0         0.0       0.0                    0.0        0.0                     0.0           0.0            0.0           1.0           0.0          0.0              0.0          1.0       0.0         0.0           0.0         0.0                0.0           0.0          0.0          0.0           0.0               0.0      0.0\n",
              "4       12.387258       -0.040667          12.387258           0.040667  0.681761  413.319         392.151  412.089873                134.0                  0.0          0.267458         -0.356445             0.356445             0.267458          1.230769          2.000000          2.730769  1.376538  924.389107  18.095647  14.627869  16.213866  12.597357  8.866938   9.659936  6.752885  7.607222  4.933988  5.757655  3.402552  3.730596          -2.34  1.351091e+06  17.092841  7.113005  3.464258  160.486499  15.200677   11.511791         0.0    0.000000     5.90718    0.000000   4.794537   4.983979   0.000000        0.0  18.199101  59.960793  34.684225   5.516701   4.794537  38.557911  0.000000  15.284746       0.0  25.807221  17.989423  58.325145       0.0  0.000000   10.216698     5.817863          0.0    15.929944   35.006490    0.000000    6.923737   29.024036   46.937289    0.000000   10.902925         0.0   61.02     0.000000      4.794537           0.0    11.949021     5.693928    52.818591     0.000000     0.000000    31.189205    49.329722     4.983979          0.0      0.000000          0.0          0.0          0.0          0.0          0.0          0.0     0.930415    50.384056      0.300000            26.0        2.0      5.0                      0.0                       1.0                1.0                     1.0                      2.0               3.0            3.0         2.0             6.0                3.0                      0.0                       1.0                1.0        4.0  4.03262  107.6739        0.0       0.0              0.0     0.0        0.0      2.0       1.0       0.0     0.0      0.0     1.0           1.0     0.0       0.0       0.0     2.0     2.0     0.0     0.0                0.0                0.0           1.0    0.0          0.0                 0.0              0.0              0.0       1.0         0.0         1.0             1.0       0.0     0.0          0.0         1.0                0.0          1.0       0.0                 0.0         0.0       0.0       0.0       0.0         0.0         1.0         0.0         0.0           0.0       0.0         0.0             0.0        0.0                0.0        0.0         0.0         0.0            0.0         0.0       0.0            0.0                     0.0         0.0         0.0       0.0                    1.0        0.0                     0.0           0.0            0.0           1.0           0.0          0.0              0.0          1.0       0.0         0.0           0.0         0.0                0.0           0.0          0.0          0.0           0.0               0.0      0.0"
            ]
          },
          "metadata": {
            "tags": []
          },
          "execution_count": 51
        }
      ]
    },
    {
      "cell_type": "code",
      "metadata": {
        "id": "6a2s2scJp0uO",
        "colab_type": "code",
        "colab": {
          "base_uri": "https://localhost:8080/",
          "height": 458
        },
        "outputId": "2c135e29-7365-4665-bccd-fd7805dde821"
      },
      "source": [
        "# Molecular weight versus Partition coefficient (octanol/water)\n",
        "sns.jointplot('MolWt', 'MolLogP', data=tmpdess)"
      ],
      "execution_count": 94,
      "outputs": [
        {
          "output_type": "execute_result",
          "data": {
            "text/plain": [
              "<seaborn.axisgrid.JointGrid at 0x7f70e146c978>"
            ]
          },
          "metadata": {
            "tags": []
          },
          "execution_count": 94
        },
        {
          "output_type": "display_data",
          "data": {
            "image/png": "[encoded data removed]",
            "text/plain": [
              "<Figure size 432x432 with 3 Axes>"
            ]
          },
          "metadata": {
            "tags": []
          }
        }
      ]
    },
    {
      "cell_type": "code",
      "metadata": {
        "id": "lQUtmUYT_xJI",
        "colab_type": "code",
        "colab": {}
      },
      "source": [
        "# Concatenating Mol, IC50 and descriptor dataframes\n",
        "final_dataset = pd.concat([pp[[\"ID\", \"Smiles\"]], df[\"SAU Gyr IC50 (µM)\"], tmpdess], axis=1)\n",
        "final_dataset = final_dataset.rename(columns={\"SAU Gyr IC50 (µM)\":\"IC50\"})\n",
        "final_dataset = final_dataset.dropna(how ='any')"
      ],
      "execution_count": 0,
      "outputs": []
    },
    {
      "cell_type": "markdown",
      "metadata": {
        "id": "IUt6SvFNlWvM",
        "colab_type": "text"
      },
      "source": [
        "### Data cleaning"
      ]
    },
    {
      "cell_type": "markdown",
      "metadata": {
        "id": "4syNHjeYuEnh",
        "colab_type": "text"
      },
      "source": [
        "Finally we have a feature dataset with the compounds information in a vector form, ready for prime time. But before anything else, we have to evaluate which descriptors are correlated, and we should get rid of descriptor $\\text{IPC}$ (the magnitude of this feature is insane, e.g. $\\sim 10^5$) and those columns with all values $0$."
      ]
    },
    {
      "cell_type": "code",
      "metadata": {
        "id": "m7mK9oMSD95u",
        "colab_type": "code",
        "colab": {}
      },
      "source": [
        "final_dataset = final_dataset.drop(['Ipc'], axis=1)       # Drop IPC!!!!\n",
        "\n",
        "headers = list(final_dataset.head(1))                     # Get column names\n",
        "for col in headers[1:]:                                   # Drop empty columns\n",
        "    if final_dataset[col].sum() == 0:\n",
        "        final_dataset = final_dataset.drop([col], axis=1)"
      ],
      "execution_count": 0,
      "outputs": []
    },
    {
      "cell_type": "markdown",
      "metadata": {
        "id": "ujSsM42qt_TE",
        "colab_type": "text"
      },
      "source": [
        "Remove correlated descriptors"
      ]
    },
    {
      "cell_type": "code",
      "metadata": {
        "id": "OBDyYnO7lkDJ",
        "colab_type": "code",
        "colab": {}
      },
      "source": [
        "# Create correlation matrix\n",
        "corr_matrix = final_dataset.corr().abs()\n",
        "\n",
        "# Select upper triangle of correlation matrix\n",
        "upper = corr_matrix.where(np.triu(np.ones(corr_matrix.shape), k=1).astype(np.bool))\n",
        "\n",
        "# Find features with correlation greater than 0.95\n",
        "to_drop = [column for column in upper.columns if any(upper[column] > 0.95)]\n",
        "\n",
        "# Drop features \n",
        "for col in to_drop:\n",
        "    final_dataset.drop(col, axis=1, inplace=True)"
      ],
      "execution_count": 0,
      "outputs": []
    },
    {
      "cell_type": "code",
      "metadata": {
        "id": "-O0NSQl_Qcxe",
        "colab_type": "code",
        "colab": {
          "base_uri": "https://localhost:8080/",
          "height": 34
        },
        "outputId": "f0675b03-8b6f-4d21-ad11-b3efdc00d566"
      },
      "source": [
        "# How many descriptors were removed\n",
        "old = len(descriptors)\n",
        "new = len(list(final_dataset.head(1))[3:])\n",
        "print(\"%i descriptors were removed\" % (old - new))\n",
        "\n",
        "# Update descriptors list\n",
        "descriptors = list(final_dataset.head(1))[3:]"
      ],
      "execution_count": 64,
      "outputs": [
        {
          "output_type": "stream",
          "text": [
            "35 descriptors were removed\n"
          ],
          "name": "stdout"
        }
      ]
    },
    {
      "cell_type": "markdown",
      "metadata": {
        "id": "BNhW36AlnFy5",
        "colab_type": "text"
      },
      "source": [
        "The Qualifiers dilema\n",
        "-------------------------\n",
        "\n",
        "Now it is time to combine the features and the prediction targets, the $\\text{IC50}$s. This dataset includes experimental mesurements from different studies, which in itself it's a challenge if you can to predict $\\log{\\text{IC50}}$s. But, more importantly we don't have accurate measurements for all compunds in the datatset, amnye of the reported affinities have qualifiers, like $>400\\; \\mu M$. For now, let's deal with this problem by ignoring it :-O"
      ]
    },
    {
      "cell_type": "code",
      "metadata": {
        "id": "wDfyD5uPkhKg",
        "colab_type": "code",
        "colab": {}
      },
      "source": [
        "# Comment this latter\n",
        "pattern = \"[><]\"\n",
        "filters = final_dataset.IC50.str.contains(pattern)\n",
        "final_dataset = final_dataset[~filters]"
      ],
      "execution_count": 0,
      "outputs": []
    },
    {
      "cell_type": "markdown",
      "metadata": {
        "id": "fSJ-_noktmyE",
        "colab_type": "text"
      },
      "source": [
        "Log-transform $\\text{IC50}$ values"
      ]
    },
    {
      "cell_type": "code",
      "metadata": {
        "id": "0uPpg-0EtlYZ",
        "colab_type": "code",
        "colab": {}
      },
      "source": [
        "final_dataset['IC50'] = final_dataset['IC50'].apply(lambda x: np.log(float(x)))"
      ],
      "execution_count": 0,
      "outputs": []
    },
    {
      "cell_type": "markdown",
      "metadata": {
        "id": "FwhWP5yVaPYf",
        "colab_type": "text"
      },
      "source": [
        "Save clean dataset in `Google Drive`."
      ]
    },
    {
      "cell_type": "code",
      "metadata": {
        "id": "LYA-gqNraLr2",
        "colab_type": "code",
        "colab": {}
      },
      "source": [
        "#from google.colab import drive\n",
        "#drive.mount('/content/drive')"
      ],
      "execution_count": 0,
      "outputs": []
    },
    {
      "cell_type": "code",
      "metadata": {
        "id": "GnUJYZwraJ_0",
        "colab_type": "code",
        "colab": {}
      },
      "source": [
        "# Save in Google Drive\n",
        "final_dataset.to_csv('/content/drive/My Drive/Hack 7/Gyrase/AZ_clean_test.csv')"
      ],
      "execution_count": 0,
      "outputs": []
    },
    {
      "cell_type": "markdown",
      "metadata": {
        "id": "gxmVci55tg8w",
        "colab_type": "text"
      },
      "source": [
        "Machine Learning\n",
        "---------------------\n",
        "\n",
        "Here _Random Forest_ and _Deep Neural Network_ will be used to generated a predictive model for Gyrase inhibitors $\\log{\\text{IC50}}$ as a function of these ligands molecular properties.\n",
        "\n"
      ]
    },
    {
      "cell_type": "code",
      "metadata": {
        "id": "OGqdTM_2tjzg",
        "colab_type": "code",
        "colab": {
          "base_uri": "https://localhost:8080/",
          "height": 207
        },
        "outputId": "f765acd1-bd36-43b9-8ac4-265626b61fb3"
      },
      "source": [
        "featurizer = dc.feat.UserDefinedFeaturizer(descriptors)    # custom features\n",
        "dataloader = dc.data.UserCSVLoader(tasks=[\"IC50\"], \n",
        "                               smiles_field=\"Smiles\", \n",
        "                               id_field=\"ID\", \n",
        "                               featurizer=featurizer,\n",
        "                               verbose=True)               # DeepChem loader class \n",
        "\n",
        "\n",
        "filepath = \"/content/drive/My Drive/Hack 7/Gyrase/AZ_clean_test.csv\"   # Google Drive path\n",
        "deepdata = dataloader.featurize(filepath)                              # DeepChem dataset"
      ],
      "execution_count": 104,
      "outputs": [
        {
          "output_type": "stream",
          "text": [
            "Loading raw samples now.\n",
            "shard_size: 8192\n",
            "About to start loading CSV from /content/drive/My Drive/Hack 7/Gyrase/AZ_clean_test.csv\n",
            "Loading shard 1 of size 8192.\n",
            "TIMING: user specified processing took 0.035 s\n",
            "TIMING: featurizing shard 0 took 0.046 s\n",
            "TIMING: dataset construction took 0.097 s\n",
            "Loading dataset from disk.\n"
          ],
          "name": "stdout"
        },
        {
          "output_type": "stream",
          "text": [
            "/usr/local/lib/python3.6/site-packages/deepchem/data/data_loader.py:126: FutureWarning: Method .as_matrix will be removed in a future version. Use .values instead.\n",
            "  X_shard = df.as_matrix(columns=featurizer.feature_fields)\n"
          ],
          "name": "stderr"
        }
      ]
    },
    {
      "cell_type": "markdown",
      "metadata": {
        "id": "H_uM-OUUn9ld",
        "colab_type": "text"
      },
      "source": [
        "Split the machine-learning-ready dataset into __training__, __test__ and __validation__ subsets."
      ]
    },
    {
      "cell_type": "code",
      "metadata": {
        "id": "q3X88qpukiBH",
        "colab_type": "code",
        "colab": {
          "base_uri": "https://localhost:8080/",
          "height": 136
        },
        "outputId": "8a7b05aa-cf28-4de1-b3f5-98776e5e21b6"
      },
      "source": [
        "splitter = dc.splits.RandomSplitter(deepdata)                                       \n",
        "train, valid, test = splitter.train_valid_test_split(deepdata,\n",
        "                                                     frac_train=.7,\n",
        "                                                     frac_valid=.1,\n",
        "                                                     frac_test =.2)"
      ],
      "execution_count": 105,
      "outputs": [
        {
          "output_type": "stream",
          "text": [
            "Computing train/valid/test indices\n",
            "TIMING: dataset construction took 0.017 s\n",
            "Loading dataset from disk.\n",
            "TIMING: dataset construction took 0.008 s\n",
            "Loading dataset from disk.\n",
            "TIMING: dataset construction took 0.009 s\n",
            "Loading dataset from disk.\n"
          ],
          "name": "stdout"
        }
      ]
    },
    {
      "cell_type": "markdown",
      "metadata": {
        "id": "gG7zUqyZt6rc",
        "colab_type": "text"
      },
      "source": [
        "The performance of common machine-learning algorithms can be very sensitive to preprocessing of the data, neural networks mostly. Here we will normalize the features and $\\log{\\text{IC50}}$ to have zero-mean and unit-standard-deviation, using `deepchem`."
      ]
    },
    {
      "cell_type": "code",
      "metadata": {
        "id": "6PdDIQROnEIn",
        "colab_type": "code",
        "colab": {
          "base_uri": "https://localhost:8080/",
          "height": 119
        },
        "outputId": "c9409dda-4380-4997-8b7b-6af975094dd9"
      },
      "source": [
        "transformers = [\n",
        "    dc.trans.NormalizationTransformer(transform_y=True, dataset=train)]\n",
        "\n",
        "for dataset in [train, valid, test]:\n",
        "    for transformer in transformers:\n",
        "        dataset = transformer.transform(dataset)"
      ],
      "execution_count": 106,
      "outputs": [
        {
          "output_type": "stream",
          "text": [
            "TIMING: dataset construction took 0.013 s\n",
            "Loading dataset from disk.\n",
            "TIMING: dataset construction took 0.006 s\n",
            "Loading dataset from disk.\n",
            "TIMING: dataset construction took 0.007 s\n",
            "Loading dataset from disk.\n"
          ],
          "name": "stdout"
        }
      ]
    },
    {
      "cell_type": "markdown",
      "metadata": {
        "id": "BeqBXuVJyGi9",
        "colab_type": "text"
      },
      "source": [
        "### Random Forest\n",
        "\n",
        "Fit the RF model using the training set"
      ]
    },
    {
      "cell_type": "code",
      "metadata": {
        "id": "cb9dJmdqyBsH",
        "colab_type": "code",
        "colab": {}
      },
      "source": [
        "sklearn_model = RFR(n_estimators=100)\n",
        "model = dc.models.SklearnModel(sklearn_model)\n",
        "model.fit(train)"
      ],
      "execution_count": 0,
      "outputs": []
    },
    {
      "cell_type": "markdown",
      "metadata": {
        "id": "VjYEgwU5zlPT",
        "colab_type": "text"
      },
      "source": [
        "Evaluate the model on the __test__ set using the Mean-Squared Error and $R^2$ scores of the predictions against the target values."
      ]
    },
    {
      "cell_type": "code",
      "metadata": {
        "id": "LZM8jHa_yQBS",
        "colab_type": "code",
        "colab": {}
      },
      "source": [
        "%%capture\n",
        "\n",
        "# MSE\n",
        "metric = dc.metrics.Metric(dc.metrics.mean_squared_error)\n",
        "train_scores = model.evaluate(train, [metric], transformers)\n",
        "test_scores  = model.evaluate(test,  [metric], transformers)"
      ],
      "execution_count": 0,
      "outputs": []
    },
    {
      "cell_type": "code",
      "metadata": {
        "id": "YheedzVcw59M",
        "colab_type": "code",
        "colab": {
          "base_uri": "https://localhost:8080/",
          "height": 51
        },
        "outputId": "88754a78-e447-42ef-81e7-300edbb4320b"
      },
      "source": [
        "print(\"MSE train scores {}\".format(train_scores['mean_squared_error']))\n",
        "print(\"MSE test  scores {}\".format(test_scores['mean_squared_error']))"
      ],
      "execution_count": 120,
      "outputs": [
        {
          "output_type": "stream",
          "text": [
            "MSE train scores 2.6097867571197675\n",
            "MSE test  scores 12.6937611163767\n"
          ],
          "name": "stdout"
        }
      ]
    },
    {
      "cell_type": "code",
      "metadata": {
        "id": "OeyUky4Lw8Ml",
        "colab_type": "code",
        "colab": {}
      },
      "source": [
        "%%capture\n",
        "\n",
        "# R2\n",
        "metric = dc.metrics.Metric(dc.metrics.r2_score)\n",
        "train_scores = model.evaluate(train, [metric], transformers)\n",
        "test_scores  = model.evaluate(test,  [metric], transformers)"
      ],
      "execution_count": 0,
      "outputs": []
    },
    {
      "cell_type": "code",
      "metadata": {
        "id": "v0rGnkwYw_WC",
        "colab_type": "code",
        "colab": {
          "base_uri": "https://localhost:8080/",
          "height": 51
        },
        "outputId": "937e0a6e-1a0d-4dca-f83e-b30f7fac3047"
      },
      "source": [
        "print(\"R2 train scores {}\".format(train_scores['r2_score']))\n",
        "print(\"R2 test  scores {}\".format(test_scores['r2_score']))"
      ],
      "execution_count": 122,
      "outputs": [
        {
          "output_type": "stream",
          "text": [
            "R2 train scores 0.922928957720113\n",
            "R2 test  scores 0.6302149779099391\n"
          ],
          "name": "stdout"
        }
      ]
    },
    {
      "cell_type": "markdown",
      "metadata": {
        "id": "QGrlG3jfxFYn",
        "colab_type": "text"
      },
      "source": [
        "The performance of this basic _Random Forest_ model isn’t very strong. To construct stronger models, let’s attempt to optimize the hyperparameters  to achieve better performance. "
      ]
    },
    {
      "cell_type": "code",
      "metadata": {
        "id": "lrqIf0FTyQyc",
        "colab_type": "code",
        "colab": {
          "base_uri": "https://localhost:8080/",
          "height": 595
        },
        "outputId": "4a3ae413-95c3-4f9b-e971-a6eba824fea0"
      },
      "source": [
        "def rf_model_builder(model_params, model_dir):\n",
        "    sklearn_model = RFR(**model_params)\n",
        "    return dc.models.SklearnModel(sklearn_model, model_dir)\n",
        "\n",
        "params_dict = {\n",
        "    \"n_estimators\": [20, 100],\n",
        "    \"max_features\": [\"auto\", \"log2\", None],\n",
        "    \"n_jobs\": [2]\n",
        "}\n",
        "\n",
        "\n",
        "metric    = dc.metrics.Metric(dc.metrics.mean_squared_error)\n",
        "optimizer = dc.hyper.HyperparamOpt(rf_model_builder)\n",
        "\n",
        "best_rf, best_rf_hyperparams, all_rf_results = optimizer.hyperparam_search(\n",
        "    params_dict, train, test, transformers, metric=metric)"
      ],
      "execution_count": 129,
      "outputs": [
        {
          "output_type": "stream",
          "text": [
            "Fitting model 1/6\n",
            "hyperparameters: {'n_estimators': 20, 'max_features': 'auto', 'n_jobs': 2}\n",
            "computed_metrics: [14.261436928561668]\n",
            "Model 1/6, Metric mean_squared_error, Validation set 0: 14.261437\n",
            "\tbest_validation_score so far: 14.261437\n",
            "Fitting model 2/6\n",
            "hyperparameters: {'n_estimators': 20, 'max_features': 'log2', 'n_jobs': 2}\n",
            "computed_metrics: [13.663340488767483]\n",
            "Model 2/6, Metric mean_squared_error, Validation set 1: 13.663340\n",
            "\tbest_validation_score so far: 14.261437\n",
            "Fitting model 3/6\n",
            "hyperparameters: {'n_estimators': 20, 'max_features': None, 'n_jobs': 2}\n",
            "computed_metrics: [12.693998200889762]\n",
            "Model 3/6, Metric mean_squared_error, Validation set 2: 12.693998\n",
            "\tbest_validation_score so far: 14.261437\n",
            "Fitting model 4/6\n",
            "hyperparameters: {'n_estimators': 100, 'max_features': 'auto', 'n_jobs': 2}\n",
            "computed_metrics: [12.11617909371505]\n",
            "Model 4/6, Metric mean_squared_error, Validation set 3: 12.116179\n",
            "\tbest_validation_score so far: 14.261437\n",
            "Fitting model 5/6\n",
            "hyperparameters: {'n_estimators': 100, 'max_features': 'log2', 'n_jobs': 2}\n",
            "computed_metrics: [12.143326810013722]\n",
            "Model 5/6, Metric mean_squared_error, Validation set 4: 12.143327\n",
            "\tbest_validation_score so far: 14.261437\n",
            "Fitting model 6/6\n",
            "hyperparameters: {'n_estimators': 100, 'max_features': None, 'n_jobs': 2}\n",
            "computed_metrics: [12.570625503361972]\n",
            "Model 6/6, Metric mean_squared_error, Validation set 5: 12.570626\n",
            "\tbest_validation_score so far: 14.261437\n",
            "computed_metrics: [2.9880797741654916]\n",
            "Best hyperparameters: (20, 'auto', 2)\n",
            "train_score: 2.988080\n",
            "validation_score: 14.261437\n"
          ],
          "name": "stdout"
        }
      ]
    },
    {
      "cell_type": "markdown",
      "metadata": {
        "id": "cpLI3gGSyIBL",
        "colab_type": "text"
      },
      "source": [
        "No better than before. So let's try the Neural Network.\n",
        "\n",
        "### Neural Network"
      ]
    },
    {
      "cell_type": "code",
      "metadata": {
        "id": "1P55bkQmyfdg",
        "colab_type": "code",
        "colab": {}
      },
      "source": [
        ""
      ],
      "execution_count": 0,
      "outputs": []
    },
    {
      "cell_type": "code",
      "metadata": {
        "id": "ODU3luRZ2bvE",
        "colab_type": "code",
        "colab": {
          "base_uri": "https://localhost:8080/",
          "height": 190
        },
        "outputId": "5fd37b6b-fb0a-4a4e-c760-97c57eb717d9"
      },
      "source": [
        "import numpy.random\n",
        "\n",
        "params_dict = {\"learning_rate\": np.power(10., np.random.uniform(-5, -3, size=1)),\n",
        "               \"decay\": np.power(10, np.random.uniform(-6, -4, size=1)),\n",
        "               \"nb_epoch\": [15000] }\n",
        "\n",
        "n_features = train.get_data_shape()[0]\n",
        "\n",
        "def model_builder(model_params, model_dir):\n",
        "    model = dc.models.MultitaskRegressor(\n",
        "        1, n_features, layer_sizes=[2000,1000,1000,500], dropouts=[.25],\n",
        "        batch_size=50, **model_params)\n",
        "    return model\n",
        "\n",
        "optimizer = dc.hyper.HyperparamOpt(model_builder)\n",
        "best_dnn, best_dnn_hyperparams, all_dnn_results = optimizer.hyperparam_search(\n",
        "    params_dict, train, test, transformers, metric=metric)"
      ],
      "execution_count": 93,
      "outputs": [
        {
          "output_type": "stream",
          "text": [
            "Fitting model 1/1\n",
            "hyperparameters: {'learning_rate': 0.00040455393000958094, 'decay': 2.845927340022073e-06, 'nb_epoch': 5000}\n",
            "computed_metrics: [0.6282973134137277]\n",
            "Model 1/1, Metric pearson_r2_score, Validation set 0: 0.628297\n",
            "\tbest_validation_score so far: 0.628297\n",
            "computed_metrics: [0.9325013507955382]\n",
            "Best hyperparameters: (0.00040455393000958094, 2.845927340022073e-06, 5000)\n",
            "train_score: 0.932501\n",
            "validation_score: 0.628297\n"
          ],
          "name": "stdout"
        }
      ]
    },
    {
      "cell_type": "code",
      "metadata": {
        "id": "jp2_A9By-PlG",
        "colab_type": "code",
        "colab": {
          "base_uri": "https://localhost:8080/",
          "height": 295
        },
        "outputId": "4fadef0a-1569-46cc-abbd-58a8a4741fcb"
      },
      "source": [
        "task = \"measured log solubility in mols per litre\"\n",
        "predicted_test = best_rf.predict(test_dataset)\n",
        "true_test = test_dataset.y\n",
        "plt.scatter(predicted_test, true_test)\n",
        "plt.xlabel('Predicted log-solubility in mols/liter')\n",
        "plt.ylabel('True log-solubility in mols/liter')\n",
        "plt.title(r'RF- predicted vs. true log-solubilities')\n",
        "plt.show()"
      ],
      "execution_count": 94,
      "outputs": [
        {
          "output_type": "display_data",
          "data": {
            "image/png": "[encoded data removed]",
            "text/plain": [
              "<Figure size 432x288 with 1 Axes>"
            ]
          },
          "metadata": {
            "tags": []
          }
        }
      ]
    },
    {
      "cell_type": "code",
      "metadata": {
        "id": "3j08gPVT-Uf2",
        "colab_type": "code",
        "colab": {
          "base_uri": "https://localhost:8080/",
          "height": 295
        },
        "outputId": "88e949e9-011a-489c-9bdb-ad082e15f3c3"
      },
      "source": [
        "task = \"measured log solubility in mols per litre\"\n",
        "predicted_test = best_dnn.predict(test_dataset)\n",
        "true_test = test_dataset.y\n",
        "plt.scatter(predicted_test, true_test)\n",
        "plt.xlabel('Predicted log-solubility in mols/liter')\n",
        "plt.ylabel('True log-solubility in mols/liter')\n",
        "plt.title(r'DNN predicted vs. true log-solubilities')\n",
        "plt.show()"
      ],
      "execution_count": 95,
      "outputs": [
        {
          "output_type": "display_data",
          "data": {
            "image/png": "[encoded data removed]",
            "text/plain": [
              "<Figure size 432x288 with 1 Axes>"
            ]
          },
          "metadata": {
            "tags": []
          }
        }
      ]
    },
    {
      "cell_type": "code",
      "metadata": {
        "id": "9XMqYZfIqVQC",
        "colab_type": "code",
        "colab": {}
      },
      "source": [
        "if __name__ == \"__main__\":"
      ],
      "execution_count": 0,
      "outputs": []
    }
  ]
}