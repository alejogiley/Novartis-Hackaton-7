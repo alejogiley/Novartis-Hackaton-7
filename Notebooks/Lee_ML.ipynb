{
  "nbformat": 4,
  "nbformat_minor": 0,
  "metadata": {
    "colab": {
      "name": "Untitled4.ipynb",
      "version": "0.3.2",
      "provenance": [],
      "collapsed_sections": [],
      "include_colab_link": true
    },
    "kernelspec": {
      "name": "python3",
      "display_name": "Python 3"
    },
    "accelerator": "GPU"
  },
  "cells": [
    {
      "cell_type": "markdown",
      "metadata": {
        "id": "view-in-github",
        "colab_type": "text"
      },
      "source": [
        "<a href=\"https://colab.research.google.com/github/alejogiley/Novartis-Hackaton-7/blob/master/Notebooks/Lee_ML.ipynb\" target=\"_parent\"><img src=\"https://colab.research.google.com/assets/colab-badge.svg\" alt=\"Open In Colab\"/></a>"
      ]
    },
    {
      "cell_type": "markdown",
      "metadata": {
        "id": "BHn__IVB5T2Q",
        "colab_type": "text"
      },
      "source": [
        "# Predicting affinities of antibiotic candidates to a DNA Gyrase"
      ]
    },
    {
      "cell_type": "code",
      "metadata": {
        "id": "3A5t5tPy5TdA",
        "colab_type": "code",
        "colab": {}
      },
      "source": [
        "#!wget -c https://repo.continuum.io/archive/Anaconda3-5.1.0-Linux-x86_64.sh\n",
        "#!chmod +x Anaconda3-5.1.0-Linux-x86_64.sh\n",
        "#!bash ./Anaconda3-5.1.0-Linux-x86_64.sh -b -f -p /usr/local\n",
        "\n",
        "#!conda install -q -y --prefix /usr/local -c omnia --no-update-deps pdbfixer=1.4\n",
        "#!conda install -q -y --prefix /usr/local -c conda-forge --no-update-deps xgboost=0.6a2\n",
        "#!conda install -q -y --prefix /usr/local -c rdkit --no-update-deps rdkit=2017.09.1\n",
        "#!conda install -q -y --prefix /usr/local -c deepchem --no-update-deps  deepchem-gpu=2.1.0\n",
        "\n",
        "#import sys\n",
        "#sys.path.append('/usr/local/lib/python3.6/site-packages/')"
      ],
      "execution_count": 0,
      "outputs": []
    },
    {
      "cell_type": "code",
      "metadata": {
        "id": "j63gIJT98Pbs",
        "colab_type": "code",
        "colab": {}
      },
      "source": [
        "import os                # operating system interfaces \n",
        "\n",
        "import numpy  as np      # scientific computing: arrays\n",
        "import scipy  as sp      # scientific computing: statistics\n",
        "import pandas as pd      # data analysis tools\n",
        "\n",
        "# Visualization & graphs\n",
        "import matplotlib.pyplot as plt\n",
        "import seaborn as sns\n",
        "\n",
        "# Deep Learning library\n",
        "import deepchem as dc\n",
        "\n",
        "# Machine Learning: randomized decision trees\n",
        "from sklearn.ensemble import RandomForestRegressor as RFR  \n",
        "from sklearn.ensemble import RandomForestClassifier as RFC\n",
        "from sklearn.metrics  import accuracy_score\n",
        "\n",
        "from rdkit import Chem               # RDKit libraries for chemistry functions\n",
        "from rdkit.Chem import Draw          # Drawing chemical structures\n",
        "from rdkit.Chem import PandasTools   # Manipulating chemical data\n",
        "from rdkit.Chem import Descriptors   # Calculate molecular descriptors\n",
        "from rdkit.Chem import rdmolops      # Additional molecular properties\n",
        "from rdkit.Chem import AllChem       # Morgan (Circular) fingerprints\n",
        "\n",
        "from rdkit.Chem.Draw import IPythonConsole           # visualizing structures\n",
        "from rdkit.ML.Descriptors import MoleculeDescriptors # molecular descriptors\n",
        "from deepchem.utils.evaluate import Evaluator"
      ],
      "execution_count": 0,
      "outputs": []
    },
    {
      "cell_type": "markdown",
      "metadata": {
        "id": "VrpUoqTIhNLn",
        "colab_type": "text"
      },
      "source": [
        "Parsing Experimental Dataset\n",
        "---------------\n",
        "\n",
        "Dataset is available in the `Github` repository. In order to read in the data, we will use the `pandas` data analysis library. The data is in CSV format and contains SMILES strings, measured $\\text{IC50}$ and $K_i$, and a number of other experimental measurements and molecular properties. \n",
        "\n"
      ]
    },
    {
      "cell_type": "code",
      "metadata": {
        "id": "LgTzOsuO-XoJ",
        "colab_type": "code",
        "outputId": "23a6be02-ddb0-4bdd-bc07-fb7e0c8f2248",
        "colab": {
          "base_uri": "https://localhost:8080/",
          "height": 309
        }
      },
      "source": [
        "# Dataset address\n",
        "url = \"https://raw.githubusercontent.com/alejogiley/Novartis-Hackaton-7/master/Data/Gyrase/AZ_Pyrrolamides_4OE.csv\"\n",
        "\n",
        "# Load Dataset\n",
        "df = pd.read_csv(url, encoding=\"unicode_escape\")\n",
        "\n",
        "# Visualize first 5 rows\n",
        "df.head(5)"
      ],
      "execution_count": 63,
      "outputs": [
        {
          "output_type": "execute_result",
          "data": {
            "text/html": [
              "<div>\n",
              "<style scoped>\n",
              "    .dataframe tbody tr th:only-of-type {\n",
              "        vertical-align: middle;\n",
              "    }\n",
              "\n",
              "    .dataframe tbody tr th {\n",
              "        vertical-align: top;\n",
              "    }\n",
              "\n",
              "    .dataframe thead th {\n",
              "        text-align: right;\n",
              "    }\n",
              "</style>\n",
              "<table border=\"1\" class=\"dataframe\">\n",
              "  <thead>\n",
              "    <tr style=\"text-align: right;\">\n",
              "      <th></th>\n",
              "      <th>External_ID</th>\n",
              "      <th>Molecule SMILES</th>\n",
              "      <th>First Sample Reg. Date</th>\n",
              "      <th>SAU Gyr IC50 (µM)</th>\n",
              "      <th>SAU Gyr Ki (µM)</th>\n",
              "      <th>Sau516 MIC (µg/ml)</th>\n",
              "      <th>Sau516  MIC (µM)</th>\n",
              "      <th>Mean Human Prot binding (% free)</th>\n",
              "      <th>Mean LogD</th>\n",
              "      <th>Determination of pKa HA1</th>\n",
              "      <th>Determination of pKa HA2</th>\n",
              "      <th>Determination of pKa B1</th>\n",
              "      <th>Determination of pKa B2</th>\n",
              "      <th>Sirius pKa</th>\n",
              "    </tr>\n",
              "  </thead>\n",
              "  <tbody>\n",
              "    <tr>\n",
              "      <th>0</th>\n",
              "      <td>AZ1001</td>\n",
              "      <td>c1cc(c(nc1)N2CCC(CC2)NC(=O)c3cc(c([nH]3)Cl)Cl)[N+](=O)[O-]</td>\n",
              "      <td>6/10/2002</td>\n",
              "      <td>&gt;400</td>\n",
              "      <td>NaN</td>\n",
              "      <td>&gt;64</td>\n",
              "      <td>NaN</td>\n",
              "      <td>NaN</td>\n",
              "      <td>NV</td>\n",
              "      <td>NaN</td>\n",
              "      <td>NaN</td>\n",
              "      <td>NaN</td>\n",
              "      <td>NaN</td>\n",
              "      <td>NaN</td>\n",
              "    </tr>\n",
              "    <tr>\n",
              "      <th>1</th>\n",
              "      <td>AZ1002</td>\n",
              "      <td>CC(C)c1c(cc([nH]1)C(=O)NC2CCN(CC2)c3c(cccn3)[N+](=O)[O-])Br</td>\n",
              "      <td>8/16/2002</td>\n",
              "      <td>&gt;50</td>\n",
              "      <td>NaN</td>\n",
              "      <td>&gt;64</td>\n",
              "      <td>NaN</td>\n",
              "      <td>NaN</td>\n",
              "      <td>&gt;4</td>\n",
              "      <td>NaN</td>\n",
              "      <td>NaN</td>\n",
              "      <td>NaN</td>\n",
              "      <td>NaN</td>\n",
              "      <td>NaN</td>\n",
              "    </tr>\n",
              "    <tr>\n",
              "      <th>2</th>\n",
              "      <td>AZ1003</td>\n",
              "      <td>CCOC(=O)c1cc(nc(c1C#N)N2CCC(CC2)NC(=O)c3cc(c([nH]3)C)Br)C</td>\n",
              "      <td>8/16/2002</td>\n",
              "      <td>7.14</td>\n",
              "      <td>NaN</td>\n",
              "      <td>&gt;64</td>\n",
              "      <td>NaN</td>\n",
              "      <td>NaN</td>\n",
              "      <td>&gt;3.66</td>\n",
              "      <td>NaN</td>\n",
              "      <td>NaN</td>\n",
              "      <td>NaN</td>\n",
              "      <td>NaN</td>\n",
              "      <td>NaN</td>\n",
              "    </tr>\n",
              "    <tr>\n",
              "      <th>3</th>\n",
              "      <td>AZ1004</td>\n",
              "      <td>Cc1c(cc([nH]1)C(=O)NC2CCN(CC2)c3c(cccn3)C#N)Br</td>\n",
              "      <td>8/16/2002</td>\n",
              "      <td>9.93</td>\n",
              "      <td>NaN</td>\n",
              "      <td>&gt;64</td>\n",
              "      <td>NaN</td>\n",
              "      <td>NaN</td>\n",
              "      <td>&gt;3.13</td>\n",
              "      <td>NaN</td>\n",
              "      <td>NaN</td>\n",
              "      <td>NaN</td>\n",
              "      <td>NaN</td>\n",
              "      <td>NaN</td>\n",
              "    </tr>\n",
              "    <tr>\n",
              "      <th>4</th>\n",
              "      <td>AZ1005</td>\n",
              "      <td>Cc1c(cc([nH]1)C(=O)NC2CCN(CC2)c3ccc4ccccc4n3)Br</td>\n",
              "      <td>8/16/2002</td>\n",
              "      <td>3.31</td>\n",
              "      <td>NaN</td>\n",
              "      <td>&gt;64</td>\n",
              "      <td>NaN</td>\n",
              "      <td>NaN</td>\n",
              "      <td>&gt;4.07</td>\n",
              "      <td>NaN</td>\n",
              "      <td>NaN</td>\n",
              "      <td>NaN</td>\n",
              "      <td>NaN</td>\n",
              "      <td>NaN</td>\n",
              "    </tr>\n",
              "  </tbody>\n",
              "</table>\n",
              "</div>"
            ],
            "text/plain": [
              "  External_ID  ... Sirius pKa\n",
              "0      AZ1001  ...        NaN\n",
              "1      AZ1002  ...        NaN\n",
              "2      AZ1003  ...        NaN\n",
              "3      AZ1004  ...        NaN\n",
              "4      AZ1005  ...        NaN\n",
              "\n",
              "[5 rows x 14 columns]"
            ]
          },
          "metadata": {
            "tags": []
          },
          "execution_count": 63
        }
      ]
    },
    {
      "cell_type": "markdown",
      "metadata": {
        "id": "xYOHwE9mnq9t",
        "colab_type": "text"
      },
      "source": [
        "To get a quick glimpse of the dataset, lets calculate e.g. the number of ligands, the chemical space variability and the range of experimentally measured affinities."
      ]
    },
    {
      "cell_type": "code",
      "metadata": {
        "id": "FleFHlRIoaKu",
        "colab_type": "code",
        "outputId": "6a5f45a6-84c1-4ee7-f0ab-1386f3dd8d41",
        "colab": {
          "base_uri": "https://localhost:8080/",
          "height": 68
        }
      },
      "source": [
        "print(\"Number of molecules on dataset: %i\" % (df['Molecule SMILES'].count() + 1)) # Number of non-NA/NaN rows\n",
        "print(\"Number of IC50 values: %i\" % (df['SAU Gyr IC50 (µM)'].count() + 1))        # Number of non-NA/NaN rows\n",
        "print(\"Number of Ki values: %i\" % (df['SAU Gyr Ki (µM)'].count() + 1))            # Number of non-NA/NaN rows"
      ],
      "execution_count": 64,
      "outputs": [
        {
          "output_type": "stream",
          "text": [
            "Number of molecules on dataset: 982\n",
            "Number of IC50 values: 982\n",
            "Number of Ki values: 445\n"
          ],
          "name": "stdout"
        }
      ]
    },
    {
      "cell_type": "markdown",
      "metadata": {
        "id": "Lr7Gj3iQcP2N",
        "colab_type": "text"
      },
      "source": [
        "SMILES\n",
        "---------\n",
        "\n",
        "The only two fields that are useful to our model are the molecular SMILES and the experimental $\\text{IC50}$ and $K_i$. First thing to do is to process the SMILES strings with the `RDKit` module. The SMILES can be converted to a `Mol` object, with bond connectivity and molecular properties. In `RDKit` the majority of the basic molecular functionality is found in module `rdkit.Chem`.\n"
      ]
    },
    {
      "cell_type": "markdown",
      "metadata": {
        "id": "1oBDhHvCkf1Y",
        "colab_type": "text"
      },
      "source": [
        "### A bird's eye view of the SMILE set."
      ]
    },
    {
      "cell_type": "code",
      "metadata": {
        "id": "BjNELJnlkS30",
        "colab_type": "code",
        "outputId": "5c4010fe-0289-4f44-a2f8-bad34801ca9f",
        "colab": {
          "base_uri": "https://localhost:8080/",
          "height": 300
        }
      },
      "source": [
        "smiles_lens = [len(sm) for sm in df['Molecule SMILES']]\n",
        "sns.distplot(smiles_lens)\n",
        "plt.xlabel('len(smiles)')\n",
        "plt.ylabel('probability')"
      ],
      "execution_count": 65,
      "outputs": [
        {
          "output_type": "execute_result",
          "data": {
            "text/plain": [
              "Text(0, 0.5, 'probability')"
            ]
          },
          "metadata": {
            "tags": []
          },
          "execution_count": 65
        },
        {
          "output_type": "display_data",
          "data": {
            "image/png": "[encoded data removed]",
            "text/plain": [
              "<Figure size 432x288 with 1 Axes>"
            ]
          },
          "metadata": {
            "tags": []
          }
        }
      ]
    },
    {
      "cell_type": "markdown",
      "metadata": {
        "id": "Y0e26zpNlA5D",
        "colab_type": "text"
      },
      "source": [
        "### Process SMILES"
      ]
    },
    {
      "cell_type": "code",
      "metadata": {
        "id": "cSe8LPKO7CkK",
        "colab_type": "code",
        "colab": {}
      },
      "source": [
        "# Setup\n",
        "pp = pd.DataFrame()                                              # New dataframe \n",
        "pp[['ID','Smiles']] = df[['External_ID','Molecule SMILES']]      # Rename headers\n",
        "pp['ProblematicSmiles'] = pd.Series()                            # Create a new column for SMILES \\\n",
        "                                                                 # that can't be parsed with RDKit"
      ],
      "execution_count": 0,
      "outputs": []
    },
    {
      "cell_type": "code",
      "metadata": {
        "id": "E258cSt4-QyK",
        "colab_type": "code",
        "colab": {}
      },
      "source": [
        "# Some of the SMILE strings will not be parsed by RDKit \\\n",
        "# it is reasonable to expect artifacts from the csv file encoding \\\n",
        "# or errors on the dataset\n",
        "\n",
        "def smile2mol(smile):\n",
        "    '''Convert SMILES string to \n",
        "       RDKit Mol obj, if the conversion\n",
        "       fails then return \"None\"\n",
        "    \n",
        "       Keyword arguments:\n",
        "       smile -- SMILE string\n",
        "    '''\n",
        "    try:\n",
        "        mol = Chem.MolFromSmiles(smile)\n",
        "    except:\n",
        "        return None\n",
        "    else:\n",
        "        return mol"
      ],
      "execution_count": 0,
      "outputs": []
    },
    {
      "cell_type": "code",
      "metadata": {
        "id": "maL7TRxdUJ4y",
        "colab_type": "code",
        "outputId": "87761176-1c6d-4b9c-c139-157953ab462a",
        "colab": {
          "base_uri": "https://localhost:8080/",
          "height": 241
        }
      },
      "source": [
        "# Convert SMILES to Mol objects \n",
        "pp['Molecule'] = pp['Smiles'].apply(lambda x: smile2mol(x))"
      ],
      "execution_count": 68,
      "outputs": [
        {
          "output_type": "stream",
          "text": [
            "RDKit ERROR: [03:11:54] SMILES Parse Error: syntax error for input: 'Cc1c(c(c([nH]1)C(=O)NC\u0002CCN(C/C2=N\\OC)c3ncc(s3)C=O)Cl)Cl'\n",
            "RDKit ERROR: [03:11:54] SMILES Parse Error: syntax error for input: 'Cc1c(c(c([nH]1)C(=O)NC\u0002CCN(C/C2=N\\OC)c3nc(c(s3)C(=O)OCC=C)C(=O)NCCOC)Cl)Cl'\n",
            "RDKit ERROR: [03:11:54] SMILES Parse Error: syntax error for input: 'Cc1c(c(c([nH]1)C(=O)NC\u0002CCN(C/C2=N\\OC)c3nc(c(s3)C(=O)O)C(=O)NCCOC)Cl)Cl'\n",
            "RDKit ERROR: [03:11:54] SMILES Parse Error: syntax error for input: 'Cc1c(c(c([nH]1)C(=O)NC\u0002CCN(C/C2=N\\OC)c3nc(c(s3)C(=O)OC)C(=O)NC)Cl)Cl'\n",
            "RDKit ERROR: [03:11:54] SMILES Parse Error: syntax error for input: 'Cc1c(c(c([nH]1)C(=O)NC\u0002CCN(C/C2=N\\OC)c3nc(c(s3)C(=O)O)C(=O)NC)Cl)Cl'\n",
            "RDKit ERROR: [03:11:54] SMILES Parse Error: syntax error for input: 'Cc1c(c(c([nH]1)C(=O)NC\u0002CCN(C/C2=N\\OC)c3nc(c(s3)C(=O)O)c4nccn4COC)Cl)Cl'\n",
            "RDKit ERROR: [03:11:54] SMILES Parse Error: syntax error for input: 'Cc1c(c(c([nH]1)C(=O)NC\u0002CCN(C/C2=N\\OC)c3nc(c(s3)C(=O)O)c4[nH]ccn4)Cl)Cl'\n",
            "RDKit ERROR: [03:11:54] SMILES Parse Error: syntax error for input: 'Cc1c(c(c([nH]1)C(=O)NC\u0002CCN(C/C2=N\\OC)c3nc(c(s3)C(=O)O)C(=O)N)Cl)Cl'\n",
            "RDKit ERROR: [03:11:54] SMILES Parse Error: syntax error for input: 'Cc1c(c(c([nH]1)C(=O)NC\u0002CCN(C/C2=N\\OC)c3nc(c(s3)C(=O)OC)c4nccn4CCOC)Cl)Cl'\n",
            "RDKit ERROR: [03:11:54] SMILES Parse Error: syntax error for input: 'Cc1c(c(c([nH]1)C(=O)NC\u0002CCN(C/C2=N\\OC)c3nc(c(s3)C(=O)O)c4nccn4CCOC)Cl)Cl'\n",
            "RDKit ERROR: [03:11:54] SMILES Parse Error: syntax error for input: 'Cc1c(c(c([nH]1)C(=O)NC\u0002CCN(C/C2=N\\OC)c3nc(c(s3)C(=O)OC)c4ncnn4C)Cl)Cl'\n",
            "RDKit ERROR: [03:11:54] SMILES Parse Error: syntax error for input: 'Cc1c(c(c([nH]1)C(=O)NC\u0002CCN(C/C2=N\\OC)c3nc(c(s3)C(=O)O)c4ncnn4C)Cl)Cl'\n"
          ],
          "name": "stderr"
        }
      ]
    },
    {
      "cell_type": "markdown",
      "metadata": {
        "id": "agGnd4WY_xts",
        "colab_type": "text"
      },
      "source": [
        "We can see there are indeed problematic SMILES. When copying and pasting those strings on RDKit directly, I realized the error can be fixed if the string `NC\\2CCN` are replaced with `NC2CCN`. This is an _ad-hoc_ solution, that should be made automatic."
      ]
    },
    {
      "cell_type": "code",
      "metadata": {
        "id": "Er05qhPB_yNE",
        "colab_type": "code",
        "outputId": "92abd709-f06f-4245-f9d0-d4f0c9e6bd04",
        "colab": {
          "base_uri": "https://localhost:8080/",
          "height": 34
        }
      },
      "source": [
        "# Count problematic SMILES\n",
        "problematics = [ k for k,v in enumerate(pp['Molecule']) if v is None ]\n",
        "\n",
        "# Flags these SMILES in the working dataframe\n",
        "pp['ProblematicSmiles'] = pp['Smiles'].loc[problematics]\n",
        "  \n",
        "# Fix SMILES\n",
        "for sm in range(len(problematics)):\n",
        "    # problematic SMILE row number\n",
        "    ix = problematics[sm]  \n",
        "    \n",
        "    # Replace character \"\\2\" with \"2\"\n",
        "    pp['Smiles'] = pp['Smiles'].str.replace('\\2','2', regex=True)\n",
        "    \n",
        "    # Redo smile2mol conversion\n",
        "    pp['Molecule'] = pp['Smiles'].apply(lambda x: smile2mol(x))\n",
        "    \n",
        "# Check all went smooth\n",
        "if not pp['Molecule'].isnull().all().all():\n",
        "    print(\"Hey!!! It's FIXED :-)\")"
      ],
      "execution_count": 69,
      "outputs": [
        {
          "output_type": "stream",
          "text": [
            "Hey!!! It's FIXED :-)\n"
          ],
          "name": "stdout"
        }
      ]
    },
    {
      "cell_type": "markdown",
      "metadata": {
        "id": "r-XUDznGcM3Y",
        "colab_type": "text"
      },
      "source": [
        "Molecular Descriptors\n",
        "------------------\n",
        "\n",
        "The next step should be to translate each compound into a vectorial format that can be understood by statistical learning techniques, e.g. _random forest_, or _neural networks_. `RDKit` molecular descriptors, e.g. molecular weight, atom partial charges, etc, are a way to transform the chemical information containd in the SMILE string into a feature vector. This process is commonly called __featurization__.\n",
        "\n",
        "*Note: add also Morgan fingerprints.*"
      ]
    },
    {
      "cell_type": "markdown",
      "metadata": {
        "id": "npbqmT38lPDy",
        "colab_type": "text"
      },
      "source": [
        "### Compute Descriptors"
      ]
    },
    {
      "cell_type": "code",
      "metadata": {
        "id": "peo4JpIqJDE0",
        "colab_type": "code",
        "colab": {}
      },
      "source": [
        "# Molecular descriptors can be obtained from \\\n",
        "# the Mol objects using rdkit.ML.Descriptors.MoleculeDescriptors module\n",
        "\n",
        "descriptors = list(np.array(Descriptors._descList)[:,0])                        # descriptor list\n",
        "ccalculator = MoleculeDescriptors.MolecularDescriptorCalculator(descriptors)    # calculating descriptors"
      ],
      "execution_count": 0,
      "outputs": []
    },
    {
      "cell_type": "code",
      "metadata": {
        "id": "9JaNUFXXJa3F",
        "colab_type": "code",
        "colab": {}
      },
      "source": [
        "# Make is easier to identify errors or \\\n",
        "# problematic values, e.g infity descriptor values\n",
        "def computeDescriptors(mol, ccalculator):\n",
        "    '''Calculate Molecular descriptors from \n",
        "       RDKit Mol object, if the calculation\n",
        "       fails then return \"None\"\n",
        "    \n",
        "       Keyword arguments:\n",
        "       mol -- RDKit Mol object\n",
        "    '''\n",
        "    try:\n",
        "        features = np.array(ccalculator.CalcDescriptors(mol))\n",
        "    except:\n",
        "        return None\n",
        "    else:\n",
        "        if not np.all(np.isfinite(features)):\n",
        "            print(\"Caution! Infinite value\")\n",
        "            return None\n",
        "        else:\n",
        "            return features"
      ],
      "execution_count": 0,
      "outputs": []
    },
    {
      "cell_type": "code",
      "metadata": {
        "id": "xQ5l2wvMKuvJ",
        "colab_type": "code",
        "outputId": "c0b3533b-13e8-48ed-f66c-83af502da046",
        "colab": {
          "base_uri": "https://localhost:8080/",
          "height": 34
        }
      },
      "source": [
        "# Selecting only non-null molecules \n",
        "pp = pp[ pp[\"Molecule\"].notnull() ]\n",
        "\n",
        "# Mapping descriptors with molecules\n",
        "ff = lambda x: computeDescriptors(x, ccalculator)\n",
        "pp['Descriptors'] = pp['Molecule'].map(ff)\n",
        "\n",
        "# Flag problems\n",
        "problematics = pp[\"Descriptors\"].isnull()\n",
        "print(\"{} molecules failed to get descriptors\".format(problematics.sum())) "
      ],
      "execution_count": 72,
      "outputs": [
        {
          "output_type": "stream",
          "text": [
            "0 molecules failed to get descriptors\n"
          ],
          "name": "stdout"
        }
      ]
    },
    {
      "cell_type": "code",
      "metadata": {
        "id": "E9GdC7XPLgqi",
        "colab_type": "code",
        "outputId": "efb06262-4e7d-4a53-9744-f8ed38134672",
        "colab": {
          "base_uri": "https://localhost:8080/",
          "height": 253
        }
      },
      "source": [
        "# Convert descripor list to dataframe\n",
        "tmpdess = pp[\"Descriptors\"].apply(pd.Series)\n",
        "\n",
        "# Make headers the descriptor names\n",
        "tmpdess = tmpdess.rename(columns = lambda x : descriptors[x])\n",
        "\n",
        "# Check first 5 rows\n",
        "tmpdess.head(5)"
      ],
      "execution_count": 73,
      "outputs": [
        {
          "output_type": "execute_result",
          "data": {
            "text/html": [
              "<div>\n",
              "<style scoped>\n",
              "    .dataframe tbody tr th:only-of-type {\n",
              "        vertical-align: middle;\n",
              "    }\n",
              "\n",
              "    .dataframe tbody tr th {\n",
              "        vertical-align: top;\n",
              "    }\n",
              "\n",
              "    .dataframe thead th {\n",
              "        text-align: right;\n",
              "    }\n",
              "</style>\n",
              "<table border=\"1\" class=\"dataframe\">\n",
              "  <thead>\n",
              "    <tr style=\"text-align: right;\">\n",
              "      <th></th>\n",
              "      <th>MaxEStateIndex</th>\n",
              "      <th>MinEStateIndex</th>\n",
              "      <th>MaxAbsEStateIndex</th>\n",
              "      <th>MinAbsEStateIndex</th>\n",
              "      <th>qed</th>\n",
              "      <th>MolWt</th>\n",
              "      <th>HeavyAtomMolWt</th>\n",
              "      <th>ExactMolWt</th>\n",
              "      <th>NumValenceElectrons</th>\n",
              "      <th>NumRadicalElectrons</th>\n",
              "      <th>MaxPartialCharge</th>\n",
              "      <th>MinPartialCharge</th>\n",
              "      <th>MaxAbsPartialCharge</th>\n",
              "      <th>MinAbsPartialCharge</th>\n",
              "      <th>FpDensityMorgan1</th>\n",
              "      <th>FpDensityMorgan2</th>\n",
              "      <th>FpDensityMorgan3</th>\n",
              "      <th>BalabanJ</th>\n",
              "      <th>BertzCT</th>\n",
              "      <th>Chi0</th>\n",
              "      <th>Chi0n</th>\n",
              "      <th>Chi0v</th>\n",
              "      <th>Chi1</th>\n",
              "      <th>Chi1n</th>\n",
              "      <th>Chi1v</th>\n",
              "      <th>Chi2n</th>\n",
              "      <th>Chi2v</th>\n",
              "      <th>Chi3n</th>\n",
              "      <th>Chi3v</th>\n",
              "      <th>Chi4n</th>\n",
              "      <th>Chi4v</th>\n",
              "      <th>HallKierAlpha</th>\n",
              "      <th>Ipc</th>\n",
              "      <th>Kappa1</th>\n",
              "      <th>Kappa2</th>\n",
              "      <th>Kappa3</th>\n",
              "      <th>LabuteASA</th>\n",
              "      <th>PEOE_VSA1</th>\n",
              "      <th>PEOE_VSA10</th>\n",
              "      <th>PEOE_VSA11</th>\n",
              "      <th>...</th>\n",
              "      <th>fr_hdrzine</th>\n",
              "      <th>fr_hdrzone</th>\n",
              "      <th>fr_imidazole</th>\n",
              "      <th>fr_imide</th>\n",
              "      <th>fr_isocyan</th>\n",
              "      <th>fr_isothiocyan</th>\n",
              "      <th>fr_ketone</th>\n",
              "      <th>fr_ketone_Topliss</th>\n",
              "      <th>fr_lactam</th>\n",
              "      <th>fr_lactone</th>\n",
              "      <th>fr_methoxy</th>\n",
              "      <th>fr_morpholine</th>\n",
              "      <th>fr_nitrile</th>\n",
              "      <th>fr_nitro</th>\n",
              "      <th>fr_nitro_arom</th>\n",
              "      <th>fr_nitro_arom_nonortho</th>\n",
              "      <th>fr_nitroso</th>\n",
              "      <th>fr_oxazole</th>\n",
              "      <th>fr_oxime</th>\n",
              "      <th>fr_para_hydroxylation</th>\n",
              "      <th>fr_phenol</th>\n",
              "      <th>fr_phenol_noOrthoHbond</th>\n",
              "      <th>fr_phos_acid</th>\n",
              "      <th>fr_phos_ester</th>\n",
              "      <th>fr_piperdine</th>\n",
              "      <th>fr_piperzine</th>\n",
              "      <th>fr_priamide</th>\n",
              "      <th>fr_prisulfonamd</th>\n",
              "      <th>fr_pyridine</th>\n",
              "      <th>fr_quatN</th>\n",
              "      <th>fr_sulfide</th>\n",
              "      <th>fr_sulfonamd</th>\n",
              "      <th>fr_sulfone</th>\n",
              "      <th>fr_term_acetylene</th>\n",
              "      <th>fr_tetrazole</th>\n",
              "      <th>fr_thiazole</th>\n",
              "      <th>fr_thiocyan</th>\n",
              "      <th>fr_thiophene</th>\n",
              "      <th>fr_unbrch_alkane</th>\n",
              "      <th>fr_urea</th>\n",
              "    </tr>\n",
              "  </thead>\n",
              "  <tbody>\n",
              "    <tr>\n",
              "      <th>0</th>\n",
              "      <td>12.198481</td>\n",
              "      <td>-0.435597</td>\n",
              "      <td>12.198481</td>\n",
              "      <td>0.013283</td>\n",
              "      <td>0.623001</td>\n",
              "      <td>384.223</td>\n",
              "      <td>369.103</td>\n",
              "      <td>383.055195</td>\n",
              "      <td>132.0</td>\n",
              "      <td>0.0</td>\n",
              "      <td>0.311075</td>\n",
              "      <td>-0.350740</td>\n",
              "      <td>0.350740</td>\n",
              "      <td>0.311075</td>\n",
              "      <td>1.400000</td>\n",
              "      <td>2.120000</td>\n",
              "      <td>2.720000</td>\n",
              "      <td>1.606288</td>\n",
              "      <td>782.714558</td>\n",
              "      <td>17.974327</td>\n",
              "      <td>13.037493</td>\n",
              "      <td>14.549351</td>\n",
              "      <td>11.952397</td>\n",
              "      <td>7.646576</td>\n",
              "      <td>8.402505</td>\n",
              "      <td>5.682961</td>\n",
              "      <td>6.468125</td>\n",
              "      <td>4.062271</td>\n",
              "      <td>4.755185</td>\n",
              "      <td>2.799838</td>\n",
              "      <td>3.112547</td>\n",
              "      <td>-2.32</td>\n",
              "      <td>5.332598e+05</td>\n",
              "      <td>17.501340</td>\n",
              "      <td>7.283006</td>\n",
              "      <td>3.853433</td>\n",
              "      <td>152.831853</td>\n",
              "      <td>15.200677</td>\n",
              "      <td>10.847038</td>\n",
              "      <td>0.0</td>\n",
              "      <td>...</td>\n",
              "      <td>0.0</td>\n",
              "      <td>0.0</td>\n",
              "      <td>0.0</td>\n",
              "      <td>0.0</td>\n",
              "      <td>0.0</td>\n",
              "      <td>0.0</td>\n",
              "      <td>0.0</td>\n",
              "      <td>0.0</td>\n",
              "      <td>0.0</td>\n",
              "      <td>0.0</td>\n",
              "      <td>0.0</td>\n",
              "      <td>0.0</td>\n",
              "      <td>0.0</td>\n",
              "      <td>1.0</td>\n",
              "      <td>0.0</td>\n",
              "      <td>0.0</td>\n",
              "      <td>0.0</td>\n",
              "      <td>0.0</td>\n",
              "      <td>0.0</td>\n",
              "      <td>0.0</td>\n",
              "      <td>0.0</td>\n",
              "      <td>0.0</td>\n",
              "      <td>0.0</td>\n",
              "      <td>0.0</td>\n",
              "      <td>1.0</td>\n",
              "      <td>0.0</td>\n",
              "      <td>0.0</td>\n",
              "      <td>0.0</td>\n",
              "      <td>1.0</td>\n",
              "      <td>0.0</td>\n",
              "      <td>0.0</td>\n",
              "      <td>0.0</td>\n",
              "      <td>0.0</td>\n",
              "      <td>0.0</td>\n",
              "      <td>0.0</td>\n",
              "      <td>0.0</td>\n",
              "      <td>0.0</td>\n",
              "      <td>0.0</td>\n",
              "      <td>0.0</td>\n",
              "      <td>0.0</td>\n",
              "    </tr>\n",
              "    <tr>\n",
              "      <th>1</th>\n",
              "      <td>12.517532</td>\n",
              "      <td>-0.411106</td>\n",
              "      <td>12.517532</td>\n",
              "      <td>0.011515</td>\n",
              "      <td>0.550709</td>\n",
              "      <td>436.310</td>\n",
              "      <td>414.134</td>\n",
              "      <td>435.090602</td>\n",
              "      <td>144.0</td>\n",
              "      <td>0.0</td>\n",
              "      <td>0.311075</td>\n",
              "      <td>-0.353241</td>\n",
              "      <td>0.353241</td>\n",
              "      <td>0.311075</td>\n",
              "      <td>1.444444</td>\n",
              "      <td>2.148148</td>\n",
              "      <td>2.740741</td>\n",
              "      <td>1.607439</td>\n",
              "      <td>843.272683</td>\n",
              "      <td>19.551677</td>\n",
              "      <td>15.236879</td>\n",
              "      <td>16.822875</td>\n",
              "      <td>12.863081</td>\n",
              "      <td>8.900969</td>\n",
              "      <td>9.693967</td>\n",
              "      <td>6.937354</td>\n",
              "      <td>7.791691</td>\n",
              "      <td>4.712163</td>\n",
              "      <td>5.368251</td>\n",
              "      <td>3.261192</td>\n",
              "      <td>4.047073</td>\n",
              "      <td>-2.42</td>\n",
              "      <td>1.314876e+06</td>\n",
              "      <td>19.344590</td>\n",
              "      <td>8.077319</td>\n",
              "      <td>4.292290</td>\n",
              "      <td>165.187695</td>\n",
              "      <td>15.200677</td>\n",
              "      <td>5.693928</td>\n",
              "      <td>0.0</td>\n",
              "      <td>...</td>\n",
              "      <td>0.0</td>\n",
              "      <td>0.0</td>\n",
              "      <td>0.0</td>\n",
              "      <td>0.0</td>\n",
              "      <td>0.0</td>\n",
              "      <td>0.0</td>\n",
              "      <td>0.0</td>\n",
              "      <td>0.0</td>\n",
              "      <td>0.0</td>\n",
              "      <td>0.0</td>\n",
              "      <td>0.0</td>\n",
              "      <td>0.0</td>\n",
              "      <td>0.0</td>\n",
              "      <td>1.0</td>\n",
              "      <td>0.0</td>\n",
              "      <td>0.0</td>\n",
              "      <td>0.0</td>\n",
              "      <td>0.0</td>\n",
              "      <td>0.0</td>\n",
              "      <td>0.0</td>\n",
              "      <td>0.0</td>\n",
              "      <td>0.0</td>\n",
              "      <td>0.0</td>\n",
              "      <td>0.0</td>\n",
              "      <td>1.0</td>\n",
              "      <td>0.0</td>\n",
              "      <td>0.0</td>\n",
              "      <td>0.0</td>\n",
              "      <td>1.0</td>\n",
              "      <td>0.0</td>\n",
              "      <td>0.0</td>\n",
              "      <td>0.0</td>\n",
              "      <td>0.0</td>\n",
              "      <td>0.0</td>\n",
              "      <td>0.0</td>\n",
              "      <td>0.0</td>\n",
              "      <td>0.0</td>\n",
              "      <td>0.0</td>\n",
              "      <td>0.0</td>\n",
              "      <td>0.0</td>\n",
              "    </tr>\n",
              "    <tr>\n",
              "      <th>2</th>\n",
              "      <td>12.472623</td>\n",
              "      <td>-0.518193</td>\n",
              "      <td>12.472623</td>\n",
              "      <td>0.024077</td>\n",
              "      <td>0.644188</td>\n",
              "      <td>474.359</td>\n",
              "      <td>450.167</td>\n",
              "      <td>473.106252</td>\n",
              "      <td>158.0</td>\n",
              "      <td>0.0</td>\n",
              "      <td>0.339176</td>\n",
              "      <td>-0.462356</td>\n",
              "      <td>0.462356</td>\n",
              "      <td>0.339176</td>\n",
              "      <td>1.366667</td>\n",
              "      <td>2.066667</td>\n",
              "      <td>2.633333</td>\n",
              "      <td>1.707098</td>\n",
              "      <td>983.301265</td>\n",
              "      <td>21.836134</td>\n",
              "      <td>17.211935</td>\n",
              "      <td>18.797931</td>\n",
              "      <td>14.332938</td>\n",
              "      <td>9.833892</td>\n",
              "      <td>10.626890</td>\n",
              "      <td>7.232812</td>\n",
              "      <td>8.087149</td>\n",
              "      <td>5.061381</td>\n",
              "      <td>5.885049</td>\n",
              "      <td>3.519471</td>\n",
              "      <td>3.847515</td>\n",
              "      <td>-2.86</td>\n",
              "      <td>5.145049e+06</td>\n",
              "      <td>21.839461</td>\n",
              "      <td>9.303515</td>\n",
              "      <td>4.648309</td>\n",
              "      <td>183.297193</td>\n",
              "      <td>19.937540</td>\n",
              "      <td>23.144464</td>\n",
              "      <td>0.0</td>\n",
              "      <td>...</td>\n",
              "      <td>0.0</td>\n",
              "      <td>0.0</td>\n",
              "      <td>0.0</td>\n",
              "      <td>0.0</td>\n",
              "      <td>0.0</td>\n",
              "      <td>0.0</td>\n",
              "      <td>0.0</td>\n",
              "      <td>0.0</td>\n",
              "      <td>0.0</td>\n",
              "      <td>0.0</td>\n",
              "      <td>0.0</td>\n",
              "      <td>0.0</td>\n",
              "      <td>1.0</td>\n",
              "      <td>0.0</td>\n",
              "      <td>0.0</td>\n",
              "      <td>0.0</td>\n",
              "      <td>0.0</td>\n",
              "      <td>0.0</td>\n",
              "      <td>0.0</td>\n",
              "      <td>0.0</td>\n",
              "      <td>0.0</td>\n",
              "      <td>0.0</td>\n",
              "      <td>0.0</td>\n",
              "      <td>0.0</td>\n",
              "      <td>1.0</td>\n",
              "      <td>0.0</td>\n",
              "      <td>0.0</td>\n",
              "      <td>0.0</td>\n",
              "      <td>1.0</td>\n",
              "      <td>0.0</td>\n",
              "      <td>0.0</td>\n",
              "      <td>0.0</td>\n",
              "      <td>0.0</td>\n",
              "      <td>0.0</td>\n",
              "      <td>0.0</td>\n",
              "      <td>0.0</td>\n",
              "      <td>0.0</td>\n",
              "      <td>0.0</td>\n",
              "      <td>0.0</td>\n",
              "      <td>0.0</td>\n",
              "    </tr>\n",
              "    <tr>\n",
              "      <th>3</th>\n",
              "      <td>12.298197</td>\n",
              "      <td>-0.085370</td>\n",
              "      <td>12.298197</td>\n",
              "      <td>0.085370</td>\n",
              "      <td>0.847033</td>\n",
              "      <td>388.269</td>\n",
              "      <td>370.125</td>\n",
              "      <td>387.069472</td>\n",
              "      <td>124.0</td>\n",
              "      <td>0.0</td>\n",
              "      <td>0.267458</td>\n",
              "      <td>-0.355369</td>\n",
              "      <td>0.355369</td>\n",
              "      <td>0.267458</td>\n",
              "      <td>1.500000</td>\n",
              "      <td>2.250000</td>\n",
              "      <td>2.875000</td>\n",
              "      <td>1.591350</td>\n",
              "      <td>767.018857</td>\n",
              "      <td>17.104084</td>\n",
              "      <td>13.343032</td>\n",
              "      <td>14.929029</td>\n",
              "      <td>11.579719</td>\n",
              "      <td>7.842445</td>\n",
              "      <td>8.635443</td>\n",
              "      <td>5.877107</td>\n",
              "      <td>6.731444</td>\n",
              "      <td>4.232941</td>\n",
              "      <td>5.056609</td>\n",
              "      <td>2.890092</td>\n",
              "      <td>3.218135</td>\n",
              "      <td>-2.33</td>\n",
              "      <td>3.779222e+05</td>\n",
              "      <td>16.525072</td>\n",
              "      <td>7.054447</td>\n",
              "      <td>3.436063</td>\n",
              "      <td>148.562357</td>\n",
              "      <td>15.200677</td>\n",
              "      <td>17.581012</td>\n",
              "      <td>0.0</td>\n",
              "      <td>...</td>\n",
              "      <td>0.0</td>\n",
              "      <td>0.0</td>\n",
              "      <td>0.0</td>\n",
              "      <td>0.0</td>\n",
              "      <td>0.0</td>\n",
              "      <td>0.0</td>\n",
              "      <td>0.0</td>\n",
              "      <td>0.0</td>\n",
              "      <td>0.0</td>\n",
              "      <td>0.0</td>\n",
              "      <td>0.0</td>\n",
              "      <td>0.0</td>\n",
              "      <td>1.0</td>\n",
              "      <td>0.0</td>\n",
              "      <td>0.0</td>\n",
              "      <td>0.0</td>\n",
              "      <td>0.0</td>\n",
              "      <td>0.0</td>\n",
              "      <td>0.0</td>\n",
              "      <td>0.0</td>\n",
              "      <td>0.0</td>\n",
              "      <td>0.0</td>\n",
              "      <td>0.0</td>\n",
              "      <td>0.0</td>\n",
              "      <td>1.0</td>\n",
              "      <td>0.0</td>\n",
              "      <td>0.0</td>\n",
              "      <td>0.0</td>\n",
              "      <td>1.0</td>\n",
              "      <td>0.0</td>\n",
              "      <td>0.0</td>\n",
              "      <td>0.0</td>\n",
              "      <td>0.0</td>\n",
              "      <td>0.0</td>\n",
              "      <td>0.0</td>\n",
              "      <td>0.0</td>\n",
              "      <td>0.0</td>\n",
              "      <td>0.0</td>\n",
              "      <td>0.0</td>\n",
              "      <td>0.0</td>\n",
              "    </tr>\n",
              "    <tr>\n",
              "      <th>4</th>\n",
              "      <td>12.387258</td>\n",
              "      <td>-0.040667</td>\n",
              "      <td>12.387258</td>\n",
              "      <td>0.040667</td>\n",
              "      <td>0.681761</td>\n",
              "      <td>413.319</td>\n",
              "      <td>392.151</td>\n",
              "      <td>412.089873</td>\n",
              "      <td>134.0</td>\n",
              "      <td>0.0</td>\n",
              "      <td>0.267458</td>\n",
              "      <td>-0.356445</td>\n",
              "      <td>0.356445</td>\n",
              "      <td>0.267458</td>\n",
              "      <td>1.230769</td>\n",
              "      <td>2.000000</td>\n",
              "      <td>2.730769</td>\n",
              "      <td>1.376538</td>\n",
              "      <td>924.389107</td>\n",
              "      <td>18.095647</td>\n",
              "      <td>14.627869</td>\n",
              "      <td>16.213866</td>\n",
              "      <td>12.597357</td>\n",
              "      <td>8.866938</td>\n",
              "      <td>9.659936</td>\n",
              "      <td>6.752885</td>\n",
              "      <td>7.607222</td>\n",
              "      <td>4.933988</td>\n",
              "      <td>5.757655</td>\n",
              "      <td>3.402552</td>\n",
              "      <td>3.730596</td>\n",
              "      <td>-2.34</td>\n",
              "      <td>1.351091e+06</td>\n",
              "      <td>17.092841</td>\n",
              "      <td>7.113005</td>\n",
              "      <td>3.464258</td>\n",
              "      <td>160.486499</td>\n",
              "      <td>15.200677</td>\n",
              "      <td>11.511791</td>\n",
              "      <td>0.0</td>\n",
              "      <td>...</td>\n",
              "      <td>0.0</td>\n",
              "      <td>0.0</td>\n",
              "      <td>0.0</td>\n",
              "      <td>0.0</td>\n",
              "      <td>0.0</td>\n",
              "      <td>0.0</td>\n",
              "      <td>0.0</td>\n",
              "      <td>0.0</td>\n",
              "      <td>0.0</td>\n",
              "      <td>0.0</td>\n",
              "      <td>0.0</td>\n",
              "      <td>0.0</td>\n",
              "      <td>0.0</td>\n",
              "      <td>0.0</td>\n",
              "      <td>0.0</td>\n",
              "      <td>0.0</td>\n",
              "      <td>0.0</td>\n",
              "      <td>0.0</td>\n",
              "      <td>0.0</td>\n",
              "      <td>1.0</td>\n",
              "      <td>0.0</td>\n",
              "      <td>0.0</td>\n",
              "      <td>0.0</td>\n",
              "      <td>0.0</td>\n",
              "      <td>1.0</td>\n",
              "      <td>0.0</td>\n",
              "      <td>0.0</td>\n",
              "      <td>0.0</td>\n",
              "      <td>1.0</td>\n",
              "      <td>0.0</td>\n",
              "      <td>0.0</td>\n",
              "      <td>0.0</td>\n",
              "      <td>0.0</td>\n",
              "      <td>0.0</td>\n",
              "      <td>0.0</td>\n",
              "      <td>0.0</td>\n",
              "      <td>0.0</td>\n",
              "      <td>0.0</td>\n",
              "      <td>0.0</td>\n",
              "      <td>0.0</td>\n",
              "    </tr>\n",
              "  </tbody>\n",
              "</table>\n",
              "<p>5 rows × 200 columns</p>\n",
              "</div>"
            ],
            "text/plain": [
              "   MaxEStateIndex  MinEStateIndex  ...  fr_unbrch_alkane  fr_urea\n",
              "0       12.198481       -0.435597  ...               0.0      0.0\n",
              "1       12.517532       -0.411106  ...               0.0      0.0\n",
              "2       12.472623       -0.518193  ...               0.0      0.0\n",
              "3       12.298197       -0.085370  ...               0.0      0.0\n",
              "4       12.387258       -0.040667  ...               0.0      0.0\n",
              "\n",
              "[5 rows x 200 columns]"
            ]
          },
          "metadata": {
            "tags": []
          },
          "execution_count": 73
        }
      ]
    },
    {
      "cell_type": "code",
      "metadata": {
        "id": "6a2s2scJp0uO",
        "colab_type": "code",
        "outputId": "3c8eb5d1-9cdc-4b22-dca8-d71eeee67fb2",
        "colab": {
          "base_uri": "https://localhost:8080/",
          "height": 458
        }
      },
      "source": [
        "# Molecular weight versus Partition coefficient (octanol/water)\n",
        "sns.jointplot('MolWt', 'MolLogP', data=tmpdess)"
      ],
      "execution_count": 74,
      "outputs": [
        {
          "output_type": "execute_result",
          "data": {
            "text/plain": [
              "<seaborn.axisgrid.JointGrid at 0x7f7dae6c2a20>"
            ]
          },
          "metadata": {
            "tags": []
          },
          "execution_count": 74
        },
        {
          "output_type": "display_data",
          "data": {
            "image/png": "[encoded data removed]",
            "text/plain": [
              "<Figure size 432x432 with 3 Axes>"
            ]
          },
          "metadata": {
            "tags": []
          }
        }
      ]
    },
    {
      "cell_type": "code",
      "metadata": {
        "id": "lQUtmUYT_xJI",
        "colab_type": "code",
        "colab": {}
      },
      "source": [
        "# Concatenating Mol, IC50 and descriptor dataframes\n",
        "final_dataset = pd.concat([pp[[\"ID\", \"Smiles\"]], df[\"SAU Gyr IC50 (µM)\"], tmpdess], axis=1)\n",
        "final_dataset = final_dataset.rename(columns={\"SAU Gyr IC50 (µM)\":\"IC50\"})\n",
        "final_dataset = final_dataset.dropna(how ='any')"
      ],
      "execution_count": 0,
      "outputs": []
    },
    {
      "cell_type": "markdown",
      "metadata": {
        "id": "IUt6SvFNlWvM",
        "colab_type": "text"
      },
      "source": [
        "### Data cleaning"
      ]
    },
    {
      "cell_type": "markdown",
      "metadata": {
        "id": "4syNHjeYuEnh",
        "colab_type": "text"
      },
      "source": [
        "Finally we have a feature dataset with the compounds information in a vector form, ready for prime time. But before anything else, we have to evaluate which descriptors are correlated, and we should get rid of descriptor $\\text{IPC}$ (the magnitude of this feature is insane, e.g. $\\sim 10^5$) and those columns with all values $0$."
      ]
    },
    {
      "cell_type": "code",
      "metadata": {
        "id": "m7mK9oMSD95u",
        "colab_type": "code",
        "colab": {}
      },
      "source": [
        "final_dataset = final_dataset.drop(['Ipc'], axis=1)       # Drop IPC!!!!\n",
        "\n",
        "headers = list(final_dataset.head(1))                     # Get column names\n",
        "for col in headers[1:]:                                   # Drop empty columns\n",
        "    if final_dataset[col].sum() == 0:\n",
        "        final_dataset = final_dataset.drop([col], axis=1)"
      ],
      "execution_count": 0,
      "outputs": []
    },
    {
      "cell_type": "markdown",
      "metadata": {
        "id": "ujSsM42qt_TE",
        "colab_type": "text"
      },
      "source": [
        "Remove correlated descriptors"
      ]
    },
    {
      "cell_type": "code",
      "metadata": {
        "id": "OBDyYnO7lkDJ",
        "colab_type": "code",
        "colab": {}
      },
      "source": [
        "# Create correlation matrix\n",
        "corr_matrix = final_dataset.corr().abs()\n",
        "\n",
        "# Select upper triangle of correlation matrix\n",
        "upper = corr_matrix.where(np.triu(np.ones(corr_matrix.shape), k=1).astype(np.bool))\n",
        "\n",
        "# Find features with correlation greater than 0.95\n",
        "to_drop = [column for column in upper.columns if any(upper[column] > 0.95)]\n",
        "\n",
        "# Drop features \n",
        "for col in to_drop:\n",
        "    final_dataset.drop(col, axis=1, inplace=True)"
      ],
      "execution_count": 0,
      "outputs": []
    },
    {
      "cell_type": "code",
      "metadata": {
        "id": "-O0NSQl_Qcxe",
        "colab_type": "code",
        "outputId": "b0230856-fac3-4ba7-b7f2-2f00ed65c4df",
        "colab": {
          "base_uri": "https://localhost:8080/",
          "height": 34
        }
      },
      "source": [
        "# How many descriptors were removed\n",
        "old = len(descriptors)\n",
        "new = len(list(final_dataset.head(1))[3:])\n",
        "print(\"%i descriptors were removed\" % (old - new))\n",
        "\n",
        "# Update descriptors list\n",
        "descriptors = list(final_dataset.head(1))[3:]"
      ],
      "execution_count": 78,
      "outputs": [
        {
          "output_type": "stream",
          "text": [
            "69 descriptors were removed\n"
          ],
          "name": "stdout"
        }
      ]
    },
    {
      "cell_type": "markdown",
      "metadata": {
        "id": "BNhW36AlnFy5",
        "colab_type": "text"
      },
      "source": [
        "The Qualifiers dilema\n",
        "-------------------------\n",
        "\n",
        "Now it is time to combine the features and the prediction targets, the $\\text{IC50}$s. This dataset includes experimental mesurements from different studies, which in itself it's a challenge if you can to predict $\\log{\\text{IC50}}$s. But, more importantly we don't have accurate measurements for all compunds in the datatset, some of the reported affinities have qualifiers, like $>400\\; \\mu M$. For now, let's deal with this problem by flagging the values with \">\" and \"<\" signs and removing these symbols."
      ]
    },
    {
      "cell_type": "code",
      "metadata": {
        "id": "wDfyD5uPkhKg",
        "colab_type": "code",
        "colab": {}
      },
      "source": [
        "# Comment this latter, \\\n",
        "# remove qualifiers using final_dataset[~filters]\n",
        "pattern = \"[<]\"\n",
        "filters = final_dataset.IC50.str.contains(pattern)\n",
        "final_dataset[\"left_saturated\"] = filters\n",
        "\n",
        "pattern = \"[>]\"\n",
        "filters = final_dataset.IC50.str.contains(pattern)\n",
        "final_dataset[\"right_saturated\"] = filters\n",
        "\n",
        "# Reorder dataframe\n",
        "cols = final_dataset.columns.tolist()\n",
        "cols = cols[:3] + cols[-2:] + cols[4:]\n",
        "final_dataset = final_dataset[cols]"
      ],
      "execution_count": 0,
      "outputs": []
    },
    {
      "cell_type": "markdown",
      "metadata": {
        "id": "43EtBmUY0A8c",
        "colab_type": "text"
      },
      "source": [
        "Remove the qualifiers, remember there is a new column named _Qualifiers_ that can be used to discriminated the $\\text{IC50}$s."
      ]
    },
    {
      "cell_type": "code",
      "metadata": {
        "id": "Ge5H9uaaydGc",
        "colab_type": "code",
        "colab": {}
      },
      "source": [
        "final_dataset['IC50'] = final_dataset['IC50'].str.replace(r'[><]', '')"
      ],
      "execution_count": 0,
      "outputs": []
    },
    {
      "cell_type": "markdown",
      "metadata": {
        "id": "fSJ-_noktmyE",
        "colab_type": "text"
      },
      "source": [
        "Log-transform $\\text{IC50}$ values and rename set."
      ]
    },
    {
      "cell_type": "code",
      "metadata": {
        "id": "0uPpg-0EtlYZ",
        "colab_type": "code",
        "colab": {}
      },
      "source": [
        "final_dataset['IC50'] = final_dataset['IC50'].apply(lambda x: np.log(float(x)))\n",
        "final_dataset = final_dataset.rename(columns={\"IC50\": \"pIC50\"})"
      ],
      "execution_count": 0,
      "outputs": []
    },
    {
      "cell_type": "markdown",
      "metadata": {
        "id": "FwhWP5yVaPYf",
        "colab_type": "text"
      },
      "source": [
        "Save clean dataset in `Google Drive`."
      ]
    },
    {
      "cell_type": "code",
      "metadata": {
        "id": "LYA-gqNraLr2",
        "colab_type": "code",
        "outputId": "3484de90-ade3-42c6-e8a3-6fe4105ebf42",
        "colab": {
          "base_uri": "https://localhost:8080/",
          "height": 34
        }
      },
      "source": [
        "from google.colab import drive\n",
        "drive.mount('/content/drive')"
      ],
      "execution_count": 82,
      "outputs": [
        {
          "output_type": "stream",
          "text": [
            "Drive already mounted at /content/drive; to attempt to forcibly remount, call drive.mount(\"/content/drive\", force_remount=True).\n"
          ],
          "name": "stdout"
        }
      ]
    },
    {
      "cell_type": "code",
      "metadata": {
        "id": "GnUJYZwraJ_0",
        "colab_type": "code",
        "colab": {}
      },
      "source": [
        "# Save in Google Drive\n",
        "final_dataset.to_csv('/content/drive/My Drive/Hack 7/Gyrase/AZ_clean_qual.csv')"
      ],
      "execution_count": 0,
      "outputs": []
    }
  ]
}