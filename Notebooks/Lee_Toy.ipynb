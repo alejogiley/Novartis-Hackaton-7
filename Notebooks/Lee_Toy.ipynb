{
 "cells": [
  {
   "cell_type": "code",
   "execution_count": 1,
   "metadata": {},
   "outputs": [
    {
     "name": "stderr",
     "output_type": "stream",
     "text": [
      "Using TensorFlow backend.\n",
      "/anaconda3/lib/python3.7/importlib/_bootstrap.py:219: RuntimeWarning: compiletime version 3.6 of module 'tensorflow.python.framework.fast_tensor_util' does not match runtime version 3.7\n",
      "  return f(*args, **kwds)\n"
     ]
    }
   ],
   "source": [
    "# Load libraries\n",
    "import numpy as np\n",
    "\n",
    "# Machine learning\n",
    "from keras.models import Sequential\n",
    "from keras.layers import Dropout\n",
    "from keras.layers import Dense, Activation\n",
    "\n",
    "from sklearn import preprocessing\n",
    "\n",
    "# Visualization\n",
    "import matplotlib.pyplot as plt\n",
    "\n",
    "# Set random seed\n",
    "np.random.seed(0)"
   ]
  },
  {
   "cell_type": "code",
   "execution_count": 14,
   "metadata": {},
   "outputs": [
    {
     "name": "stdout",
     "output_type": "stream",
     "text": [
      "Name: tensorflow\r\n",
      "Version: 1.13.1\r\n",
      "Summary: TensorFlow is an open source machine learning framework for everyone.\r\n",
      "Home-page: https://www.tensorflow.org/\r\n",
      "Author: Google Inc.\r\n",
      "Author-email: opensource@google.com\r\n",
      "License: Apache 2.0\r\n",
      "Location: /anaconda3/lib/python3.7/site-packages\r\n",
      "Requires: tensorflow-estimator, grpcio, protobuf, keras-preprocessing, keras-applications, astor, gast, absl-py, numpy, six, termcolor, wheel, tensorboard\r\n",
      "Required-by: \r\n"
     ]
    }
   ],
   "source": [
    "!pip show tensorflow"
   ]
  },
  {
   "cell_type": "code",
   "execution_count": 2,
   "metadata": {},
   "outputs": [],
   "source": [
    "# mean and standard deviation\n",
    "mu, sigma = 0, 1 \n",
    "\n",
    "# synthetic data dimensions\n",
    "a = 60\n",
    "b = 40\n",
    "\n",
    "# data X\n",
    "x = np.arange(-2, 5, 7/(a+b))\n",
    "\n",
    "# data Y with random noise\n",
    "o = 2 * np.arange(-2, 3, 5/a) + 0.1 * np.random.normal(mu, sigma, a)\n",
    "#t = 5 * np.arange( 3, 5, 2/b) + 0.5 * np.random.normal(mu, sigma, b)\n",
    "t = np.arange( 14, 15, 1/b)\n",
    "y = np.concatenate((o, t), axis=None)\n",
    "\n",
    "# test data\n",
    "o = 2 * np.arange(-2, 3, 5/a) + 0.1 * np.random.normal(mu, sigma, a)\n",
    "#t = 5 * np.arange( 3, 5, 2/b) + 0.5 * np.random.normal(mu, sigma, b)\n",
    "test_y = np.concatenate((o, t), axis=None)\n",
    "\n",
    "# sample weights\n",
    "s = (y > 14).astype(int)"
   ]
  },
  {
   "cell_type": "code",
   "execution_count": 3,
   "metadata": {},
   "outputs": [
    {
     "data": {
      "text/plain": [
       "(array([0, 0, 0, 0, 0, 0, 0, 0, 0, 0, 0, 0, 0, 0, 0, 0, 0, 0, 0, 0, 0, 0,\n",
       "        0, 0, 0, 0, 0, 0, 0, 0, 0, 0, 0, 0, 0, 0, 0, 0, 0, 0, 0, 0, 0, 0,\n",
       "        0, 0, 0, 0, 0, 0, 0, 0, 0, 0, 0, 0, 0, 0, 0, 0, 0, 1, 1, 1, 1, 1,\n",
       "        1, 1, 1, 1, 1, 1, 1, 1, 1, 1, 1, 1, 1, 1, 1, 1, 1, 1, 1, 1, 1, 1,\n",
       "        1, 1, 1, 1, 1, 1, 1, 1, 1, 1, 1, 1]),\n",
       " array([-3.82359477, -3.79331761, -3.56879287, -3.27591068, -3.14657753,\n",
       "        -3.26439445, -2.90499116, -2.84846905, -2.67698855, -2.45894015,\n",
       "        -2.31892898, -2.02123932, -1.92389623, -1.82116583, -1.62228034,\n",
       "        -1.46663257, -1.18392543, -1.18718249, -0.96869323, -0.91874291,\n",
       "        -0.92196565, -0.43463814, -0.24688971, -0.24088317,  0.22697546,\n",
       "         0.0212301 ,  0.33790919,  0.48128161,  0.81994459,  0.98026921,\n",
       "         1.01549474,  1.20448292,  1.24455476,  1.30192035,  1.63187545,\n",
       "         1.84896823,  2.12302907,  2.28690465,  2.29460065,  2.46976972,\n",
       "         2.56181137,  2.69133154,  2.82937298,  3.36174421,  3.28236812,\n",
       "         3.45619257,  3.54138713,  3.91108237,  3.83861022,  4.14539264,\n",
       "         4.24378668,  4.53869025,  4.61558615,  4.71527011,  4.99718178,\n",
       "         5.20949985,  5.33998506,  5.53024719,  5.60323446,  5.79705922,\n",
       "        14.        , 14.025     , 14.05      , 14.075     , 14.1       ,\n",
       "        14.125     , 14.15      , 14.175     , 14.2       , 14.225     ,\n",
       "        14.25      , 14.275     , 14.3       , 14.325     , 14.35      ,\n",
       "        14.375     , 14.4       , 14.425     , 14.45      , 14.475     ,\n",
       "        14.5       , 14.525     , 14.55      , 14.575     , 14.6       ,\n",
       "        14.625     , 14.65      , 14.675     , 14.7       , 14.725     ,\n",
       "        14.75      , 14.775     , 14.8       , 14.825     , 14.85      ,\n",
       "        14.875     , 14.9       , 14.925     , 14.95      , 14.975     ]))"
      ]
     },
     "execution_count": 3,
     "metadata": {},
     "output_type": "execute_result"
    }
   ],
   "source": [
    "s, y"
   ]
  },
  {
   "cell_type": "code",
   "execution_count": 4,
   "metadata": {},
   "outputs": [
    {
     "name": "stdout",
     "output_type": "stream",
     "text": [
      "WARNING:tensorflow:From /anaconda3/lib/python3.7/site-packages/tensorflow/python/framework/op_def_library.py:263: colocate_with (from tensorflow.python.framework.ops) is deprecated and will be removed in a future version.\n",
      "Instructions for updating:\n",
      "Colocations handled automatically by placer.\n"
     ]
    }
   ],
   "source": [
    "# Start neural network\n",
    "network = Sequential()\n",
    "\n",
    "#network.add(Dense(units=1, activation='linear', input_shape=(1, )))\n",
    "\n",
    "# Add fully connected layer with a ReLU activation function\n",
    "network.add(Dense(units=16, activation='relu', input_shape=(1, )))\n",
    "\n",
    "# Add dropout layer\n",
    "# network.add(Dropout(0.2))\n",
    "\n",
    "# Add fully connected layer with a ReLU activation function\n",
    "network.add(Dense(units=16, activation='relu'))\n",
    "\n",
    "# Add fully connected layer with a sigmoid activation function\n",
    "network.add(Dense(units=1, activation='linear'))"
   ]
  },
  {
   "cell_type": "code",
   "execution_count": 5,
   "metadata": {},
   "outputs": [],
   "source": [
    "def custom_loss(y_true, y_pred):\n",
    "    z = y_pred - y_true\n",
    "    g = y_pred - 5\n",
    "    return K.mean((1-s)*K.square(z) + s*K.relu(-g), axis=-1)"
   ]
  },
  {
   "cell_type": "code",
   "execution_count": 6,
   "metadata": {},
   "outputs": [],
   "source": [
    "# Compile neural network\n",
    "network.compile(loss=custom_loss, # Custom\n",
    "                optimizer='sgd',  # Root Mean Square Propagation\n",
    "                metrics=['mse'])  # Accuracy performance metric"
   ]
  },
  {
   "cell_type": "code",
   "execution_count": 7,
   "metadata": {},
   "outputs": [
    {
     "name": "stdout",
     "output_type": "stream",
     "text": [
      "WARNING:tensorflow:From /anaconda3/lib/python3.7/site-packages/tensorflow/python/ops/math_ops.py:3066: to_int32 (from tensorflow.python.ops.math_ops) is deprecated and will be removed in a future version.\n",
      "Instructions for updating:\n",
      "Use tf.cast instead.\n"
     ]
    }
   ],
   "source": [
    "# Train neural network\n",
    "history = network.fit(x,             # Features\n",
    "                      y,             # Target\n",
    "                      epochs=100,    # Number of epochs\n",
    "                      verbose=0,     # No output\n",
    "                      batch_size=10, # Number of observations per batch\n",
    "                      validation_data=(x, test_y)) # Data for evaluation"
   ]
  },
  {
   "cell_type": "code",
   "execution_count": 8,
   "metadata": {},
   "outputs": [
    {
     "data": {
      "image/png": "[encoded data removed]",
      "text/plain": [
       "<Figure size 432x288 with 1 Axes>"
      ]
     },
     "metadata": {
      "needs_background": "light"
     },
     "output_type": "display_data"
    }
   ],
   "source": [
    "# Get training and test loss histories\n",
    "training_loss = history.history['loss']\n",
    "test_loss = history.history['val_loss']\n",
    "\n",
    "# Create count of the number of epochs\n",
    "epoch_count = range(1, len(training_loss) + 1)\n",
    "\n",
    "# Visualize loss history\n",
    "plt.plot(epoch_count, training_loss, 'r--')\n",
    "plt.plot(epoch_count, test_loss, 'b-')\n",
    "plt.legend(['Training Loss', 'Test Loss'])\n",
    "plt.xlabel('Epoch')\n",
    "plt.ylabel('Loss')\n",
    "plt.show();"
   ]
  },
  {
   "cell_type": "code",
   "execution_count": 9,
   "metadata": {},
   "outputs": [
    {
     "name": "stdout",
     "output_type": "stream",
     "text": [
      "_________________________________________________________________\n",
      "Layer (type)                 Output Shape              Param #   \n",
      "=================================================================\n",
      "dense_1 (Dense)              (None, 16)                32        \n",
      "_________________________________________________________________\n",
      "dense_2 (Dense)              (None, 16)                272       \n",
      "_________________________________________________________________\n",
      "dense_3 (Dense)              (None, 1)                 17        \n",
      "=================================================================\n",
      "Total params: 321\n",
      "Trainable params: 321\n",
      "Non-trainable params: 0\n",
      "_________________________________________________________________\n"
     ]
    }
   ],
   "source": [
    "network.summary()"
   ]
  },
  {
   "cell_type": "code",
   "execution_count": 13,
   "metadata": {},
   "outputs": [
    {
     "data": {
      "image/png": "[encoded data removed]",
      "text/plain": [
       "<Figure size 432x288 with 1 Axes>"
      ]
     },
     "metadata": {
      "needs_background": "light"
     },
     "output_type": "display_data"
    }
   ],
   "source": [
    "plt.scatter(x, network.predict(x))\n",
    "plt.scatter(x, y, color='red')\n",
    "plt.plot([-2, 5], [-4, 10], color='k')\n",
    "plt.show()"
   ]
  },
  {
   "cell_type": "code",
   "execution_count": null,
   "metadata": {},
   "outputs": [],
   "source": []
  },
  {
   "cell_type": "code",
   "execution_count": null,
   "metadata": {},
   "outputs": [],
   "source": []
  }
 ],
 "metadata": {
  "kernelspec": {
   "display_name": "Python 3",
   "language": "python",
   "name": "python3"
  },
  "language_info": {
   "codemirror_mode": {
    "name": "ipython",
    "version": 3
   },
   "file_extension": ".py",
   "mimetype": "text/x-python",
   "name": "python",
   "nbconvert_exporter": "python",
   "pygments_lexer": "ipython3",
   "version": "3.7.3"
  }
 },
 "nbformat": 4,
 "nbformat_minor": 2
}
